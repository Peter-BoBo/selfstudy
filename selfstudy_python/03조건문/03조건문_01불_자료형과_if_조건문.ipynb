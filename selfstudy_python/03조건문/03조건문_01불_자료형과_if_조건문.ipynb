{
 "cells": [
  {
   "cell_type": "markdown",
   "id": "c6ef3046",
   "metadata": {},
   "source": [
    "# 불 자료형과 if 조건문\n",
    "\n",
    "* 불(boolean): 참과 거짓을 나타내는 값\n",
    "* 불은 오직 True(참)과 False(거짓) 값만 가질 수 있다."
   ]
  },
  {
   "cell_type": "markdown",
   "id": "dc8f560e",
   "metadata": {},
   "source": [
    "## *불 만들기: 비교 연산자\n",
    "\n",
    "* ==: 같다\n",
    "* \\!=: 다르다\n",
    "* <: 작다\n",
    "* \\>: 크다\n",
    "* <= 작거나 같다\n",
    "* \\>=: 크거나 같다"
   ]
  },
  {
   "cell_type": "code",
   "execution_count": 2,
   "id": "ed574313",
   "metadata": {},
   "outputs": [
    {
     "data": {
      "text/plain": [
       "True"
      ]
     },
     "execution_count": 2,
     "metadata": {},
     "output_type": "execute_result"
    }
   ],
   "source": [
    "\"가방\" == \"가방\""
   ]
  },
  {
   "cell_type": "code",
   "execution_count": 3,
   "id": "53f0de0f",
   "metadata": {},
   "outputs": [
    {
     "data": {
      "text/plain": [
       "True"
      ]
     },
     "execution_count": 3,
     "metadata": {},
     "output_type": "execute_result"
    }
   ],
   "source": [
    "\"가방\" != \"하마\""
   ]
  },
  {
   "cell_type": "code",
   "execution_count": 7,
   "id": "db2caf45",
   "metadata": {},
   "outputs": [
    {
     "data": {
      "text/plain": [
       "True"
      ]
     },
     "execution_count": 7,
     "metadata": {},
     "output_type": "execute_result"
    }
   ],
   "source": [
    "\"가방\" < \"하마\""
   ]
  },
  {
   "cell_type": "code",
   "execution_count": 8,
   "id": "9a68f4d7",
   "metadata": {},
   "outputs": [
    {
     "data": {
      "text/plain": [
       "False"
      ]
     },
     "execution_count": 8,
     "metadata": {},
     "output_type": "execute_result"
    }
   ],
   "source": [
    "\"가방\" > \"하마\""
   ]
  },
  {
   "cell_type": "code",
   "execution_count": 9,
   "id": "ca415bfa",
   "metadata": {},
   "outputs": [
    {
     "data": {
      "text/plain": [
       "True"
      ]
     },
     "execution_count": 9,
     "metadata": {},
     "output_type": "execute_result"
    }
   ],
   "source": [
    "x=25\n",
    "10<x<30"
   ]
  },
  {
   "cell_type": "markdown",
   "id": "ea5453ac",
   "metadata": {},
   "source": [
    "## 불 연산하기: 논리 연산자\n",
    "\n",
    "* not= 아니다: 불을 반대로 전환한다.\n",
    "* and= 그리고: 피연산자 두 개가 모두 참일 때 True를 출력하며, 그 외는 모두 False를 출력한다.\n",
    "* or= 또는: 피연산자 두 개 중에 하나만 참이라도 True를 출력하며, 두 개가 모두 거짓일 때만 False를 출력한다."
   ]
  },
  {
   "cell_type": "markdown",
   "id": "28ffa097",
   "metadata": {},
   "source": [
    "### not 연산자"
   ]
  },
  {
   "cell_type": "code",
   "execution_count": 11,
   "id": "9d7d2b4f",
   "metadata": {},
   "outputs": [
    {
     "name": "stdout",
     "output_type": "stream",
     "text": [
      "under_20: True\n",
      "not unner_20 False\n"
     ]
    }
   ],
   "source": [
    "# not 연산자 조합하기\n",
    "\n",
    "x=10\n",
    "under_20 = x < 20 # under_20 = (x<20)\n",
    "\n",
    "print(\"under_20:\", under_20)\n",
    "print(\"not unner_20\", not under_20)"
   ]
  },
  {
   "cell_type": "markdown",
   "id": "de16501f",
   "metadata": {},
   "source": [
    "### and 연산자와 or 연산자"
   ]
  },
  {
   "cell_type": "code",
   "execution_count": 12,
   "id": "d88fd9b7",
   "metadata": {},
   "outputs": [
    {
     "name": "stdout",
     "output_type": "stream",
     "text": [
      "True\n",
      "False\n",
      "False\n",
      "False\n",
      "True\n",
      "True\n",
      "True\n",
      "False\n"
     ]
    }
   ],
   "source": [
    "print(True and True)\n",
    "\n",
    "print(True and False)\n",
    "\n",
    "print(False and True)\n",
    "\n",
    "print(False and False)\n",
    "\n",
    "print(True or True)\n",
    "\n",
    "print(True or False)\n",
    "\n",
    "print(False or True)\n",
    "\n",
    "print(False or False)"
   ]
  },
  {
   "cell_type": "markdown",
   "id": "d4122d19",
   "metadata": {},
   "source": [
    "## ※if 조건문※\n",
    "**너무너무너무 중요하다**\n",
    "* if 불 값이 나오는 표현식:\n",
    "        <br>불 값이 참일 때 실행할 문장\n",
    "* 들여쓰기는 4칸\n"
   ]
  },
  {
   "cell_type": "markdown",
   "id": "e6836abc",
   "metadata": {},
   "source": [
    "* **if 조건문에서 사용 가능한 연산자와 자료형:**\n",
    "\n",
    "비교 연산자:\n",
    "- `==` (같다)\n",
    "- `!=` (같지 않다)\n",
    "- `>` (크다)\n",
    "- `<` (작다)\n",
    "- `>=` (크거나 같다)\n",
    "- `<=` (작거나 같다)\n",
    "\n",
    "논리 연산자:\n",
    "- `and` (그리고)\n",
    "- `or` (또는)\n",
    "- `not` (부정)\n",
    "\n",
    "자료형 조건:\n",
    "1. 숫자형\n",
    "- 0이 아니면 True\n",
    "- 0이면 False\n",
    "\n",
    "2. 문자열\n",
    "- 빈 문자열(\"\")이면 False\n",
    "- 내용 있으면 True\n",
    "\n",
    "3. 리스트/튜플\n",
    "- 비어있으면 False\n",
    "- 요소 있으면 True\n",
    "\n",
    "4. None\n",
    "- None은 항상 False\n",
    "\n",
    "예시:\n",
    "```python\n",
    "if 10:        # True\n",
    "if \"hello\":   # True\n",
    "if [1,2,3]:   # True\n",
    "if 0:         # False\n",
    "if \"\":        # False\n",
    "if None:      # False\n",
    "```"
   ]
  },
  {
   "cell_type": "code",
   "execution_count": 14,
   "id": "97efd38a",
   "metadata": {},
   "outputs": [
    {
     "name": "stdout",
     "output_type": "stream",
     "text": [
      "True입니다...!\n",
      "정말 True입니다...!\n"
     ]
    }
   ],
   "source": [
    "if True:\n",
    "    print(\"True입니다...!\")\n",
    "    print(\"정말 True입니다...!\")"
   ]
  },
  {
   "cell_type": "code",
   "execution_count": 25,
   "id": "ef2af509",
   "metadata": {},
   "outputs": [],
   "source": [
    "if False:\n",
    "    print(\"False입니다...!\")\n",
    "    print(\"정말 True입니다...!\")"
   ]
  },
  {
   "cell_type": "code",
   "execution_count": 29,
   "id": "f4189dd8",
   "metadata": {},
   "outputs": [
    {
     "name": "stdout",
     "output_type": "stream",
     "text": [
      "정수 입력> -17\n",
      "음수입니다\n"
     ]
    }
   ],
   "source": [
    "# 조건문의 기본 사용\n",
    "number = int(input(\"정수 입력> \"))\n",
    "\n",
    "if number > 0:\n",
    "    print(\"양수입니다\")\n",
    "    \n",
    "if number < 0:\n",
    "    print(\"음수입니다\")\n",
    "    \n",
    "if number == 0:\n",
    "    print(\"0입니다\")"
   ]
  },
  {
   "cell_type": "markdown",
   "id": "a8977cc5",
   "metadata": {},
   "source": [
    "## 날짜/시간 활용하기\n"
   ]
  },
  {
   "cell_type": "code",
   "execution_count": 31,
   "id": "54442010",
   "metadata": {},
   "outputs": [
    {
     "name": "stdout",
     "output_type": "stream",
     "text": [
      "2025 년\n",
      "3 월\n",
      "15 일\n",
      "15 시\n",
      "55 분\n",
      "7 초\n"
     ]
    }
   ],
   "source": [
    "# 날짜/시간 출력하기\n",
    "\n",
    "import datetime\n",
    "now = datetime.datetime.now()\n",
    "\n",
    "print(now.year, \"년\")\n",
    "print(now.month, \"월\")\n",
    "print(now.day, \"일\")\n",
    "print(now.hour, \"시\")\n",
    "print(now.minute, \"분\")\n",
    "print(now.second, \"초\")"
   ]
  },
  {
   "cell_type": "code",
   "execution_count": 32,
   "id": "213b65bf",
   "metadata": {},
   "outputs": [
    {
     "name": "stdout",
     "output_type": "stream",
     "text": [
      "2025년 3월 15일 15시 57분 47초\n"
     ]
    }
   ],
   "source": [
    "# 날짜/시간을 한 줄로 출력하기\n",
    "import datetime\n",
    "\n",
    "now = datetime.datetime.now()\n",
    "\n",
    "print(\"{}년 {}월 {}일 {}시 {}분 {}초\".format(\n",
    "    now.year,\n",
    "    now.month,\n",
    "    now.day,\n",
    "    now.hour,\n",
    "    now.minute,\n",
    "    now.second\n",
    "))"
   ]
  },
  {
   "cell_type": "code",
   "execution_count": 36,
   "id": "8d11121d",
   "metadata": {},
   "outputs": [
    {
     "name": "stdout",
     "output_type": "stream",
     "text": [
      "현재 시각은 15시로 오전입니다!\n"
     ]
    }
   ],
   "source": [
    "# 오전과 오후를 구분하는 프로그램\n",
    "\n",
    "import datetime\n",
    "\n",
    "now = datetime.datetime.now()\n",
    "\n",
    "if now.hour < 12:\n",
    "    print(\"현재 시각은 {}시로 오전입니다!\".format(now.hour))\n",
    "    \n",
    "if now.hour >= 12:\n",
    "    print(\"현재 시각은 {}시로 오후입니다\")"
   ]
  },
  {
   "cell_type": "code",
   "execution_count": 54,
   "id": "8588d131",
   "metadata": {},
   "outputs": [
    {
     "name": "stdout",
     "output_type": "stream",
     "text": [
      "이번 달은 3월로 봄입니다!\n"
     ]
    }
   ],
   "source": [
    "# 계절을 구분하는 프로그램\n",
    "\n",
    "import datetime\n",
    "\n",
    "now = datetime.datetime.now()\n",
    "\n",
    "if 3 <= now.month <= 5:\n",
    "    print(\"이번 달은 {}월로 봄입니다!\".format(now.month))\n",
    "\n",
    "if 6 <= now.month <= 8:\n",
    "    print(\"이번 달은 {}월로 여름입니다!\".format(now.month))\n",
    "\n",
    "if 9 <= now.month <= 11:\n",
    "    print(\"이번 달은 {}월로 가을입니다!\".format(now.month))\n",
    "    \n",
    "if now.month == 12 or 1 <= now.month <= 2:\n",
    "    print(\"이번 달은 {}월로 겨울입니다!\".format(now.month))"
   ]
  },
  {
   "cell_type": "markdown",
   "id": "2f4253a2",
   "metadata": {},
   "source": [
    "## 짝수와 홀수 구분하기"
   ]
  },
  {
   "cell_type": "code",
   "execution_count": 59,
   "id": "678bcb77",
   "metadata": {},
   "outputs": [
    {
     "name": "stdout",
     "output_type": "stream",
     "text": [
      "정수 입력> 52\n",
      "짝수입니다\n"
     ]
    }
   ],
   "source": [
    "# 끝자리로 짝수와 홀수 구분\n",
    "number = input(\"정수 입력> \")\n",
    "\n",
    "last_character = number[-1]\n",
    "\n",
    "last_number = int(last_character)\n",
    "\n",
    "if last_number == 0 \\\n",
    "    or last_number == 2 \\\n",
    "    or last_number == 4 \\\n",
    "    or last_number == 6 \\\n",
    "    or last_number == 8: \\\n",
    "    print(\"짝수입니다\")\n",
    "\n",
    "if last_number == 1 \\\n",
    "    or last_number == 3 \\\n",
    "    or last_number == 5 \\\n",
    "    or last_number == 7 \\\n",
    "    or last_number == 9: \\\n",
    "    print(\"홀수입니다\")"
   ]
  },
  {
   "cell_type": "code",
   "execution_count": 60,
   "id": "c7c80768",
   "metadata": {},
   "outputs": [
    {
     "name": "stdout",
     "output_type": "stream",
     "text": [
      "정수 입력> 231891\n",
      "홀수입니다\n"
     ]
    }
   ],
   "source": [
    "# in 문자열 연산자를 활용해서 짝수와 홀수 구분\n",
    "\n",
    "number = input(\"정수 입력> \")\n",
    "last_character = number[-1]\n",
    "\n",
    "if last_character in \"02468\":\n",
    "        print(\"짝수입니다\")\n",
    "if last_character in \"13579\":\n",
    "        print(\"홀수입니다\")"
   ]
  },
  {
   "cell_type": "markdown",
   "id": "22abe55d",
   "metadata": {},
   "source": [
    "컴퓨터에서는 어떻게 하는 게 더 빠를까?\n",
    "* 컴퓨터는 모든 것을 숫자로 계산한다"
   ]
  },
  {
   "cell_type": "code",
   "execution_count": 61,
   "id": "76eb7e9f",
   "metadata": {},
   "outputs": [
    {
     "name": "stdout",
     "output_type": "stream",
     "text": [
      "정수 입력> 231685\n",
      "홀수입니다\n"
     ]
    }
   ],
   "source": [
    "# 나머지 연산자를 활용해서 짝수와 홀수 구분\n",
    "number = input(\"정수 입력> \")\n",
    "number = int(number)\n",
    "\n",
    "if number % 2 == 0:\n",
    "    print(\"짝수입니다\")\n",
    "\n",
    "if number % 2 == 1:\n",
    "    print(\"홀수입니다\")"
   ]
  },
  {
   "cell_type": "code",
   "execution_count": 63,
   "id": "7bc834ab",
   "metadata": {},
   "outputs": [
    {
     "data": {
      "text/plain": [
       "True"
      ]
     },
     "execution_count": 63,
     "metadata": {},
     "output_type": "execute_result"
    }
   ],
   "source": [
    "10<=100"
   ]
  },
  {
   "cell_type": "code",
   "execution_count": 72,
   "id": "ca1dd3d7",
   "metadata": {
    "scrolled": true
   },
   "outputs": [
    {
     "name": "stdout",
     "output_type": "stream",
     "text": [
      "> 1번째 숫자: 5\n",
      "> 2번째 숫자: 1\n",
      "\n",
      "처음 입력했던 5.0가 1.0보다 더 큽니다.\n"
     ]
    }
   ],
   "source": [
    "a=float(input(\"> 1번째 숫자: \"))\n",
    "b=float(input(\"> 2번째 숫자: \"))\n",
    "print()\n",
    "\n",
    "if a > b:\n",
    "    print(\"처음 입력했던 {}가 {}보다 더 큽니다.\".format(a, b))\n",
    "if a < b:\n",
    "    print(\"두 번째로 입력했던 {}가 {}보다 더 큽니다.\".format(b, a))    "
   ]
  }
 ],
 "metadata": {
  "kernelspec": {
   "display_name": "Python 3 (ipykernel)",
   "language": "python",
   "name": "python3"
  },
  "language_info": {
   "codemirror_mode": {
    "name": "ipython",
    "version": 3
   },
   "file_extension": ".py",
   "mimetype": "text/x-python",
   "name": "python",
   "nbconvert_exporter": "python",
   "pygments_lexer": "ipython3",
   "version": "3.11.11"
  }
 },
 "nbformat": 4,
 "nbformat_minor": 5
}
