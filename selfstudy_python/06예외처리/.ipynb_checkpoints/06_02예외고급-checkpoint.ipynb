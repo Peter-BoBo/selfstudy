{
 "cells": [
  {
   "cell_type": "markdown",
   "id": "5433d7d3",
   "metadata": {},
   "source": [
    "# 예외 고급\n",
    "* 프로그래밍 언어에서 예외가 발생하면 예외와 관련된 정보가 생긴다.\n",
    "* 이러한 예외 정보는 **예외 객체**에 저장된다.\n",
    "* 큰 규모의 프로그램을 개발할 때는 **\"예외 처리로 떡칠을 한다\"** 라고 표현할 정도.\n",
    "\n",
    "try:<br>\n",
    "&emsp; &nbsp;예외가 발생할 가능성이 있는 구문<br>\n",
    "except **예외의 종류** as **예외 객체를 활용할 변수 이름**:<br>\n",
    "&emsp; &nbsp;예외가 발생했을 때 실행할 구문"
   ]
  },
  {
   "cell_type": "markdown",
   "id": "865c252f",
   "metadata": {},
   "source": [
    "## 예외 객체\n",
    "\n",
    "* '예외의 종류'가 뭔지 몰라 당황하는 경우네는 예외 객체의 어머니 Exception을 사용한다.\n",
    "* 큰 규모의 웹 서비스를 구축한다면 내부에서 다양한 예외가 발생한다."
   ]
  },
  {
   "cell_type": "code",
   "execution_count": 1,
   "id": "4a52db8f",
   "metadata": {},
   "outputs": [
    {
     "name": "stdout",
     "output_type": "stream",
     "text": [
      "정수 입력> yes!!\n",
      "type(exception): <class 'ValueError'>\n",
      "exception: invalid literal for int() with base 10: 'yes!!'\n"
     ]
    }
   ],
   "source": [
    "# 예외 객체\n",
    "\n",
    "try:\n",
    "    number_input_a = int(input(\"정수 입력> \"))\n",
    "    print(\"원의 반지름:\", number_input_a)\n",
    "    print(\"원의 둘레:\", 2 * 3.14 * number_input_a)\n",
    "    print(\"원의 넓이:\", 3.14 * number_input_a * number_input_a)\n",
    "        \n",
    "except Exception as exception:\n",
    "    # 예외 객체 출력\n",
    "    print(\"type(exception):\", type(exception))\n",
    "    print(\"exception:\", exception)"
   ]
  },
  {
   "cell_type": "markdown",
   "id": "a02460a8",
   "metadata": {},
   "source": [
    "## 예외 구분하기\n",
    "* 예외 객체를 사용하면 except 구문을 if 조건문처럼 사용해서 예외를 구분할 수 있다"
   ]
  },
  {
   "cell_type": "markdown",
   "id": "d0f0a492",
   "metadata": {},
   "source": [
    "#### 여러 가지 예외가 발생할 수 있는 상황"
   ]
  },
  {
   "cell_type": "code",
   "execution_count": 6,
   "id": "3a67127c",
   "metadata": {},
   "outputs": [
    {
     "name": "stdout",
     "output_type": "stream",
     "text": [
      "정수 입력> 100\n",
      "type(exception): <class 'IndexError'>\n",
      "exception: list index out of range\n"
     ]
    }
   ],
   "source": [
    "# 여러 가지 예외가 발생할 수 있는 코드\n",
    "\n",
    "list_number = [52, 273, 32, 72, 100]\n",
    "\n",
    "try:\n",
    "    number_input = int(input(\"정수 입력> \"))\n",
    "    print(f\"{number_input}번째 요소: {list_number[number_input]}\")\n",
    "except Exception as exception:\n",
    "    print(\"type(exception):\", type(exception))\n",
    "    print(\"exception:\", exception)"
   ]
  },
  {
   "cell_type": "markdown",
   "id": "ec97a4d3",
   "metadata": {},
   "source": [
    "#### 예외 구분하기\n",
    "\n",
    "try:<br>\n",
    "&emsp; &nbsp;예외가 발생할 가능성이 있는 구문<br>\n",
    "except **예외의 종류A** as **예외 객체를 활용할 변수 이름**:<br>\n",
    "&emsp; &nbsp;예외가 발생했을 때 실행할 구문<br>\n",
    "except **예외의 종류B** as **예외 객체를 활용할 변수 이름**:<br>\n",
    "&emsp; &nbsp;예외가 발생했을 때 실행할 구문<br>\n",
    "except **예외의 종류C** as **예외 객체를 활용할 변수 이름**:<br>\n",
    "&emsp; &nbsp;예외가 발생했을 때 실행할 구문"
   ]
  },
  {
   "cell_type": "code",
   "execution_count": 7,
   "id": "c16ca0b7",
   "metadata": {},
   "outputs": [
    {
     "name": "stdout",
     "output_type": "stream",
     "text": [
      "정수 입력> 100\n",
      "리스트의 인덱스를 벗어났어요!\n"
     ]
    }
   ],
   "source": [
    "# 예외 구분하기\n",
    "\n",
    "list_number = [52, 273, 32, 72, 100]\n",
    "\n",
    "try:\n",
    "    number_input = int(input(\"정수 입력> \"))\n",
    "    print(f\"{number_input}번째 요소: {list_number[number_input]}\")\n",
    "\n",
    "except ValueError:\n",
    "    print(\"정수를 입력해 주세요!\")\n",
    "    \n",
    "except IndexError:\n",
    "    print(\"리스트의 인덱스를 벗어났어요!\")"
   ]
  },
  {
   "cell_type": "markdown",
   "id": "6077f4b9",
   "metadata": {},
   "source": [
    "#### 예외 구분 구문과 예외 객체\n",
    "* 예외를 구분할 때 각각의 except 구문 뒤에 예외 객체를 붙여 활용할 수 있다.\n",
    "* 마찬가지로, as 키워드를 사용하면 된다."
   ]
  },
  {
   "cell_type": "code",
   "execution_count": 12,
   "id": "d5897cb7",
   "metadata": {},
   "outputs": [
    {
     "name": "stdout",
     "output_type": "stream",
     "text": [
      "정수 입력> 100\n",
      "리스트의 인덱스를 벗어났어요!\n",
      "<class 'IndexError'> list index out of range\n"
     ]
    }
   ],
   "source": [
    "# 예외 구문과 예외 객체\n",
    "\n",
    "list_number = [52, 273, 32, 72, 100]\n",
    "\n",
    "try:\n",
    "    number_input = int(input(\"정수 입력> \"))\n",
    "    print(f\"{number_input}번째 요소: {list_number[number_input]}\")\n",
    "\n",
    "except ValueError as exception:\n",
    "    print(\"정수를 입력해 주세요!\")\n",
    "    print(type(exception), exception)\n",
    "    \n",
    "except IndexError as exception:\n",
    "    print(\"리스트의 인덱스를 벗어났어요!\")\n",
    "    print(type(exception), exception)"
   ]
  },
  {
   "cell_type": "markdown",
   "id": "64e61e6f",
   "metadata": {},
   "source": [
    "## 모든 예외 잡기\n",
    "* except 구문으로 예외를 구분하면 if, elif, else 조건문처럼 차례대로 오류를 검출하면서 확인한다."
   ]
  },
  {
   "cell_type": "code",
   "execution_count": 13,
   "id": "dbda3131",
   "metadata": {},
   "outputs": [
    {
     "name": "stdout",
     "output_type": "stream",
     "text": [
      "정수 입력> 1\n",
      "1번째 요소: 273\n",
      "미리 파악하지 못한 예외가 발생했습니다.\n",
      "<class 'NameError'> name '예외' is not defined\n"
     ]
    }
   ],
   "source": [
    "# 예외 처리를 했지만 예외를 못 잡는 경우\n",
    "\n",
    "list_number = [52, 273, 32, 72, 100]\n",
    "\n",
    "try:\n",
    "    number_input = int(input(\"정수 입력> \"))\n",
    "    print(f\"{number_input}번째 요소: {list_number[number_input]}\")\n",
    "    예외.발생해주세요() # 이 부분에서 잡지 않은 예외가 발생한다.\n",
    "\n",
    "except ValueError as exception:\n",
    "    # ValueError가 발생하는 경우\n",
    "    print(\"정수를 입력해 주세요!\")\n",
    "    print(type(exception), exception)\n",
    "    \n",
    "except IndexError as exception:\n",
    "    # IndexError가 발생하는 경우\n",
    "    print(\"리스트의 인덱스를 벗어났어요!\")\n",
    "    print(type(exception), exception)\n",
    "    \n",
    "except Exception as exception: # ValueError와 IndexError가 아닌 예외가 발생했을 때 실행\n",
    "    # 이외의 예외가 발생한 경우\n",
    "    print(\"미리 파악하지 못한 예외가 발생했습니다.\")\n",
    "    print(type(exception), exception)"
   ]
  },
  {
   "cell_type": "code",
   "execution_count": null,
   "id": "efc1692d",
   "metadata": {},
   "outputs": [],
   "source": [
    "# 모든 예외 잡기\n",
    "\n",
    "list_number = [52, 273, 32, 72, 100]\n",
    "\n",
    "try:\n",
    "    number_input = int(input(\"정수 입력> \"))\n",
    "    print(f\"{number_input}번째 요소: {list_number[number_input]}\")\n",
    "    예외.발생해주세요() # 이 부분에서 잡지 않은 예외가 발생한다.\n",
    "\n",
    "except ValueError as exception:\n",
    "    print(\"정수를 입력해 주세요!\")\n",
    "    print(\"exception:\", exception)\n",
    "    \n",
    "except IndexError as exception:\n",
    "    print(\"리스트의 인덱스를 벗어났어요!\")\n",
    "    print(\"exception:\", exception)"
   ]
  },
  {
   "cell_type": "markdown",
   "id": "89489c88",
   "metadata": {},
   "source": [
    "## raise 구문\n",
    "* 아직 구현되지 않은 부분에 일부로 예외를 발생시켜 프로그램 죽게 만들어 잊어버리지 않도록 하는 것.<br>\n",
    "raise **예외 객체**"
   ]
  },
  {
   "cell_type": "code",
   "execution_count": 14,
   "id": "9df529f0",
   "metadata": {},
   "outputs": [
    {
     "name": "stdout",
     "output_type": "stream",
     "text": [
      "정수 입력> 50\n"
     ]
    },
    {
     "ename": "NotImplementedError",
     "evalue": "",
     "output_type": "error",
     "traceback": [
      "\u001b[31m---------------------------------------------------------------------------\u001b[39m",
      "\u001b[31mNotImplementedError\u001b[39m                       Traceback (most recent call last)",
      "\u001b[36mCell\u001b[39m\u001b[36m \u001b[39m\u001b[32mIn[14]\u001b[39m\u001b[32m, line 6\u001b[39m\n\u001b[32m      2\u001b[39m number = \u001b[38;5;28mint\u001b[39m(number)\n\u001b[32m      4\u001b[39m \u001b[38;5;28;01mif\u001b[39;00m number > \u001b[32m0\u001b[39m:\n\u001b[32m      5\u001b[39m     \u001b[38;5;66;03m# 양수일 때: 아직 미구현 상태.\u001b[39;00m\n\u001b[32m----> \u001b[39m\u001b[32m6\u001b[39m     \u001b[38;5;28;01mraise\u001b[39;00m \u001b[38;5;167;01mNotImplementedError\u001b[39;00m\n\u001b[32m      7\u001b[39m \u001b[38;5;28;01melse\u001b[39;00m:\n\u001b[32m      8\u001b[39m     \u001b[38;5;66;03m# 음수일 때: 아직 미구현 상태.\u001b[39;00m\n\u001b[32m      9\u001b[39m     \u001b[38;5;28;01mraise\u001b[39;00m NotImplementError\n",
      "\u001b[31mNotImplementedError\u001b[39m: "
     ]
    }
   ],
   "source": [
    "number = input(\"정수 입력> \")\n",
    "number = int(number)\n",
    "\n",
    "if number > 0:\n",
    "    # 양수일 때: 아직 미구현 상태.\n",
    "    raise NotImplementedError\n",
    "else:\n",
    "    # 음수일 때: 아직 미구현 상태.\n",
    "    raise NotImplementError"
   ]
  }
 ],
 "metadata": {
  "kernelspec": {
   "display_name": "Python 3 (ipykernel)",
   "language": "python",
   "name": "python3"
  },
  "language_info": {
   "codemirror_mode": {
    "name": "ipython",
    "version": 3
   },
   "file_extension": ".py",
   "mimetype": "text/x-python",
   "name": "python",
   "nbconvert_exporter": "python",
   "pygments_lexer": "ipython3",
   "version": "3.11.11"
  }
 },
 "nbformat": 4,
 "nbformat_minor": 5
}
