{
 "cells": [
  {
   "cell_type": "markdown",
   "id": "de50cbcf",
   "metadata": {},
   "source": [
    "# 구문 오류와 예외"
   ]
  },
  {
   "cell_type": "markdown",
   "id": "080f6814",
   "metadata": {},
   "source": [
    "## 오류의 종류\n",
    "* 프로그램 실행 전에 발생하는 오류: 구문 오류\n",
    "* 프로그램 실행 중에 발생하는 오류: 예외 또는 런타임 오류"
   ]
  },
  {
   "cell_type": "markdown",
   "id": "e26a7ed9",
   "metadata": {},
   "source": [
    "#### 구문 오류\n",
    "* 괄호의 개수, 들여쓰기 문제 등으로 프로그램 실행 전 발생하는 오류"
   ]
  },
  {
   "cell_type": "code",
   "execution_count": 1,
   "id": "04e6b18c",
   "metadata": {},
   "outputs": [
    {
     "ename": "SyntaxError",
     "evalue": "unterminated string literal (detected at line 1) (2614230221.py, line 1)",
     "output_type": "error",
     "traceback": [
      "  \u001b[36mCell\u001b[39m\u001b[36m \u001b[39m\u001b[32mIn[1]\u001b[39m\u001b[32m, line 1\u001b[39m\n\u001b[31m    \u001b[39m\u001b[31mprint(\"# 예외를 강제로 발생시켜 볼게요!)\u001b[39m\n          ^\n\u001b[31mSyntaxError\u001b[39m\u001b[31m:\u001b[39m unterminated string literal (detected at line 1)\n"
     ]
    }
   ],
   "source": [
    "print(\"# 예외를 강제로 발생시켜 볼게요!)"
   ]
  },
  {
   "cell_type": "markdown",
   "id": "14cc7a66",
   "metadata": {},
   "source": [
    "#### 예외 (런타임 오류)\n",
    "* 실행 중 발생하는 오류"
   ]
  },
  {
   "cell_type": "code",
   "execution_count": 2,
   "id": "f1aa1333",
   "metadata": {},
   "outputs": [
    {
     "ename": "NameError",
     "evalue": "name 'list_a' is not defined",
     "output_type": "error",
     "traceback": [
      "\u001b[31m---------------------------------------------------------------------------\u001b[39m",
      "\u001b[31mNameError\u001b[39m                                 Traceback (most recent call last)",
      "\u001b[36mCell\u001b[39m\u001b[36m \u001b[39m\u001b[32mIn[2]\u001b[39m\u001b[32m, line 1\u001b[39m\n\u001b[32m----> \u001b[39m\u001b[32m1\u001b[39m \u001b[43mlist_a\u001b[49m[\u001b[32m1\u001b[39m]\n",
      "\u001b[31mNameError\u001b[39m: name 'list_a' is not defined"
     ]
    }
   ],
   "source": [
    "list_a[1]"
   ]
  },
  {
   "cell_type": "markdown",
   "id": "fe74595b",
   "metadata": {},
   "source": [
    "## 기본 예외 처리\n",
    "예외를 해결하는 모든 것을 **예외 처리**라고 부른다.\n",
    "* 조건문을 사용하는 방법\n",
    "* try 구문을 사용하는 방법"
   ]
  },
  {
   "cell_type": "markdown",
   "id": "e132da0e",
   "metadata": {},
   "source": [
    "#### 조건문으로 예외 처리하기"
   ]
  },
  {
   "cell_type": "code",
   "execution_count": 1,
   "id": "e20b17e0",
   "metadata": {},
   "outputs": [
    {
     "ename": "NameError",
     "evalue": "name 'isdigit' is not defined",
     "output_type": "error",
     "traceback": [
      "\u001b[31m---------------------------------------------------------------------------\u001b[39m",
      "\u001b[31mNameError\u001b[39m                                 Traceback (most recent call last)",
      "\u001b[36mCell\u001b[39m\u001b[36m \u001b[39m\u001b[32mIn[1]\u001b[39m\u001b[32m, line 1\u001b[39m\n\u001b[32m----> \u001b[39m\u001b[32m1\u001b[39m \u001b[43misdigit\u001b[49m()\n",
      "\u001b[31mNameError\u001b[39m: name 'isdigit' is not defined"
     ]
    }
   ],
   "source": [
    "isdigit()"
   ]
  },
  {
   "cell_type": "code",
   "execution_count": 4,
   "id": "97074808",
   "metadata": {},
   "outputs": [
    {
     "name": "stdout",
     "output_type": "stream",
     "text": [
      "정수 입력> 8cm\n",
      "정수를 입력하지 않았습니다.\n"
     ]
    }
   ],
   "source": [
    "# 조건문으로 예외 처리하기\n",
    "\n",
    "user_input_a = input(\"정수 입력> \")\n",
    "\n",
    "# 사용자 입력이 숫자로만 구성되어 있을 때\n",
    "if user_input_a.isdigit():\n",
    "    # 숫자로 변환\n",
    "    number_input_a = int(user_input_a)\n",
    "    \n",
    "    print(\"원의 반지름:\", number_input_a)\n",
    "    print(\"원의 둘레:\", 2 * 3.14 * number_input_a)\n",
    "    print(\"원의 넓이:\", 3.14 * number_input_a * number_input_a)\n",
    "else:\n",
    "    print(\"정수를 입력하지 않았습니다.\")"
   ]
  },
  {
   "cell_type": "markdown",
   "id": "0a4e912b",
   "metadata": {},
   "source": [
    "### try except 구문\n",
    "\n",
    "try:<br>\n",
    "&emsp; &nbsp;예외가 발생할 가능성이 있는 코드<br>\n",
    "except:<br>\n",
    "&emsp; &nbsp;예외가 발생했을 때 실행할 코드"
   ]
  },
  {
   "cell_type": "code",
   "execution_count": 5,
   "id": "fa0b8fd6",
   "metadata": {},
   "outputs": [
    {
     "name": "stdout",
     "output_type": "stream",
     "text": [
      "정수 입력> yes!\n",
      "무언가 잘못되었습니다.\n"
     ]
    }
   ],
   "source": [
    "# try except 구문\n",
    "\n",
    "try:\n",
    "    number_input_a = int(input(\"정수 입력> \")) # 예외 발생 가능 구문\n",
    "        \n",
    "    print(\"원의 반지름:\", number_input_a)\n",
    "    print(\"원의 둘레:\", 2 * 3.14 * number_input_a)\n",
    "    print(\"원의 넓이:\", 3.14 * number_input_a * number_input_a)\n",
    "except:\n",
    "    print(\"무언가 잘못되었습니다.\") # 예외 발생 시 실행 구문"
   ]
  },
  {
   "cell_type": "markdown",
   "id": "8ea94b85",
   "metadata": {},
   "source": [
    "#### try except 구문과 pass 키워드 조합하기\n",
    "\n",
    "try:<br>\n",
    "&emsp; &nbsp;예외가 발생할 가능성이 있는 코드<br>\n",
    "except:<br>\n",
    "&emsp; &nbsp;pass"
   ]
  },
  {
   "cell_type": "code",
   "execution_count": 8,
   "id": "42afaafd",
   "metadata": {},
   "outputs": [
    {
     "name": "stdout",
     "output_type": "stream",
     "text": [
      "['52', '273', '32', '스파이', '103'] 내부에 있는 숫자는\n",
      "['52', '273', '32', '103']입니다.\n"
     ]
    }
   ],
   "source": [
    "# 숫자로 변환되는 것들만 리스트에 넣기\n",
    "\n",
    "list_input_a = [\"52\", \"273\", \"32\", \"스파이\", \"103\"]\n",
    "\n",
    "list_number = []\n",
    "for item in list_input_a:\n",
    "    # 숫자로 변환해서 리스트에 추가\n",
    "    try:\n",
    "        float(item) # 예외가 발생하면 다음으로 진행은 안 되겠지?\n",
    "        list_number.append(item) # 예외 없이 통과했으면 list_number 리스트에 넣어줘!\n",
    "    except:\n",
    "        pass\n",
    "    \n",
    "print(\"{} 내부에 있는 숫자는\".format(list_input_a))\n",
    "print(\"{}입니다.\".format(list_number))"
   ]
  },
  {
   "cell_type": "markdown",
   "id": "38513dee",
   "metadata": {},
   "source": [
    "### try except else 구문\n",
    "\n",
    "try:<br>\n",
    "&emsp; &nbsp;예외가 발생할 가능성이 있는 코드<br>\n",
    "except:<br>\n",
    "&emsp; &nbsp;예외가 발생했을 때 실행할 코드<br>\n",
    "else:<br>\n",
    "&emsp; &nbsp;예외가 발생하지 않았을 때 실행할 코드"
   ]
  },
  {
   "cell_type": "code",
   "execution_count": 10,
   "id": "d900bd2c",
   "metadata": {},
   "outputs": [
    {
     "name": "stdout",
     "output_type": "stream",
     "text": [
      "정수 입력> yes!!\n",
      "정수를 입력하지 않았습니다.\n"
     ]
    }
   ],
   "source": [
    "# try except else 구문\n",
    "\n",
    "try:\n",
    "    number_input_a = int(input(\"정수 입력> \"))\n",
    "        \n",
    "except:\n",
    "    print(\"정수를 입력하지 않았습니다.\")\n",
    "\n",
    "else:    \n",
    "    print(\"원의 반지름:\", number_input_a)\n",
    "    print(\"원의 둘레:\", 2 * 3.14 * number_input_a)\n",
    "    print(\"원의 넓이:\", 3.14 * number_input_a * number_input_a)"
   ]
  },
  {
   "cell_type": "markdown",
   "id": "81a5fd1d",
   "metadata": {},
   "source": [
    "### finally 구문\n",
    "\n",
    "try:<br>\n",
    "&emsp; &nbsp;예외가 발생할 가능성이 있는 코드<br>\n",
    "except:<br>\n",
    "&emsp; &nbsp;예외가 발생했을 때 실행할 코드<br>\n",
    "else:<br>\n",
    "&emsp; &nbsp;예외가 발생하지 않았을 때 실행할 코드<br>\n",
    "finally:<br>\n",
    "&emsp; &nbsp;무조건 실행할 코드"
   ]
  },
  {
   "cell_type": "code",
   "execution_count": 12,
   "id": "31b14261",
   "metadata": {},
   "outputs": [
    {
     "name": "stdout",
     "output_type": "stream",
     "text": [
      "정수 입력> 273\n",
      "원의 반지름: 273\n",
      "원의 둘레: 1714.44\n",
      "원의 넓이: 234021.06\n",
      "예외가 발생하지 않았습니다.\n",
      "일단 프로그램이 어떻게든 끝났습니다.\n"
     ]
    }
   ],
   "source": [
    "# finally 구문\n",
    "\n",
    "try:\n",
    "    number_input_a = int(input(\"정수 입력> \"))\n",
    "    print(\"원의 반지름:\", number_input_a)\n",
    "    print(\"원의 둘레:\", 2 * 3.14 * number_input_a)\n",
    "    print(\"원의 넓이:\", 3.14 * number_input_a * number_input_a)\n",
    "        \n",
    "except:\n",
    "    print(\"정수를 입력하지 않았습니다.\")\n",
    "\n",
    "else:    \n",
    "    print(\"예외가 발생하지 않았습니다.\")\n",
    "finally:\n",
    "    print(\"일단 프로그램이 어떻게든 끝났습니다.\")"
   ]
  },
  {
   "cell_type": "markdown",
   "id": "50989104",
   "metadata": {},
   "source": [
    "#### try, except, finally 구문의 조합\n",
    "* try 구문은 단독으로 사용할 수 없으며, 반드시 except 구문 또는 finally 구문과 함께 사용해야 한다.\n",
    "* else 구문은 반드시 except 구문 뒤에 사용해야 한다."
   ]
  },
  {
   "cell_type": "code",
   "execution_count": 15,
   "id": "a1b2a352",
   "metadata": {},
   "outputs": [
    {
     "ename": "SyntaxError",
     "evalue": "expected 'except' or 'finally' block (3775050832.py, line 9)",
     "output_type": "error",
     "traceback": [
      "  \u001b[36mCell\u001b[39m\u001b[36m \u001b[39m\u001b[32mIn[15]\u001b[39m\u001b[32m, line 9\u001b[39m\n\u001b[31m    \u001b[39m\u001b[31melse:\u001b[39m\n    ^\n\u001b[31mSyntaxError\u001b[39m\u001b[31m:\u001b[39m expected 'except' or 'finally' block\n"
     ]
    }
   ],
   "source": [
    "# try + else 조합 (오류 발생)\n",
    "\n",
    "try:\n",
    "    number_input_a = int(input(\"정수 입력> \"))\n",
    "    print(\"원의 반지름:\", number_input_a)\n",
    "    print(\"원의 둘레:\", 2 * 3.14 * number_input_a)\n",
    "    print(\"원의 넓이:\", 3.14 * number_input_a * number_input_a)\n",
    "        \n",
    "else:    \n",
    "    print(\"예외가 발생하지 않았습니다.\")"
   ]
  },
  {
   "cell_type": "markdown",
   "id": "2389ead2",
   "metadata": {},
   "source": [
    "#### finally에 대한 오해\n",
    "* try except 구문이 끝난 후, 명령 코드를 짜도 된다.\n",
    "* finally 키워드는 무조건 사용해야 하는 게 아니다.\n",
    "* finally 키워드를 사용하면 코드가 깔끔해질 것 같다고 생각하는 경우에 사용한다."
   ]
  },
  {
   "cell_type": "markdown",
   "id": "e28c36ed",
   "metadata": {},
   "source": [
    "#### try 구문 내부에서 return() 키워드를 사용하는 경우\n",
    "* finally 구문은 반복문 또는 함수 내부에 있을 때 위력을 발휘한다.\n",
    "* try 구문 중간에서 탈출해도 finally 구문은 무조건 실행됨.\n",
    "* 따라서 함수 내부에서 파일 처리 코드를 깔끔하게 만들고 싶을 때 fianlly 구문을 활용."
   ]
  },
  {
   "cell_type": "code",
   "execution_count": 16,
   "id": "d7cea510",
   "metadata": {},
   "outputs": [
    {
     "name": "stdout",
     "output_type": "stream",
     "text": [
      "test() 함수의 첫 줄입니다.\n",
      "try 구문이 실행되었습니다.\n",
      "finally 구문이 실행되었습니다.\n"
     ]
    }
   ],
   "source": [
    "def test():\n",
    "    print(\"test() 함수의 첫 줄입니다.\")\n",
    "    try:\n",
    "        print(\"try 구문이 실행되었습니다.\")\n",
    "        return\n",
    "        print(\"try 구문의 return 키워드 뒤입니다.\")\n",
    "    except:\n",
    "        print(\"except 구문이 실행되었습니다.\")\n",
    "    else:\n",
    "        print(\"else 구문이 실행되었습니다.\")\n",
    "    finally:\n",
    "        print(\"finally 구문이 실행되었습니다.\")\n",
    "    print(\"test() 함수의 마지막 줄입니다.\")\n",
    "    \n",
    "test()"
   ]
  },
  {
   "cell_type": "code",
   "execution_count": 17,
   "id": "22a53acc",
   "metadata": {},
   "outputs": [],
   "source": [
    "# finally 키워드 활용\n",
    "\n",
    "def write_text_file(filename, text):\n",
    "    try:\n",
    "        file = open(filename, \"w\")\n",
    "        return\n",
    "        file.write(text)\n",
    "    except:\n",
    "        print(\"오류가 발생했습니다.\")\n",
    "    finally:\n",
    "        file.close()\n",
    "        \n",
    "write_text_file(\"test.txt\", \"안녕하세요!\")"
   ]
  },
  {
   "cell_type": "markdown",
   "id": "e4890f35",
   "metadata": {},
   "source": [
    "중간에 return 키워드 등으로 함수를 빠져나갈 때마다 close()를 하도록 코드를 작성했다면 코드가 굉장히 복잡해졌을 것이다."
   ]
  },
  {
   "cell_type": "markdown",
   "id": "c9b971c8",
   "metadata": {},
   "source": [
    "#### 반복문과 함께 사용하는 경우\n",
    "* break 키워드로 try 구문 전체를 빠져나가도 finally 구문이 실행된다."
   ]
  },
  {
   "cell_type": "code",
   "execution_count": 18,
   "id": "8445e5d8",
   "metadata": {},
   "outputs": [
    {
     "name": "stdout",
     "output_type": "stream",
     "text": [
      "프로그램이 시작되었습니다\n",
      "try 구문이 실행되었습니다.\n",
      "finally 구문이 실행되었습니다.\n",
      "프로그램이 종료되었습니다.\n"
     ]
    }
   ],
   "source": [
    "# 반복문과 함께 사용하는 경우\n",
    "\n",
    "print(\"프로그램이 시작되었습니다\")\n",
    "\n",
    "while True:\n",
    "    try:\n",
    "        print(\"try 구문이 실행되었습니다.\")\n",
    "        break\n",
    "        print(\"try 구문의 break 키워드 뒤입니다.\")\n",
    "    except:\n",
    "        print(\"except 구문이 실행되었습니다.\")\n",
    "    finally:\n",
    "        print(\"finally 구문이 실행되었습니다.\")\n",
    "    print(\"while 반복문의 마지막 줄입니다.\")\n",
    "print(\"프로그램이 종료되었습니다.\")"
   ]
  }
 ],
 "metadata": {
  "kernelspec": {
   "display_name": "Python 3 (ipykernel)",
   "language": "python",
   "name": "python3"
  },
  "language_info": {
   "codemirror_mode": {
    "name": "ipython",
    "version": 3
   },
   "file_extension": ".py",
   "mimetype": "text/x-python",
   "name": "python",
   "nbconvert_exporter": "python",
   "pygments_lexer": "ipython3",
   "version": "3.11.11"
  }
 },
 "nbformat": 4,
 "nbformat_minor": 5
}
