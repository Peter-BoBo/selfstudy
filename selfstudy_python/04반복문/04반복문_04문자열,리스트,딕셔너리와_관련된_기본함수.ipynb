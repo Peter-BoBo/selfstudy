{
 "cells": [
  {
   "cell_type": "markdown",
   "id": "79ef2442",
   "metadata": {},
   "source": [
    "## 리스트에 적용할 수 있는 기본 함수: min(), max(), sum()\n",
    "\n",
    "* min(): 리스트 내부에서 최솟값을 찾는다\n",
    "* max(): 리스트 내부에서 최댓값을 찾는다\n",
    "* sum(): 리스트 내부에서 값을 모두 더한다"
   ]
  },
  {
   "cell_type": "code",
   "execution_count": 2,
   "id": "e51fc249",
   "metadata": {},
   "outputs": [
    {
     "name": "stdout",
     "output_type": "stream",
     "text": [
      "32\n",
      "273\n",
      "537\n"
     ]
    }
   ],
   "source": [
    "numbers = [103, 52, 273, 32, 77]\n",
    "\n",
    "print(min(numbers))\n",
    "print(max(numbers))\n",
    "print(sum(numbers))"
   ]
  },
  {
   "cell_type": "markdown",
   "id": "3b72550e",
   "metadata": {},
   "source": [
    "## reversed() 함수로 리스트 뒤집기\n",
    "* 리스트에서 요소의 순서를 뒤집고 싶을 때, reversed() 함수의 매개변수에 리스트를 넣으면 리스트를 뒤집을 수 있다."
   ]
  },
  {
   "cell_type": "code",
   "execution_count": 4,
   "id": "64c604a5",
   "metadata": {},
   "outputs": [
    {
     "name": "stdout",
     "output_type": "stream",
     "text": [
      "# reversed () 함수\n",
      "reversed([1, 2, 3, 4, 5]): <list_reverseiterator object at 0x000002934CCB8C70>\n",
      "list(reversed([1, 2, 3, 4, 5])): [5, 4, 3, 2, 1]\n",
      "\n",
      "# reversed() 함수와 반복문\n",
      "for i in reversed([1, 2, 3, 4, 5]):\n",
      "- 5\n",
      "- 4\n",
      "- 3\n",
      "- 2\n",
      "- 1\n"
     ]
    }
   ],
   "source": [
    "# reversed() 함수\n",
    "\n",
    "list_a = [1, 2, 3, 4, 5]\n",
    "list_reversed = reversed(list_a)\n",
    "\n",
    "print(\"# reversed () 함수\")\n",
    "print(\"reversed([1, 2, 3, 4, 5]):\", list_reversed)\n",
    "print(\"list(reversed([1, 2, 3, 4, 5])):\", list(list_reversed))\n",
    "print()\n",
    "\n",
    "print(\"# reversed() 함수와 반복문\")\n",
    "print(\"for i in reversed([1, 2, 3, 4, 5]):\")\n",
    "for i in reversed(list_a):\n",
    "    print(\"-\", i)"
   ]
  },
  {
   "cell_type": "markdown",
   "id": "3133b3fc",
   "metadata": {},
   "source": [
    "## enumerate() 함수와 반복문 조합하기 (리스트)\n",
    "* 리스트의 요소를 반복할 때, 현재 인덱스가 몇 번째인지 쉽게 확인할 수 있도록 돕는 함수\n",
    "* enumerate(리스트)\n",
    "* for i, value in enumerate(리스트)"
   ]
  },
  {
   "cell_type": "code",
   "execution_count": 6,
   "id": "9d8f80d2",
   "metadata": {},
   "outputs": [
    {
     "name": "stdout",
     "output_type": "stream",
     "text": [
      "# 단순 출력\n",
      "['요소A', '요소B', '요소C']\n",
      "\n",
      "# enumerate() 함수 적용 출력\n",
      "<enumerate object at 0x000002934C36CE00>\n",
      "\n",
      "# list() 함수로 강제 변환 출력\n",
      "[(0, '요소A'), (1, '요소B'), (2, '요소C')]\n",
      "\n",
      "# 반복문과 조합하기\n",
      "0번째 요소는 요소A입니다.\n",
      "1번째 요소는 요소B입니다.\n",
      "2번째 요소는 요소C입니다.\n"
     ]
    }
   ],
   "source": [
    "# enumerate() 함수와 리스트\n",
    "\n",
    "example_list = [\"요소A\", \"요소B\", \"요소C\"]\n",
    "\n",
    "print(\"# 단순 출력\")\n",
    "print(example_list)\n",
    "print()\n",
    "\n",
    "print(\"# enumerate() 함수 적용 출력\")\n",
    "print(enumerate(example_list))\n",
    "print()\n",
    "\n",
    "print(\"# list() 함수로 강제 변환 출력\")\n",
    "print(list(enumerate(example_list)))\n",
    "print()\n",
    "      \n",
    "print(\"# 반복문과 조합하기\")\n",
    "for i, value in enumerate(example_list):\n",
    "      print(f\"{i}번째 요소는 {value}입니다.\")"
   ]
  },
  {
   "cell_type": "markdown",
   "id": "9bb4579a",
   "metadata": {},
   "source": [
    "## 딕셔너리의 items() 함수와 반복문 조합하기 (딕셔너리)\n",
    "* items()함수를 사용하여, 키와 값을 조합해서 쉽게 반복문을 작성할 수 있다.\n",
    "* 딕셔너리.items()"
   ]
  },
  {
   "cell_type": "code",
   "execution_count": 7,
   "id": "8c6300e4",
   "metadata": {},
   "outputs": [
    {
     "name": "stdout",
     "output_type": "stream",
     "text": [
      "# 딕셔너리의 items() 함수\n",
      "items(): dict_items([('키A', '값A'), ('키B', '값B'), ('키C', '값C')])\n",
      "\n",
      "# 딕셔너리의 items() 함수와 반복문 조합하기\n",
      "dictionary[키A] = 값A\n",
      "dictionary[키B] = 값B\n",
      "dictionary[키C] = 값C\n"
     ]
    }
   ],
   "source": [
    "# 딕셔너리의 items() 함수와 반복문\n",
    "\n",
    "example_dictionary = {\n",
    "    \"키A\": \"값A\",\n",
    "    \"키B\": \"값B\",\n",
    "    \"키C\": \"값C\",\n",
    "}\n",
    "    \n",
    "print(\"# 딕셔너리의 items() 함수\")\n",
    "print(\"items():\", example_dictionary.items())\n",
    "print()\n",
    "\n",
    "print(\"# 딕셔너리의 items() 함수와 반복문 조합하기\")\n",
    "\n",
    "for key, element in example_dictionary.items():\n",
    "#     print(key, element)\n",
    "    print(f\"dictionary[{key}] = {element}\")"
   ]
  },
  {
   "cell_type": "code",
   "execution_count": 3,
   "id": "f309a877",
   "metadata": {},
   "outputs": [
    {
     "data": {
      "text/plain": [
       "dict_items([('키A', '값A'), ('키B', '값B'), ('키C', '값C')])"
      ]
     },
     "execution_count": 3,
     "metadata": {},
     "output_type": "execute_result"
    }
   ],
   "source": [
    "example_dictionary.items()"
   ]
  },
  {
   "cell_type": "code",
   "execution_count": 2,
   "id": "24cfa614",
   "metadata": {},
   "outputs": [
    {
     "data": {
      "text/plain": [
       "{'키A': '값A', '키B': '값B', '키C': '값C'}"
      ]
     },
     "execution_count": 2,
     "metadata": {},
     "output_type": "execute_result"
    }
   ],
   "source": [
    "example_dictionary"
   ]
  },
  {
   "cell_type": "markdown",
   "id": "71c1c91b",
   "metadata": {},
   "source": [
    "## 리스트 내포\n",
    "\n",
    "* 리스트 이름 = [표현식 for 반복자 in 반복할 수 있는 것]\n",
    "* 리스트 이름 = [표현식 for 반복자 in 반복할 수 있는 것 if 조건문] : if 구문을 넣어 조합할 수도 있다."
   ]
  },
  {
   "cell_type": "code",
   "execution_count": 9,
   "id": "96dc4d9e",
   "metadata": {},
   "outputs": [
    {
     "name": "stdout",
     "output_type": "stream",
     "text": [
      "[0, 4, 16, 36, 64, 100, 144, 196, 256, 324]\n"
     ]
    }
   ],
   "source": [
    "# 반복문을 사용한 리스트 생성\n",
    "\n",
    "array = []\n",
    "\n",
    "#0부터 20사이의 짝수를 구한 뒤, 제곱해서 새로운 리스트를 만든다.\n",
    "\n",
    "for i in range(0, 20, 2):\n",
    "    array.append(i * i)\n",
    "print(array)"
   ]
  },
  {
   "cell_type": "code",
   "execution_count": 10,
   "id": "d38ef130",
   "metadata": {},
   "outputs": [
    {
     "name": "stdout",
     "output_type": "stream",
     "text": [
      "[0, 4, 16, 36, 64, 100, 144, 196, 256, 324]\n"
     ]
    }
   ],
   "source": [
    "# 리스트 안에 for문 사용하기\n",
    "\n",
    "#최종 결과(i*i)를 앞에 작성한다\n",
    "array = [i * i for i in range(0, 20, 2)]\n",
    "\n",
    "print(array)"
   ]
  },
  {
   "cell_type": "code",
   "execution_count": 8,
   "id": "98f2c1af",
   "metadata": {},
   "outputs": [
    {
     "name": "stdout",
     "output_type": "stream",
     "text": [
      "['사과', '자두', '바나나', '체리']\n"
     ]
    }
   ],
   "source": [
    "# 조건을 활용한 리스트 내포\n",
    "\n",
    "array = [\"사과\", \"자두\", \"초콜릿\", \"바나나\", \"체리\"]\n",
    "output = [fruit for fruit in array if fruit != \"초콜릿\"]\n",
    "\n",
    "print(output)"
   ]
  },
  {
   "cell_type": "code",
   "execution_count": 22,
   "id": "bcead6c2",
   "metadata": {},
   "outputs": [
    {
     "name": "stdout",
     "output_type": "stream",
     "text": [
      "['사과', '자두', '바나나', '체리']\n"
     ]
    }
   ],
   "source": [
    "# 리스트 내포를 썼을 때 더 간결하게 작성 가능하다.\n",
    "\n",
    "array = [\"사과\", \"자두\", \"초콜릿\", \"바나나\", \"체리\"]\n",
    "output = []\n",
    "\n",
    "for fruit in array:\n",
    "    if fruit != \"초콜릿\":\n",
    "        output.append(fruit)\n",
    "print(output)"
   ]
  },
  {
   "cell_type": "markdown",
   "id": "113cb05d",
   "metadata": {},
   "source": [
    "### 구문 내부에 여러 문자열을 사용했을 때 문제점"
   ]
  },
  {
   "cell_type": "code",
   "execution_count": 25,
   "id": "495d2570",
   "metadata": {},
   "outputs": [
    {
     "name": "stdout",
     "output_type": "stream",
     "text": [
      "정수 입력> 5\n",
      "        입력한 문자열은 5입니다.\n",
      "        5는(은) 홀수입니다.\n"
     ]
    }
   ],
   "source": [
    "# if 조건문과 여러 줄 문자열(1)\n",
    "\n",
    "number = int(input(\"정수 입력> \"))\n",
    "\n",
    "if number % 2 == 0:\n",
    "    print(f\"\"\"\\\n",
    "        입력한 문자열은 {number}입니다.\n",
    "        {number}는(은) 짝수입니다.\"\"\")\n",
    "else:\n",
    "    print(f\"\"\"\\\n",
    "        입력한 문자열은 {number}입니다.\n",
    "        {number}는(은) 홀수입니다.\"\"\")"
   ]
  },
  {
   "cell_type": "markdown",
   "id": "9b5b6cac",
   "metadata": {},
   "source": [
    "* 예상치 못한 들여쓰기가 결과값에 출력되는 것을 알 수 있다."
   ]
  },
  {
   "cell_type": "code",
   "execution_count": 28,
   "id": "bc318c71",
   "metadata": {},
   "outputs": [
    {
     "name": "stdout",
     "output_type": "stream",
     "text": [
      "정수 입력> 10\n",
      "입력한 문자열은 10입니다.\n",
      "10는(은) 짝수입니다.\n"
     ]
    }
   ],
   "source": [
    "# if 조건문과 여러 줄 문자열(2)\n",
    "number = int(input(\"정수 입력> \"))\n",
    "\n",
    "if number % 2 == 0:\n",
    "    print(f\"\"\"입력한 문자열은 {number}입니다.\n",
    "{number}는(은) 짝수입니다.\"\"\")\n",
    "    \n",
    "else:\n",
    "    print(f\"\"\"입력한 문자열은 {number}입니다.\n",
    "{number}는(은) 홀수입니다.\"\"\")    "
   ]
  },
  {
   "cell_type": "markdown",
   "id": "00c3e28c",
   "metadata": {},
   "source": [
    "* 실행 결과는 제대로 나오지만, 코드가 이상한 구조를 갖게 된다."
   ]
  },
  {
   "cell_type": "code",
   "execution_count": 29,
   "id": "fb576669",
   "metadata": {},
   "outputs": [
    {
     "name": "stdout",
     "output_type": "stream",
     "text": [
      "정수 입력> 10\n",
      "입력한 문자열은 10입니다.\n",
      "10는(은) 짝수입니다.\n"
     ]
    }
   ],
   "source": [
    "# if 조건문과 긴 문자열\n",
    "number = int(input(\"정수 입력> \"))\n",
    "\n",
    "if number % 2 == 0:\n",
    "    print(f\"입력한 문자열은 {number}입니다.\\n{number}는(은) 짝수입니다.\")\n",
    "    \n",
    "else:\n",
    "    print(f\"입력한 문자열은 {number}입니다.\\n{number}는(은) 홀수입니다.\")"
   ]
  },
  {
   "cell_type": "markdown",
   "id": "c5ae9c17",
   "metadata": {},
   "source": [
    "* 따라서 구문 내부에서는 여러 줄 문자열의 거의 사용하지 않는다.\n",
    "* 하지만, 위와 같이 문자열을 한 줄로 길게 적으면 코드가 복잡해진다."
   ]
  },
  {
   "cell_type": "markdown",
   "id": "ffa6a229",
   "metadata": {},
   "source": [
    "#### 괄호로 문자열 연결하기\n",
    "\n",
    "* 괄호 내부에 문자열을 여러 개 입력하면 모든 문자열을 합친 새로운 문자열이 만들어진다."
   ]
  },
  {
   "cell_type": "code",
   "execution_count": 31,
   "id": "9a02ed48",
   "metadata": {},
   "outputs": [
    {
     "name": "stdout",
     "output_type": "stream",
     "text": [
      "test: 이렇게 입력해도 하나의 문자열로 연결되어 생성됩니다.\n",
      "type(test): <class 'str'>\n"
     ]
    }
   ],
   "source": [
    "test = (\n",
    "    \"이렇게 입력해도 \"\n",
    "    \"하나의 문자열로 연결되어 \"\n",
    "    \"생성됩니다.\"\n",
    ")\n",
    "\n",
    "print(\"test:\", test)\n",
    "print(\"type(test):\", type(test))"
   ]
  },
  {
   "cell_type": "code",
   "execution_count": 38,
   "id": "ca809919",
   "metadata": {},
   "outputs": [
    {
     "name": "stdout",
     "output_type": "stream",
     "text": [
      "정수 입력> 10\n",
      "입력한 문자열은 10입니다.\n",
      "10는(은) 짝수입니다.\n"
     ]
    }
   ],
   "source": [
    "# 여러 줄 문자열과 if 구문을 조합했을 때의 문제 해결(1)\n",
    "\n",
    "number = int(input(\"정수 입력> \"))\n",
    "\n",
    "if number % 2 == 0:\n",
    "    print((\n",
    "        f\"입력한 문자열은 {number}입니다.\\n\"\n",
    "        f\"{number}는(은) 짝수입니다.\"))\n",
    "    \n",
    "else:\n",
    "    print((\n",
    "        f\"입력한 문자열은 {number}입니다.\\n\"\n",
    "        f\"{number}는(은) 홀수입니다.\"))    "
   ]
  },
  {
   "cell_type": "markdown",
   "id": "0da56d94",
   "metadata": {},
   "source": [
    "#### 문자열의 join() 함수\n",
    "* 문자열.join(문자열로 구성된 리스트)"
   ]
  },
  {
   "cell_type": "code",
   "execution_count": 41,
   "id": "46a1e2f5",
   "metadata": {},
   "outputs": [
    {
     "name": "stdout",
     "output_type": "stream",
     "text": [
      "1::2::3::4::5\n"
     ]
    }
   ],
   "source": [
    "print(\"::\".join([\"1\", \"2\", \"3\", \"4\", \"5\"]))"
   ]
  },
  {
   "cell_type": "code",
   "execution_count": 46,
   "id": "f74b3081",
   "metadata": {},
   "outputs": [
    {
     "name": "stdout",
     "output_type": "stream",
     "text": [
      "정수 입력> 10\n",
      "입력한 문자열은 10입니다.\n",
      "10는(은) 짝수입니다.\n"
     ]
    }
   ],
   "source": [
    "# 여러 줄 문자열과 if 구문을 조합했을 때의 문제 해결(2)\n",
    "\n",
    "number = int(input(\"정수 입력> \"))\n",
    "\n",
    "if number % 2 == 0:\n",
    "    print(\"\\n\".join([\n",
    "        f\"입력한 문자열은 {number}입니다.\",\n",
    "        f\"{number}는(은) 짝수입니다.\"]))\n",
    "    \n",
    "else:\n",
    "    print(\"\\n\".join([\n",
    "        f\"입력한 문자열은 {number}입니다.\",\n",
    "        f\"{number}는(은) 홀수입니다.\"]))"
   ]
  },
  {
   "cell_type": "markdown",
   "id": "dc3fc9d7",
   "metadata": {},
   "source": [
    "### 이터레이터\n",
    "* for **반복자** in **반복할 수 있는 것**\n",
    "* \"반복할 수 있는 것\"을 **이터러블**이라고 한다.\n",
    "* 즉, 이터러블은 내부에 있는 요소들을 차례대로 꺼낼 수 있는 **객체**를 의미한다.\n",
    "* 리스트, 딕셔너리, 문자열, 튜플 등은 모두 **내부에서 요소를 차례차례 꺼낼 수 있으므로 이터러블이다.**\n",
    "* 이터러블 중에서 next() 함수를 적용해 하나하나 꺼낼 수 있는 요소를 **이터레이터**라고 한다."
   ]
  },
  {
   "cell_type": "code",
   "execution_count": 48,
   "id": "58949a4c",
   "metadata": {},
   "outputs": [
    {
     "name": "stdout",
     "output_type": "stream",
     "text": [
      "reversed_numbers : <list_reverseiterator object at 0x000002934D162D70>\n",
      "6\n",
      "5\n",
      "4\n",
      "3\n",
      "2\n",
      "<list_reverseiterator object at 0x000002934D162D70>\n"
     ]
    }
   ],
   "source": [
    "# reversed() 함수와 이터레이터\n",
    "\n",
    "numbers = [1, 2, 3, 4, 5, 6]\n",
    "r_num = reversed(numbers)\n",
    "\n",
    "print(\"reversed_numbers :\", r_num)\n",
    "print(next(r_num))\n",
    "print(next(r_num))\n",
    "print(next(r_num))\n",
    "print(next(r_num))\n",
    "print(next(r_num))\n",
    "print(r_num)"
   ]
  },
  {
   "cell_type": "markdown",
   "id": "f1b674a4",
   "metadata": {},
   "source": [
    "* next() 함수를 통해 reverseiterator 이터레이터 요소를 하나하나 꺼내줄 수 있다."
   ]
  }
 ],
 "metadata": {
  "kernelspec": {
   "display_name": "Python 3 (ipykernel)",
   "language": "python",
   "name": "python3"
  },
  "language_info": {
   "codemirror_mode": {
    "name": "ipython",
    "version": 3
   },
   "file_extension": ".py",
   "mimetype": "text/x-python",
   "name": "python",
   "nbconvert_exporter": "python",
   "pygments_lexer": "ipython3",
   "version": "3.11.11"
  }
 },
 "nbformat": 4,
 "nbformat_minor": 5
}
