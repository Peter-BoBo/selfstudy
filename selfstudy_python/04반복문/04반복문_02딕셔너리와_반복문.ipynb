{
 "cells": [
  {
   "cell_type": "markdown",
   "id": "4dd42c8e",
   "metadata": {},
   "source": [
    "# 딕셔너리와 반복문\n",
    "\n",
    "* 리스트는 '인덱스를 기반으로 값을 저정하는 것'\n",
    "* **딕셔너리는 '키를 기반으로 값을 저장하는 것'**\n",
    "\n",
    "**딕셔너리는 중활호{}로 선언하며, 키:값 형태로 쉼표(,)로 연결해서 만든다. 키는 문자열, 숫자, 불 등으로 선언가능<br>\n",
    "(일반적으로는 문자열로 사용하는 경우 多)**"
   ]
  },
  {
   "cell_type": "code",
   "execution_count": 5,
   "id": "7f9c22b7",
   "metadata": {},
   "outputs": [
    {
     "data": {
      "text/plain": [
       "{'name': '어벤저스 엔드게임', 'type': '히어로 무비'}"
      ]
     },
     "execution_count": 5,
     "metadata": {},
     "output_type": "execute_result"
    }
   ],
   "source": [
    "dict_a = {\n",
    "    \"name\": \"어벤저스 엔드게임\",\n",
    "    \"type\": \"히어로 무비\"\n",
    "}\n",
    "\n",
    "dict_a"
   ]
  },
  {
   "cell_type": "markdown",
   "id": "9f2da416",
   "metadata": {},
   "source": [
    "## 딕셔너러 요소에 접근하기\n",
    "\n",
    "* 리스트처럼 딕셔너리 뒤에 대괄호[]를 입력하고 내부에 인덱스처럼 **키**를 입력한다.\n",
    "* **딕셔너리를 선언할 때는 중괄호{}를 사용하지만, 요소에 접근할 때는 대괄호[]를 입력하고 내부에 인덱스처럼 키를 입력한다.**"
   ]
  },
  {
   "cell_type": "code",
   "execution_count": 6,
   "id": "68942b43",
   "metadata": {},
   "outputs": [
    {
     "data": {
      "text/plain": [
       "'어벤저스 엔드게임'"
      ]
     },
     "execution_count": 6,
     "metadata": {},
     "output_type": "execute_result"
    }
   ],
   "source": [
    "dict_a[\"name\"]"
   ]
  },
  {
   "cell_type": "code",
   "execution_count": 7,
   "id": "3b6aa478",
   "metadata": {
    "scrolled": true
   },
   "outputs": [
    {
     "data": {
      "text/plain": [
       "'히어로 무비'"
      ]
     },
     "execution_count": 7,
     "metadata": {},
     "output_type": "execute_result"
    }
   ],
   "source": [
    "dict_a[\"type\"]"
   ]
  },
  {
   "cell_type": "markdown",
   "id": "951cac92",
   "metadata": {},
   "source": [
    "* 내부의 값에 문자열, 숫자, 불 등의 다양한 자료를 넣을 수 있다.\n",
    "* **리스트와 딕셔너리도 하나의 자료이므로 리스트와 딕셔너리를 값으로 넣을 수도 있다.**"
   ]
  },
  {
   "cell_type": "code",
   "execution_count": 9,
   "id": "1f89a18a",
   "metadata": {},
   "outputs": [
    {
     "data": {
      "text/plain": [
       "{'director': ['안소니 루소', '조 루소'],\n",
       " 'cast': ['아이언맨', '타노스', '토르', '닥터스트레인지', '헐크']}"
      ]
     },
     "execution_count": 9,
     "metadata": {},
     "output_type": "execute_result"
    }
   ],
   "source": [
    "dict_b = {\n",
    "    \"director\" : [\"안소니 루소\", \"조 루소\"],\n",
    "    \"cast\" : [\"아이언맨\", \"타노스\", \"토르\", \"닥터스트레인지\", \"헐크\"]\n",
    "}\n",
    "\n",
    "dict_b"
   ]
  },
  {
   "cell_type": "code",
   "execution_count": 10,
   "id": "b2205234",
   "metadata": {},
   "outputs": [
    {
     "data": {
      "text/plain": [
       "['안소니 루소', '조 루소']"
      ]
     },
     "execution_count": 10,
     "metadata": {},
     "output_type": "execute_result"
    }
   ],
   "source": [
    "dict_b[\"director\"]"
   ]
  },
  {
   "cell_type": "code",
   "execution_count": 11,
   "id": "09b3a0eb",
   "metadata": {},
   "outputs": [
    {
     "name": "stdout",
     "output_type": "stream",
     "text": [
      "name: 7D 건조 망고\n",
      "type: 당절임\n",
      "ingredient: ['망고', '설탕', '메타중아황산나트륨', '치자황색소']\n",
      "origin: 필리핀\n",
      "\n",
      "name: 8D 건조망고\n"
     ]
    }
   ],
   "source": [
    "# 딕셔너리의 요소에 접근하기\n",
    "\n",
    "dictionary = {\n",
    "    \"name\": \"7D 건조 망고\",\n",
    "    \"type\": \"당절임\",\n",
    "    \"ingredient\": [\"망고\", \"설탕\", \"메타중아황산나트륨\", \"치자황색소\"],\n",
    "    \"origin\": \"필리핀\"\n",
    "}\n",
    "\n",
    "print(\"name:\", dictionary[\"name\"])\n",
    "print(\"type:\", dictionary[\"type\"])\n",
    "print(\"ingredient:\", dictionary[\"ingredient\"])\n",
    "print(\"origin:\", dictionary[\"origin\"])\n",
    "print()\n",
    "\n",
    "# 값을 변경하기\n",
    "dictionary[\"name\"] = \"8D 건조망고\"\n",
    "print(\"name:\", dictionary[\"name\"])"
   ]
  },
  {
   "cell_type": "markdown",
   "id": "75ae2277",
   "metadata": {},
   "source": [
    "## 딕셔너리에 값 추가하기/제거하기\n",
    "\n",
    "* 딕셔너리[새로운 키] = 새로운 값\n",
    "* del 딕셔너리[제거할 키] = 값 제거"
   ]
  },
  {
   "cell_type": "code",
   "execution_count": 12,
   "id": "d700e11e",
   "metadata": {},
   "outputs": [
    {
     "data": {
      "text/plain": [
       "{'name': '8D 건조망고',\n",
       " 'type': '당절임',\n",
       " 'ingredient': ['망고', '설탕', '메타중아황산나트륨', '치자황색소'],\n",
       " 'origin': '필리핀',\n",
       " 'price': 5000}"
      ]
     },
     "execution_count": 12,
     "metadata": {},
     "output_type": "execute_result"
    }
   ],
   "source": [
    "dictionary[\"price\"] = 5000\n",
    "dictionary"
   ]
  },
  {
   "cell_type": "code",
   "execution_count": 13,
   "id": "f140c5f5",
   "metadata": {},
   "outputs": [
    {
     "data": {
      "text/plain": [
       "{'name': '9D 건조망고',\n",
       " 'type': '당절임',\n",
       " 'ingredient': ['망고', '설탕', '메타중아황산나트륨', '치자황색소'],\n",
       " 'origin': '필리핀',\n",
       " 'price': 5000}"
      ]
     },
     "execution_count": 13,
     "metadata": {},
     "output_type": "execute_result"
    }
   ],
   "source": [
    "dictionary[\"name\"] = \"9D 건조망고\"\n",
    "dictionary"
   ]
  },
  {
   "cell_type": "code",
   "execution_count": 17,
   "id": "b7f1e8ac",
   "metadata": {},
   "outputs": [
    {
     "data": {
      "text/plain": [
       "{'name': '9D 건조망고', 'type': '당절임', 'origin': '필리핀', 'price': 5000}"
      ]
     },
     "execution_count": 17,
     "metadata": {},
     "output_type": "execute_result"
    }
   ],
   "source": [
    "del dictionary[\"ingredient\"]\n",
    "dictionary"
   ]
  },
  {
   "cell_type": "code",
   "execution_count": 19,
   "id": "3dc80b4e",
   "metadata": {},
   "outputs": [
    {
     "name": "stdout",
     "output_type": "stream",
     "text": [
      "요소 추가 이전: {}\n",
      "요소 추가 이후: {'name': '새로운 이름', 'head': '새로운 정신', 'body': '새로운 몸'}\n"
     ]
    }
   ],
   "source": [
    "# 딕셔너리에 요소 추가하기\n",
    "\n",
    "dictionary = {}\n",
    "\n",
    "print(\"요소 추가 이전:\", dictionary)\n",
    "\n",
    "dictionary[\"name\"] = \"새로운 이름\"\n",
    "dictionary[\"head\"] = \"새로운 정신\"\n",
    "dictionary[\"body\"] = \"새로운 몸\"\n",
    "\n",
    "print(\"요소 추가 이후:\", dictionary)"
   ]
  },
  {
   "cell_type": "code",
   "execution_count": 20,
   "id": "bfc30800",
   "metadata": {
    "scrolled": true
   },
   "outputs": [
    {
     "name": "stdout",
     "output_type": "stream",
     "text": [
      "요소 제거 이전: {'name': '7D 건조 망고', 'type': '당절임'}\n",
      "요소 제거 이후: {}\n"
     ]
    }
   ],
   "source": [
    "# 딕셔너리에 요소 제거하기\n",
    "\n",
    "dictionary = {\n",
    "    \"name\": \"7D 건조 망고\",\n",
    "    \"type\": \"당절임\",\n",
    "}\n",
    "\n",
    "print(\"요소 제거 이전:\", dictionary)\n",
    "\n",
    "del dictionary[\"name\"]\n",
    "del dictionary[\"type\"]\n",
    "\n",
    "print(\"요소 제거 이후:\", dictionary)"
   ]
  },
  {
   "cell_type": "markdown",
   "id": "f2a414e0",
   "metadata": {},
   "source": [
    "## 딕셔너리 내부에 키가 있는지 확인하기"
   ]
  },
  {
   "cell_type": "markdown",
   "id": "09449372",
   "metadata": {},
   "source": [
    "#### in 키워드: 딕셔너리 내부에 키가 있는지 없는지 확인"
   ]
  },
  {
   "cell_type": "code",
   "execution_count": 22,
   "id": "b16ca351",
   "metadata": {},
   "outputs": [
    {
     "name": "stdout",
     "output_type": "stream",
     "text": [
      "> 접근하고자 하는 키:ㅇ ㅂ ㅇ\n",
      "존재하지 않는 키에 접근하고 있습니다.\n"
     ]
    }
   ],
   "source": [
    "# 키가 존재하는지 확인하고 값에 접근하기\n",
    "\n",
    "dictionary = {\n",
    "    \"name\": \"7D 건조 망고\",\n",
    "    \"type\": \"당절임\",\n",
    "    \"ingredient\": [\"망고\", \"설탕\", \"메타중아황산나트륨\", \"치자황색소\"],\n",
    "    \"origin\": \"필리핀\"\n",
    "}\n",
    "\n",
    "key = input(\"> 접근하고자 하는 키:\")\n",
    "\n",
    "if key in dictionary:\n",
    "    print(dictionary[key])\n",
    "else:\n",
    "    print(\"존재하지 않는 키에 접근하고 있습니다.\")"
   ]
  },
  {
   "cell_type": "markdown",
   "id": "04a2d173",
   "metadata": {},
   "source": [
    "#### get() 함수: 존재하지 않는 키에 접근할 경우 KeyError를 발생시키지 않고 None을 출력한다."
   ]
  },
  {
   "cell_type": "code",
   "execution_count": 23,
   "id": "b94a695c",
   "metadata": {},
   "outputs": [
    {
     "name": "stdout",
     "output_type": "stream",
     "text": [
      "값: None\n",
      "존재하지 않는 키에 접근했었습니다. <class 'NoneType'> <class 'NoneType'>\n"
     ]
    }
   ],
   "source": [
    "# 키가 존재하지 않을 때 None을 출력하는지 확인하기\n",
    "\n",
    "dictionary = {\n",
    "    \"name\": \"7D 건조 망고\",\n",
    "    \"type\": \"당절임\",\n",
    "    \"ingredient\": [\"망고\", \"설탕\", \"메타중아황산나트륨\", \"치자황색소\"],\n",
    "    \"origin\": \"필리핀\"\n",
    "}\n",
    "\n",
    "value = dictionary.get(\"존재하지 않는 키\")\n",
    "print(\"값:\", value)\n",
    "\n",
    "if value == None:\n",
    "    print(\"존재하지 않는 키에 접근했었습니다.\", type(value), type(None))"
   ]
  },
  {
   "cell_type": "markdown",
   "id": "fd0b6b73",
   "metadata": {},
   "source": [
    "## for 반복문: 딕셔너리와 함께 사용하기\n",
    "\n",
    "* 딕셔너리 반복문은 딕셔너리 내부에 있는 키가 변수에 들어간다\n",
    "* 리스트와 달리, 각 요소별로 들어가는 게 아니라 **키가 변수에 들어간다.**\n",
    "\n",
    "for 키 변수 in 딕셔너리:<br>\n",
    "&emsp;&nbsp;코드"
   ]
  },
  {
   "cell_type": "code",
   "execution_count": 7,
   "id": "cf424301",
   "metadata": {},
   "outputs": [
    {
     "name": "stdout",
     "output_type": "stream",
     "text": [
      "name : 7D 건조 망고\n",
      "type : 당절임\n",
      "ingredient : ['망고', '설탕', '메타중아황산나트륨', '치자황색소']\n",
      "origin : 필리핀\n"
     ]
    }
   ],
   "source": [
    "# for 반복문과 딕셔너리\n",
    "\n",
    "dictionary = {\n",
    "    \"name\": \"7D 건조 망고\",\n",
    "    \"type\": \"당절임\",\n",
    "    \"ingredient\": [\"망고\", \"설탕\", \"메타중아황산나트륨\", \"치자황색소\"],\n",
    "    \"origin\": \"필리핀\"\n",
    "}\n",
    "\n",
    "for key in dictionary:\n",
    "    print(key, \":\", dictionary[key])"
   ]
  },
  {
   "cell_type": "code",
   "execution_count": 54,
   "id": "44d67656",
   "metadata": {
    "scrolled": true
   },
   "outputs": [
    {
     "ename": "SyntaxError",
     "evalue": "Missing parentheses in call to 'print'. Did you mean print(...)? (922729518.py, line 12)",
     "output_type": "error",
     "traceback": [
      "  \u001b[36mCell\u001b[39m\u001b[36m \u001b[39m\u001b[32mIn[54]\u001b[39m\u001b[32m, line 12\u001b[39m\n\u001b[31m    \u001b[39m\u001b[31mprint key\u001b[39m\n    ^\n\u001b[31mSyntaxError\u001b[39m\u001b[31m:\u001b[39m Missing parentheses in call to 'print'. Did you mean print(...)?\n"
     ]
    }
   ],
   "source": [
    "character = {\n",
    "    \"name\": \"기사\",\n",
    "    \"level\": 12,\n",
    "    \"items\": {\n",
    "        \"sword\": \"불꽃의 검\",\n",
    "        \"armor\": \"풀플레이트\"\n",
    "    },\n",
    "    \"skill\": [\"베기\", \"세게 베기\", \"아주 세게 베기\"]\n",
    "}\n",
    "\n",
    "for key in character:\n",
    "    "
   ]
  }
 ],
 "metadata": {
  "kernelspec": {
   "display_name": "Python 3 (ipykernel)",
   "language": "python",
   "name": "python3"
  },
  "language_info": {
   "codemirror_mode": {
    "name": "ipython",
    "version": 3
   },
   "file_extension": ".py",
   "mimetype": "text/x-python",
   "name": "python",
   "nbconvert_exporter": "python",
   "pygments_lexer": "ipython3",
   "version": "3.11.11"
  }
 },
 "nbformat": 4,
 "nbformat_minor": 5
}
