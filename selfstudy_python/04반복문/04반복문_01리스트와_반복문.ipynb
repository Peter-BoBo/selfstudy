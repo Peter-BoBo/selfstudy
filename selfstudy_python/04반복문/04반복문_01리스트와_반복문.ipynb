{
 "cells": [
  {
   "cell_type": "markdown",
   "id": "1ea109d2",
   "metadata": {},
   "source": [
    "# 리스트와 반복문\n",
    "\n",
    "* 숫자, 문자, 수식 등이 개별적인, 독립적인 '자료'였다면 **리스트는 이러한 자료들을 모아서 사용할 수 있게 해주는 특별한 형태의 자료이다.**\n",
    "* 리스트는 대괄호 [] 내부에 여러 종류의 자료를 넣어 선언한다."
   ]
  },
  {
   "cell_type": "code",
   "execution_count": 1,
   "id": "a7b92cd4",
   "metadata": {},
   "outputs": [
    {
     "name": "stdout",
     "output_type": "stream",
     "text": [
      "[273, 32, 103, '문자열', True, False]\n"
     ]
    }
   ],
   "source": [
    "array = [273, 32, 103, \"문자열\", True, False]\n",
    "print(array)"
   ]
  },
  {
   "cell_type": "markdown",
   "id": "1cafab4e",
   "metadata": {},
   "source": [
    "## *리스트 선언하고 요소에 접근하기\n",
    "* 대괄호[]에 자료를 쉼표로 구분해서 입력한다.\n",
    "* 대활호 내부에 넣은 자료를 **요소(element)** 라고 한다.\n",
    "* 리스트 기호인 대괄호[] 안에 들어간 숫자를 **인덱스(index)** 라고 부른다."
   ]
  },
  {
   "cell_type": "code",
   "execution_count": 4,
   "id": "d46a1cd2",
   "metadata": {},
   "outputs": [
    {
     "name": "stdout",
     "output_type": "stream",
     "text": [
      "273\n",
      "32\n",
      "103\n",
      "[32, 103]\n"
     ]
    }
   ],
   "source": [
    "# 리스트 내부 요소 사용하기\n",
    "\n",
    "list_a = [273, 32, 103, \"문자열\", True, False]\n",
    "\n",
    "#문자열과 같이, 각 요소를 0부터 숫자 매긴다\n",
    "\n",
    "print(list_a[0])\n",
    "print(list_a[1])\n",
    "print(list_a[2])\n",
    "print(list_a[1:3])"
   ]
  },
  {
   "cell_type": "code",
   "execution_count": 5,
   "id": "652032ed",
   "metadata": {},
   "outputs": [
    {
     "data": {
      "text/plain": [
       "['변경', 32, 103, '문자열', True, False]"
      ]
     },
     "execution_count": 5,
     "metadata": {},
     "output_type": "execute_result"
    }
   ],
   "source": [
    "# 리스트의 특정 요소는 변경 가능\n",
    "\n",
    "list_a[0]= \"변경\"\n",
    "list_a"
   ]
  },
  {
   "cell_type": "code",
   "execution_count": 9,
   "id": "e90deba5",
   "metadata": {},
   "outputs": [
    {
     "name": "stdout",
     "output_type": "stream",
     "text": [
      "False\n",
      "문자열\n"
     ]
    }
   ],
   "source": [
    "# 대괄호 안에 음수를 넣어 뒤에서부터 요소를 선택할 수 있다.\n",
    "\n",
    "print(list_a[-1])\n",
    "\n",
    "print(list_a[-3])"
   ]
  },
  {
   "cell_type": "code",
   "execution_count": 10,
   "id": "1d341deb",
   "metadata": {},
   "outputs": [
    {
     "data": {
      "text/plain": [
       "'문'"
      ]
     },
     "execution_count": 10,
     "metadata": {},
     "output_type": "execute_result"
    }
   ],
   "source": [
    "# 리스트 접근 연산자를 다음과 같이 이중으로 사용할 수 있다.\n",
    "\n",
    "list_a[3][0]"
   ]
  },
  {
   "cell_type": "code",
   "execution_count": 11,
   "id": "7b5c438d",
   "metadata": {},
   "outputs": [
    {
     "name": "stdout",
     "output_type": "stream",
     "text": [
      "[4, 5, 6]\n",
      "5\n"
     ]
    }
   ],
   "source": [
    "# 리스트 안에 리스트를 사용할 수도 있다.\n",
    "\n",
    "list_a = [[1,2,3], [4,5,6], [7,8,9]]\n",
    "print(list_a[1])\n",
    "\n",
    "print(list_a[1][1])"
   ]
  },
  {
   "cell_type": "code",
   "execution_count": 12,
   "id": "d397d653",
   "metadata": {},
   "outputs": [
    {
     "ename": "IndexError",
     "evalue": "list index out of range",
     "output_type": "error",
     "traceback": [
      "\u001b[31m---------------------------------------------------------------------------\u001b[39m",
      "\u001b[31mIndexError\u001b[39m                                Traceback (most recent call last)",
      "\u001b[36mCell\u001b[39m\u001b[36m \u001b[39m\u001b[32mIn[12]\u001b[39m\u001b[32m, line 4\u001b[39m\n\u001b[32m      1\u001b[39m \u001b[38;5;66;03m# 리스트에서의 IndexError 예외\u001b[39;00m\n\u001b[32m      3\u001b[39m list_a = [\u001b[32m273\u001b[39m, \u001b[32m32\u001b[39m, \u001b[32m103\u001b[39m]\n\u001b[32m----> \u001b[39m\u001b[32m4\u001b[39m \u001b[43mlist_a\u001b[49m\u001b[43m[\u001b[49m\u001b[32;43m3\u001b[39;49m\u001b[43m]\u001b[49m\n",
      "\u001b[31mIndexError\u001b[39m: list index out of range"
     ]
    }
   ],
   "source": [
    "# 리스트에서의 IndexError 예외\n",
    "\n",
    "list_a = [273, 32, 103]\n",
    "list_a[3]"
   ]
  },
  {
   "cell_type": "markdown",
   "id": "575e4dc5",
   "metadata": {},
   "source": [
    "## 리스트 연산하기: 연결(+), 반복(*), len()"
   ]
  },
  {
   "cell_type": "code",
   "execution_count": 14,
   "id": "62c4aad7",
   "metadata": {},
   "outputs": [
    {
     "name": "stdout",
     "output_type": "stream",
     "text": [
      "# 리스트\n",
      "list_a = [1, 2, 3]\n",
      "list_b = [4, 5, 6]\n",
      "\n",
      "# 리스트 기본 연산자\n",
      "list_a + list_b = [1, 2, 3, 4, 5, 6]\n",
      "list_a * 3 = [1, 2, 3, 1, 2, 3, 1, 2, 3]\n",
      "\n",
      "# 길이 구하기\n",
      "len(list_a) = 3\n"
     ]
    }
   ],
   "source": [
    "# 리스트 연산자\n",
    "\n",
    "list_a = [1, 2, 3]\n",
    "list_b = [4, 5, 6]\n",
    "\n",
    "print(\"# 리스트\")\n",
    "print(\"list_a =\", list_a)\n",
    "print(\"list_b =\", list_b)\n",
    "print()\n",
    "\n",
    "print(\"# 리스트 기본 연산자\")\n",
    "print(\"list_a + list_b =\", list_a + list_b)\n",
    "print(\"list_a * 3 =\", list_a * 3)\n",
    "print()\n",
    "\n",
    "# len() 함수는 문자열의 경우 글자 수(=길이)를 세어 주지만, 리스트 변수를 넣으면 요소의 개수를 세어 준다.\n",
    "print(\"# 길이 구하기\")\n",
    "print(\"len(list_a) =\", len(list_a))"
   ]
  },
  {
   "cell_type": "markdown",
   "id": "1e6d8c94",
   "metadata": {},
   "source": [
    "## 리스트에 요소 추가하기: append(), insert(), expend()\n",
    "\n",
    "* 리스트명.append(요소): 리스트 뒤에 요소를 추가\n",
    "* 리스트명.insert(위치, 요소): 리스트의 중간에 요소를 추가\n",
    "* 리스트명.extend(매개변수): 한 번에 여러 요소를 추가 (append 함수를 여러 번 쓴 것과 같다)\n",
    "* **리스트 연결 연산자는 원본에 영향을 주지 않는 비파괴적 처리이고, 위와 같이 리스트에 직접적인 영향을 주는 함수 또는 연산을 파괴적 처리라고 한다.**"
   ]
  },
  {
   "cell_type": "code",
   "execution_count": 17,
   "id": "372f8d45",
   "metadata": {},
   "outputs": [
    {
     "name": "stdout",
     "output_type": "stream",
     "text": [
      "# 리스트 뒤에 요소 추가하기\n",
      "[1, 2, 3, 4, 5]\n",
      "\n",
      "# 리스트 중간에 요소 추가하기\n",
      "[10, 1, 2, 3, 4, 5]\n",
      "# 리스트 뒤에 여러 요소 추가하기\n",
      "[10, 1, 2, 3, 4, 5, 4, 5, 6]\n"
     ]
    }
   ],
   "source": [
    "# 리스트에 요소 추가하기\n",
    "\n",
    "list_a = [1, 2, 3]\n",
    "\n",
    "print(\"# 리스트 뒤에 요소 추가하기\")\n",
    "list_a.append(4)\n",
    "list_a.append(5)\n",
    "print(list_a)\n",
    "print()\n",
    "\n",
    "# insert로 기존 위치의 요소는 뒤로 하나씩 밀리게 된다.\n",
    "print(\"# 리스트 중간에 요소 추가하기\")\n",
    "list_a.insert(0, 10)\n",
    "print(list_a)\n",
    "\n",
    "# 한 번에 여러 요소 추가\n",
    "print(\"# 리스트 뒤에 여러 요소 추가하기\")\n",
    "list_a.extend([4, 5, 6])\n",
    "print(list_a)"
   ]
  },
  {
   "cell_type": "markdown",
   "id": "65efce31",
   "metadata": {},
   "source": [
    "## 리스트에 요소 제거하기\n",
    "\n",
    "* 인덱스로 제거하기\n",
    "* 값으로 제거하기"
   ]
  },
  {
   "cell_type": "markdown",
   "id": "a3aa3f94",
   "metadata": {},
   "source": [
    "#### 인덱스로 제거하기: del 키워드, pop()\n",
    "\n",
    "* del 리스트명[인덱스]: 리스트의 특정 인덱스에 있는 요소 제거\n",
    "* 리스트명.pop(인덱스): 매개변수를 입력하지 않으면 -1이 들어가는 것으로 취급해서 '마지막 요소'를 제거"
   ]
  },
  {
   "cell_type": "code",
   "execution_count": 18,
   "id": "b34eaf0c",
   "metadata": {},
   "outputs": [
    {
     "name": "stdout",
     "output_type": "stream",
     "text": [
      "# 리스트의 요소 하나 제거하기\n",
      "del list_a[1]: [0, 2, 3, 4, 5]\n",
      "pop(2) [0, 2, 4, 5]\n"
     ]
    }
   ],
   "source": [
    "# 리스트 요소 하나 제거하기\n",
    "\n",
    "list_a = [0, 1, 2, 3, 4, 5]\n",
    "print(\"# 리스트의 요소 하나 제거하기\")\n",
    "\n",
    "del list_a[1]\n",
    "print(\"del list_a[1]:\", list_a)\n",
    "\n",
    "list_a.pop(2)\n",
    "print(\"pop(2)\", list_a)"
   ]
  },
  {
   "cell_type": "code",
   "execution_count": 22,
   "id": "55aee797",
   "metadata": {},
   "outputs": [
    {
     "name": "stdout",
     "output_type": "stream",
     "text": [
      "[0, 1, 2, 6]\n",
      "[3, 4, 5, 6]\n",
      "[0, 1, 2]\n"
     ]
    }
   ],
   "source": [
    "# del 키워드 범위 지정해서 사용하기 (리스트 슬라이싱)\n",
    "\n",
    "list_b = [0, 1, 2, 3, 4, 5, 6]\n",
    "del list_b[3:6]\n",
    "print(list_b)\n",
    "\n",
    "# 범위의 한쪽을 입력하지 않으면 지정한 위치를 기준으로 한 쪽을 전부 제거한다.\n",
    "list_c = [0, 1, 2, 3, 4, 5, 6]\n",
    "del list_c[:3]\n",
    "print(list_c)\n",
    "\n",
    "list_d = [0, 1, 2, 3, 4, 5, 6]\n",
    "del list_d[3:]\n",
    "print(list_d)"
   ]
  },
  {
   "cell_type": "markdown",
   "id": "b2695abd",
   "metadata": {},
   "source": [
    "리스트 슬라이싱\n",
    "\n",
    "* 리스트[시작_인덱스:끝_인덱스:단계]<br>\n",
    "*단계는 기본값이 1이다."
   ]
  },
  {
   "cell_type": "code",
   "execution_count": 28,
   "id": "4fd126d2",
   "metadata": {},
   "outputs": [
    {
     "name": "stdout",
     "output_type": "stream",
     "text": [
      "[1, 3, 5]\n",
      "[8, 7, 6, 5, 4, 3, 2, 1]\n"
     ]
    }
   ],
   "source": [
    "numbers = [1,2,3,4,5,6,7,8]\n",
    "print(numbers[0:5:2])\n",
    "print(numbers[::-1])"
   ]
  },
  {
   "cell_type": "markdown",
   "id": "e40558d4",
   "metadata": {},
   "source": [
    "#### 값으로 제거하기: remove()\n",
    "\n",
    "* 리스트.remove(값): 리스트 내부에 있는 '특정값'을 제거\n",
    "* 중복값이 있다면 인덱스 번호가 낮은 순으로 먼저 제거된다"
   ]
  },
  {
   "cell_type": "code",
   "execution_count": 29,
   "id": "bebd482d",
   "metadata": {},
   "outputs": [
    {
     "name": "stdout",
     "output_type": "stream",
     "text": [
      "[1, 1, 2]\n"
     ]
    }
   ],
   "source": [
    "list_c=[1, 2, 1, 2]\n",
    "list_c.remove(2)\n",
    "print(list_c)"
   ]
  },
  {
   "cell_type": "markdown",
   "id": "79f3c834",
   "metadata": {},
   "source": [
    "#### 모두 제거하기: clear()\n",
    "\n",
    "* 리스트.clear(): 리스트 내부의 요소를 모두 제거"
   ]
  },
  {
   "cell_type": "code",
   "execution_count": 30,
   "id": "38ef5a29",
   "metadata": {},
   "outputs": [
    {
     "data": {
      "text/plain": [
       "[]"
      ]
     },
     "execution_count": 30,
     "metadata": {},
     "output_type": "execute_result"
    }
   ],
   "source": [
    "list_d = [0, 1, 2, 3, 4, 5]\n",
    "list_d.clear()\n",
    "list_d"
   ]
  },
  {
   "cell_type": "markdown",
   "id": "459b32c0",
   "metadata": {},
   "source": [
    "## 리스트 정렬하기: sort()\n",
    "\n",
    "* 리스트.sort() :기본 오름차순 정렬\n",
    "* 리스트.sort(reverse=True): 내림차순 정렬\n",
    "* **파괴적 처리**"
   ]
  },
  {
   "cell_type": "code",
   "execution_count": 31,
   "id": "dc25a41b",
   "metadata": {},
   "outputs": [
    {
     "data": {
      "text/plain": [
       "[1, 7, 32, 52, 103, 273, 275]"
      ]
     },
     "execution_count": 31,
     "metadata": {},
     "output_type": "execute_result"
    }
   ],
   "source": [
    "list_e = [52, 273, 103, 32, 275, 1, 7]\n",
    "list_e.sort() # 오름차순 정렬\n",
    "list_e"
   ]
  },
  {
   "cell_type": "code",
   "execution_count": 32,
   "id": "297a9fe3",
   "metadata": {},
   "outputs": [
    {
     "data": {
      "text/plain": [
       "[275, 273, 103, 52, 32, 7, 1]"
      ]
     },
     "execution_count": 32,
     "metadata": {},
     "output_type": "execute_result"
    }
   ],
   "source": [
    "list_e = [52, 273, 103, 32, 275, 1, 7]\n",
    "list_e.sort(reverse=True) # 내림차순 정렬\n",
    "list_e"
   ]
  },
  {
   "cell_type": "markdown",
   "id": "c0695a96",
   "metadata": {},
   "source": [
    "## 리스트 내부에 있는지 확인하기: in/not in 연산자\n",
    "\n",
    "* 값 in 리스트: 특정 값이 리스트 내부에 있는지 확인 (리스트 내부에 값이 있으면 True, 없으면 False를 출력)\n",
    "* 값 not in 리스트: 특정 값이 리스트 내부에 없는지 확인 (리스트 내부에 값이 없으면 True, 있으면 False를 출력)"
   ]
  },
  {
   "cell_type": "code",
   "execution_count": 34,
   "id": "a724c4cb",
   "metadata": {},
   "outputs": [
    {
     "name": "stdout",
     "output_type": "stream",
     "text": [
      "True\n",
      "False\n",
      "False\n",
      "True\n"
     ]
    }
   ],
   "source": [
    "list_a = [273, 32, 103, 57, 52]\n",
    "print(273 in list_a)\n",
    "\n",
    "print(99 in list_a)\n",
    "\n",
    "print(100 in list_a)\n",
    "\n",
    "print(52 in list_a)"
   ]
  },
  {
   "cell_type": "code",
   "execution_count": 35,
   "id": "22b9bf7e",
   "metadata": {},
   "outputs": [
    {
     "name": "stdout",
     "output_type": "stream",
     "text": [
      "False\n",
      "True\n",
      "True\n",
      "False\n"
     ]
    }
   ],
   "source": [
    "list_a = [273, 32, 103, 57, 52]\n",
    "\n",
    "print(273 not in list_a)\n",
    "\n",
    "print(99 not in list_a)\n",
    "\n",
    "print(100 not in list_a)\n",
    "\n",
    "print(52 not in list_a)"
   ]
  },
  {
   "cell_type": "markdown",
   "id": "6c6bc7f0",
   "metadata": {},
   "source": [
    "## for 반복문: 리스트와 함께 사용하기\n",
    "* 여러 개의 값을 나타낼 수 있는 리스트와 같은 자료를 사용해서 반복문을 적용하는 것이 반복문의 기본\n",
    "* for 반복자 in 반복할 수 있는 것:<br>\n",
    "&emsp;&nbsp;코드\n",
    "* 반복할 수 있는 것에는 문자열, 리스트, 딕셔너리, 범위 등이 있다."
   ]
  },
  {
   "cell_type": "code",
   "execution_count": 2,
   "id": "d88474f6",
   "metadata": {},
   "outputs": [
    {
     "name": "stdout",
     "output_type": "stream",
     "text": [
      "273\n",
      "32\n",
      "103\n",
      "57\n",
      "52\n"
     ]
    }
   ],
   "source": [
    "# for 반복문과 리스트\n",
    "array = [273, 32, 103, 57, 52]\n",
    "\n",
    "for element in  array:\n",
    "    print(element)"
   ]
  },
  {
   "cell_type": "code",
   "execution_count": 3,
   "id": "1d9afc83",
   "metadata": {},
   "outputs": [
    {
     "name": "stdout",
     "output_type": "stream",
     "text": [
      "- 안\n",
      "- 녕\n",
      "- 하\n",
      "- 세\n",
      "- 요\n"
     ]
    }
   ],
   "source": [
    "# for 반복문과 문자열\n",
    "\n",
    "for character in \"안녕하세요\":\n",
    "    print(\"-\", character)"
   ]
  },
  {
   "cell_type": "markdown",
   "id": "0cb39d4f",
   "metadata": {},
   "source": [
    "## 중첩 리스트와 중첩 반복문\n",
    "* 반복문을 여러 겹 중첩해 사용하면 중첩 반복문\n",
    "* 중첩 반복문은 일반적으로 n-차원 처리를 할 때 사용\n",
    "* [1, 2, 3]처럼 리스트가 한 겹으로 감싸진 리스트를 1차원 리스트, [[1,2,3],[4,5,6]]처럼 두 겹으로 감싸진 리스트를 2차원 리스트라고 부른다"
   ]
  },
  {
   "cell_type": "code",
   "execution_count": 11,
   "id": "39dbdfee",
   "metadata": {},
   "outputs": [
    {
     "name": "stdout",
     "output_type": "stream",
     "text": [
      "[1, 2, 3]\n",
      "[4, 5, 6, 7]\n",
      "[8, 9]\n"
     ]
    }
   ],
   "source": [
    "# 2차원 리스트에 반복문 한 번 사용하기\n",
    "\n",
    "list_of_list = [\n",
    "    [1, 2, 3],\n",
    "    [4, 5, 6, 7],\n",
    "    [8, 9]\n",
    "]\n",
    "\n",
    "for items in list_of_list:\n",
    "    print(items)"
   ]
  },
  {
   "cell_type": "code",
   "execution_count": 40,
   "id": "cb27bb95",
   "metadata": {},
   "outputs": [
    {
     "name": "stdout",
     "output_type": "stream",
     "text": [
      "1\n",
      "2\n",
      "3\n",
      "4\n",
      "5\n",
      "6\n",
      "7\n",
      "8\n",
      "9\n"
     ]
    }
   ],
   "source": [
    "# 2차원 리스트에 반복문 두번 사용하기\n",
    "\n",
    "list_of_list = [\n",
    "    [1, 2, 3],\n",
    "    [4, 5, 6, 7],\n",
    "    [8, 9]\n",
    "]\n",
    "\n",
    "for items in list_of_list:\n",
    "    for item in items:\n",
    "        print(item)"
   ]
  },
  {
   "cell_type": "code",
   "execution_count": 5,
   "id": "d578ea77",
   "metadata": {},
   "outputs": [
    {
     "name": "stdout",
     "output_type": "stream",
     "text": [
      "1\n",
      "2\n",
      "3\n",
      "4\n",
      "5\n",
      "6\n",
      "7\n",
      "8\n",
      "9\n"
     ]
    }
   ],
   "source": [
    "# 2차원 리스트에 반복문 두번 사용하기_개별 요소 출력\n",
    "list_of_list = [\n",
    "    [1, 2, 3],\n",
    "    [4, 5, 6, 7],\n",
    "    [8, 9]\n",
    "]\n",
    "for items in list_of_list:\n",
    "    for item in items:\n",
    "        print(item)"
   ]
  },
  {
   "cell_type": "markdown",
   "id": "044ab7d1",
   "metadata": {},
   "source": [
    "### 전개 연산자\n",
    "* *리스트 -> 리스트 [0], 리스트 [1], ...."
   ]
  },
  {
   "cell_type": "markdown",
   "id": "a0e01d8f",
   "metadata": {},
   "source": [
    "1. 리스트 내부에 사용하는 경우"
   ]
  },
  {
   "cell_type": "code",
   "execution_count": 9,
   "id": "80cad10f",
   "metadata": {},
   "outputs": [
    {
     "data": {
      "text/plain": [
       "[1, 2, 3, 4, 1, 2, 3, 4]"
      ]
     },
     "execution_count": 9,
     "metadata": {},
     "output_type": "execute_result"
    }
   ],
   "source": [
    "a = [1, 2, 3, 4]\n",
    "b = [*a, *a]\n",
    "b"
   ]
  },
  {
   "cell_type": "code",
   "execution_count": 14,
   "id": "b598660d",
   "metadata": {},
   "outputs": [
    {
     "name": "stdout",
     "output_type": "stream",
     "text": [
      "[1, 2, 3, 4]\n",
      "[1, 2, 3, 4, 5]\n"
     ]
    }
   ],
   "source": [
    "# .append() 함수를 사용한 경우\n",
    "\n",
    "a = [1, 2, 3, 4]\n",
    "a.append(5)\n",
    "a # a의 내용이 변경된다\n",
    "\n",
    "# 전개 연산자를 사용한 경우\n",
    "\n",
    "b = [1, 2, 3, 4]\n",
    "c = [*b, 5]\n",
    "print(b) # b 내용에는 어떠한 영향도 없다\n",
    "print(c) # 리스트 b를 비파괴적으로 보존할 수 있다"
   ]
  },
  {
   "cell_type": "markdown",
   "id": "86372fe7",
   "metadata": {},
   "source": [
    "2. 함수 매개변수 위치에 사용하는 경우"
   ]
  },
  {
   "cell_type": "code",
   "execution_count": 15,
   "id": "3e627afd",
   "metadata": {},
   "outputs": [
    {
     "name": "stdout",
     "output_type": "stream",
     "text": [
      "1 2 3 4\n"
     ]
    }
   ],
   "source": [
    "a= [1,2,3,4]\n",
    "print(*a)"
   ]
  },
  {
   "cell_type": "code",
   "execution_count": 51,
   "id": "0267f5f9",
   "metadata": {
    "scrolled": true
   },
   "outputs": [
    {
     "name": "stdout",
     "output_type": "stream",
     "text": [
      "273는 3 자릿수 입니다\n",
      "103는 3 자릿수 입니다\n",
      "5는 1 자릿수 입니다\n",
      "32는 2 자릿수 입니다\n",
      "65는 2 자릿수 입니다\n",
      "9는 1 자릿수 입니다\n",
      "72는 2 자릿수 입니다\n",
      "800는 3 자릿수 입니다\n",
      "99는 2 자릿수 입니다\n"
     ]
    }
   ],
   "source": [
    "numbers = [273, 103, 5, 32, 65, 9, 72, 800, 99]\n",
    "\n",
    "for number in numbers:\n",
    "    if number >= 100:\n",
    "        print(f\"{number}는 3 자릿수 입니다\")\n",
    "    elif 100 > number >= 10:\n",
    "        print(f\"{number}는 2 자릿수 입니다\")\n",
    "    elif 10 > number >= 1:\n",
    "        print(f\"{number}는 1 자릿수 입니다\")"
   ]
  },
  {
   "cell_type": "code",
   "execution_count": 90,
   "id": "ee4e936f",
   "metadata": {
    "scrolled": true
   },
   "outputs": [
    {
     "name": "stdout",
     "output_type": "stream",
     "text": [
      "[[3, 6, 9], [1, 4, 7], [2, 5, 8]]\n"
     ]
    }
   ],
   "source": [
    "numbers = [1, 2, 3, 4, 5, 6, 7, 8, 9]\n",
    "output = [[], [], []]\n",
    "\n",
    "for number in numbers:\n",
    "    output[number % 3].append(number)\n",
    "\n",
    "print(output)"
   ]
  },
  {
   "cell_type": "code",
   "execution_count": 99,
   "id": "f7145533",
   "metadata": {},
   "outputs": [
    {
     "name": "stdout",
     "output_type": "stream",
     "text": [
      "i = 0, j = 1\n",
      "i = 1, j = 3\n",
      "i = 2, j = 5\n",
      "i = 3, j = 7\n",
      "[1, 4, 3, 16, 5, 36, 7, 64, 9]\n"
     ]
    }
   ],
   "source": [
    "numbers = [1, 2, 3, 4, 5, 6, 7, 8, 9]\n",
    "\n",
    "for i in range(0, len(numbers) // 2):\n",
    "    j = 2 * i + 1\n",
    "    print(f\"i = {i}, j = {j}\")\n",
    "    numbers[j] = numbers [j] ** 2\n",
    "    \n",
    "print(numbers)"
   ]
  }
 ],
 "metadata": {
  "kernelspec": {
   "display_name": "Python 3 (ipykernel)",
   "language": "python",
   "name": "python3"
  },
  "language_info": {
   "codemirror_mode": {
    "name": "ipython",
    "version": 3
   },
   "file_extension": ".py",
   "mimetype": "text/x-python",
   "name": "python",
   "nbconvert_exporter": "python",
   "pygments_lexer": "ipython3",
   "version": "3.11.11"
  }
 },
 "nbformat": 4,
 "nbformat_minor": 5
}
