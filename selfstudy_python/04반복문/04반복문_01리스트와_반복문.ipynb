{
 "cells": [
  {
   "cell_type": "markdown",
   "id": "1ea109d2",
   "metadata": {},
   "source": [
    "# 리스트와 반복문\n",
    "\n",
    "* 숫자, 문자, 수식 등이 개별적인, 독립적인 '자료'였다면 **리스트는 이러한 자료들을 모아서 사용할 수 있게 해주는 특별한 형태의 자료이다.**\n",
    "* 리스트는 대괄호 [] 내부에 여러 종류의 자료를 넣어 선언한다."
   ]
  },
  {
   "cell_type": "code",
   "execution_count": 1,
   "id": "a7b92cd4",
   "metadata": {},
   "outputs": [
    {
     "name": "stdout",
     "output_type": "stream",
     "text": [
      "[273, 32, 103, '문자열', True, False]\n"
     ]
    }
   ],
   "source": [
    "array = [273, 32, 103, \"문자열\", True, False]\n",
    "print(array)"
   ]
  },
  {
   "cell_type": "markdown",
   "id": "1cafab4e",
   "metadata": {},
   "source": [
    "## 리스트 선언하고 요소에 접근하기"
   ]
  },
  {
   "cell_type": "code",
   "execution_count": null,
   "id": "d46a1cd2",
   "metadata": {},
   "outputs": [],
   "source": []
  },
  {
   "cell_type": "code",
   "execution_count": null,
   "id": "652032ed",
   "metadata": {},
   "outputs": [],
   "source": []
  },
  {
   "cell_type": "markdown",
   "id": "65efce31",
   "metadata": {},
   "source": [
    "# 반복문 하고 다시 돌아오자"
   ]
  },
  {
   "cell_type": "markdown",
   "id": "6c6bc7f0",
   "metadata": {},
   "source": [
    "## for 반복문: 리스트와 함께 사용하기\n",
    "* 여러 개의 값을 나타낼 수 있는 리스트와 같은 자료를 사용해서 반복문을 적용하는 것이 반복문의 기본\n",
    "* for 반복자 in 반복할 수 있는 것:<br>\n",
    "코드\n",
    "* 반복할 수 있는 것에는 문자열, 리스트, 딕셔너리, 범위 등이 있다."
   ]
  },
  {
   "cell_type": "code",
   "execution_count": 2,
   "id": "d88474f6",
   "metadata": {},
   "outputs": [
    {
     "name": "stdout",
     "output_type": "stream",
     "text": [
      "273\n",
      "32\n",
      "103\n",
      "57\n",
      "52\n"
     ]
    }
   ],
   "source": [
    "# for 반복문과 리스트\n",
    "array = [273, 32, 103, 57, 52]\n",
    "\n",
    "for element in  array:\n",
    "    print(element)"
   ]
  },
  {
   "cell_type": "code",
   "execution_count": 3,
   "id": "1d9afc83",
   "metadata": {},
   "outputs": [
    {
     "name": "stdout",
     "output_type": "stream",
     "text": [
      "- 안\n",
      "- 녕\n",
      "- 하\n",
      "- 세\n",
      "- 요\n"
     ]
    }
   ],
   "source": [
    "# for 반복문과 문자열\n",
    "\n",
    "for character in \"안녕하세요\":\n",
    "    print(\"-\", character)"
   ]
  },
  {
   "cell_type": "markdown",
   "id": "0cb39d4f",
   "metadata": {},
   "source": [
    "## 중첩 리스트와 중첩 반복문\n",
    "* 반복문을 여러 겹 중첩해 사용하면 중첩 반복문\n",
    "* 중첩 반복문은 일반적으로 n-차원 처리를 할 때 사용\n",
    "* [1, 2, 3]처럼 리스트가 한 겹으로 감싸진 리스트를 1차원 리스트, [[1,2,3],[4,5,6]]처럼 두 겹으로 감싸진 리스트를 2차원 리스트라고 부른다"
   ]
  },
  {
   "cell_type": "code",
   "execution_count": 11,
   "id": "39dbdfee",
   "metadata": {},
   "outputs": [
    {
     "name": "stdout",
     "output_type": "stream",
     "text": [
      "[1, 2, 3]\n",
      "[4, 5, 6, 7]\n",
      "[8, 9]\n"
     ]
    }
   ],
   "source": [
    "# 2차원 리스트에 반복문 한 번 사용하기\n",
    "\n",
    "list_of_list = [\n",
    "    [1, 2, 3],\n",
    "    [4, 5, 6, 7],\n",
    "    [8, 9]\n",
    "]\n",
    "\n",
    "for items in list_of_list:\n",
    "    print(items)"
   ]
  },
  {
   "cell_type": "code",
   "execution_count": 8,
   "id": "cb27bb95",
   "metadata": {},
   "outputs": [
    {
     "name": "stdout",
     "output_type": "stream",
     "text": [
      "[1, 2, 3]\n",
      "[1, 2, 3]\n",
      "[1, 2, 3]\n",
      "[4, 5, 6, 7]\n",
      "[4, 5, 6, 7]\n",
      "[4, 5, 6, 7]\n",
      "[4, 5, 6, 7]\n",
      "[8, 9]\n",
      "[8, 9]\n"
     ]
    }
   ],
   "source": [
    "# 2차원 리스트에 반복문 두번 사용하기\n",
    "\n",
    "list_of_list = [\n",
    "    [1, 2, 3],\n",
    "    [4, 5, 6, 7],\n",
    "    [8, 9]\n",
    "]\n",
    "\n",
    "for items in list_of_list:\n",
    "    for item in items:\n",
    "        print(items)"
   ]
  },
  {
   "cell_type": "code",
   "execution_count": 5,
   "id": "d578ea77",
   "metadata": {},
   "outputs": [
    {
     "name": "stdout",
     "output_type": "stream",
     "text": [
      "1\n",
      "2\n",
      "3\n",
      "4\n",
      "5\n",
      "6\n",
      "7\n",
      "8\n",
      "9\n"
     ]
    }
   ],
   "source": [
    "# 2차원 리스트에 반복문 두번 사용하기_개별 요소 출력\n",
    "list_of_list = [\n",
    "    [1, 2, 3],\n",
    "    [4, 5, 6, 7],\n",
    "    [8, 9]\n",
    "]\n",
    "for items in list_of_list:\n",
    "    for item in items:\n",
    "        print(item)"
   ]
  },
  {
   "cell_type": "markdown",
   "id": "044ab7d1",
   "metadata": {},
   "source": [
    "### 전개 연산자\n",
    "* *리스트 -> 리스트 [0], 리스트 [1], ...."
   ]
  },
  {
   "cell_type": "markdown",
   "id": "a0e01d8f",
   "metadata": {},
   "source": [
    "1. 리스트 내부에 사용하는 경우"
   ]
  },
  {
   "cell_type": "code",
   "execution_count": 9,
   "id": "80cad10f",
   "metadata": {},
   "outputs": [
    {
     "data": {
      "text/plain": [
       "[1, 2, 3, 4, 1, 2, 3, 4]"
      ]
     },
     "execution_count": 9,
     "metadata": {},
     "output_type": "execute_result"
    }
   ],
   "source": [
    "a = [1, 2, 3, 4]\n",
    "b = [*a, *a]\n",
    "b"
   ]
  },
  {
   "cell_type": "code",
   "execution_count": 14,
   "id": "b598660d",
   "metadata": {},
   "outputs": [
    {
     "name": "stdout",
     "output_type": "stream",
     "text": [
      "[1, 2, 3, 4]\n",
      "[1, 2, 3, 4, 5]\n"
     ]
    }
   ],
   "source": [
    "# .append() 함수를 사용한 경우\n",
    "\n",
    "a = [1, 2, 3, 4]\n",
    "a.append(5)\n",
    "a # a의 내용이 변경된다\n",
    "\n",
    "# 전개 연산자를 사용한 경우\n",
    "\n",
    "b = [1, 2, 3, 4]\n",
    "c = [*b, 5]\n",
    "print(b) # b 내용에는 어떠한 영향도 없다\n",
    "print(c) # 리스트 b를 비파괴적으로 보존할 수 있다"
   ]
  },
  {
   "cell_type": "markdown",
   "id": "86372fe7",
   "metadata": {},
   "source": [
    "2. 함수 매개변수 위치에 사용하는 경우"
   ]
  },
  {
   "cell_type": "code",
   "execution_count": 15,
   "id": "3e627afd",
   "metadata": {},
   "outputs": [
    {
     "name": "stdout",
     "output_type": "stream",
     "text": [
      "1 2 3 4\n"
     ]
    }
   ],
   "source": [
    "a= [1,2,3,4]\n",
    "print(*a)"
   ]
  }
 ],
 "metadata": {
  "kernelspec": {
   "display_name": "Python 3 (ipykernel)",
   "language": "python",
   "name": "python3"
  },
  "language_info": {
   "codemirror_mode": {
    "name": "ipython",
    "version": 3
   },
   "file_extension": ".py",
   "mimetype": "text/x-python",
   "name": "python",
   "nbconvert_exporter": "python",
   "pygments_lexer": "ipython3",
   "version": "3.11.11"
  }
 },
 "nbformat": 4,
 "nbformat_minor": 5
}
