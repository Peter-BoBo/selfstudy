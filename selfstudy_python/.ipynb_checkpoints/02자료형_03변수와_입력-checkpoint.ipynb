{
 "cells": [
  {
   "cell_type": "markdown",
   "id": "edcbfc22",
   "metadata": {},
   "source": [
    "### 문자열을 숫자로 바꾸기"
   ]
  },
  {
   "cell_type": "code",
   "execution_count": 1,
   "id": "5baddc83",
   "metadata": {
    "scrolled": true
   },
   "outputs": [
    {
     "name": "stdout",
     "output_type": "stream",
     "text": [
      "입력A> 273\n",
      "입력B> 52\n",
      "문자열 자료: 27352\n",
      "숫자 자료: 325\n"
     ]
    }
   ],
   "source": [
    "#int()함수 활용하기\n",
    "\n",
    "string_a=input(\"입력A> \")\n",
    "int_a=int(string_a)\n",
    "\n",
    "string_b=input(\"입력B> \")\n",
    "int_b=int(string_b)\n",
    "\n",
    "print(\"문자열 자료:\", string_a + string_b)\n",
    "print(\"숫자 자료:\", int_a + int_b)"
   ]
  },
  {
   "cell_type": "code",
   "execution_count": 2,
   "id": "03067c84",
   "metadata": {},
   "outputs": [
    {
     "name": "stdout",
     "output_type": "stream",
     "text": [
      "<class 'int'> 52\n",
      "<class 'float'> 52.273\n"
     ]
    }
   ],
   "source": [
    "#int()함수와 float()함수 활용하기\n",
    "output_a = int(\"52\")\n",
    "output_b = float(\"52.273\")\n",
    "\n",
    "print(type(output_a), output_a)\n",
    "print(type(output_b), output_b)"
   ]
  },
  {
   "cell_type": "code",
   "execution_count": 3,
   "id": "4c556149",
   "metadata": {},
   "outputs": [
    {
     "name": "stdout",
     "output_type": "stream",
     "text": [
      "첫 번째 숫자>273\n",
      "두 번째 숫자>52\n",
      "덧셈 결과: 325.0\n",
      "뺄셈 결과: 221.0\n",
      "곱셈 결과: 14196.0\n",
      "나눗셈 결과: 5.25\n"
     ]
    }
   ],
   "source": [
    "#int()함수와 float()함수 조합하기\n",
    "\n",
    "input_a = float(input(\"첫 번째 숫자>\"))\n",
    "input_b = float(input(\"두 번째 숫자>\"))\n",
    "\n",
    "print(\"덧셈 결과:\", input_a + input_b)\n",
    "print(\"뺄셈 결과:\", input_a - input_b)\n",
    "print(\"곱셈 결과:\", input_a * input_b)\n",
    "print(\"나눗셈 결과:\", input_a / input_b)"
   ]
  },
  {
   "cell_type": "markdown",
   "id": "1e883b2c",
   "metadata": {},
   "source": [
    "#### ValueError 예외\n",
    "\n",
    "1. 숫자가 아닌 것을 숫자로 변환하려고 할 때\n",
    "2. 소수점이 있는 숫자 형식의 문자열을 int() 함수로 변환하려고 할 때"
   ]
  },
  {
   "cell_type": "markdown",
   "id": "d019f691",
   "metadata": {},
   "source": [
    "### 숫자를 문자열로 바꾸기"
   ]
  },
  {
   "cell_type": "code",
   "execution_count": 4,
   "id": "3b3df460",
   "metadata": {},
   "outputs": [
    {
     "name": "stdout",
     "output_type": "stream",
     "text": [
      "<class 'str'> 52\n",
      "<class 'str'> 52.273\n"
     ]
    }
   ],
   "source": [
    "#str() 함수를 사용해 숫자를 문자열로 변환하기\n",
    "\n",
    "output_a = str(52)\n",
    "output_b = str(52.273)\n",
    "print(type(output_a), output_a)\n",
    "print(type(output_b), output_b)"
   ]
  },
  {
   "cell_type": "markdown",
   "id": "737cc4ed",
   "metadata": {},
   "source": [
    "### inch 단위를 cm 단위로 변경하기"
   ]
  },
  {
   "cell_type": "code",
   "execution_count": 7,
   "id": "bbea4b5e",
   "metadata": {},
   "outputs": [
    {
     "name": "stdout",
     "output_type": "stream",
     "text": [
      "inch 단위의 숫자를 입력해주세요: 27\n",
      "27 inch는 cm 단위로 68.58 cm입니다.\n"
     ]
    }
   ],
   "source": [
    "# 숫자를 입력받습니다.\n",
    "raw_input = input(\"inch 단위의 숫자를 입력해주세요: \")\n",
    "\n",
    "# 입력받은 데이터를 숫자 자료형으로 변형하고, cm 단위로 변경합니다.\n",
    "inch = int(raw_input)\n",
    "cm = inch * 2.54\n",
    "\n",
    "#출력합니다.\n",
    "print(inch, \"inch는 cm 단위로\", cm, \"cm입니다.\")"
   ]
  },
  {
   "cell_type": "code",
   "execution_count": 10,
   "id": "747a442c",
   "metadata": {},
   "outputs": [
    {
     "name": "stdout",
     "output_type": "stream",
     "text": [
      "숫자20\n",
      "\n",
      "20 inch\n",
      "50.8 cm\n"
     ]
    }
   ],
   "source": [
    "a=input(\"숫자\")\n",
    "b=int(a)\n",
    "\n",
    "print()\n",
    "print(b, \"inch\")\n",
    "print((b * 2.54), \"cm\")"
   ]
  },
  {
   "cell_type": "code",
   "execution_count": 12,
   "id": "aad45d45",
   "metadata": {},
   "outputs": [
    {
     "name": "stdout",
     "output_type": "stream",
     "text": [
      "문자열 입력> 안녕하세요\n",
      "문자열 입력> 아침입니다\n",
      "안녕하세요 아침입니다\n",
      "아침입니다 안녕하세요\n"
     ]
    }
   ],
   "source": [
    "a = input(\"문자열 입력> \")\n",
    "b = input(\"문자열 입력> \")\n",
    "\n",
    "print(a,b)\n",
    "\n",
    "a,b = b,a\n",
    "\n",
    "print(a,b)"
   ]
  },
  {
   "cell_type": "code",
   "execution_count": null,
   "id": "b9c91f9e",
   "metadata": {},
   "outputs": [],
   "source": []
  },
  {
   "cell_type": "code",
   "execution_count": null,
   "id": "d27e49c1",
   "metadata": {},
   "outputs": [],
   "source": []
  },
  {
   "cell_type": "code",
   "execution_count": null,
   "id": "9a5b956d",
   "metadata": {},
   "outputs": [],
   "source": []
  },
  {
   "cell_type": "code",
   "execution_count": null,
   "id": "c2d945dc",
   "metadata": {},
   "outputs": [],
   "source": []
  },
  {
   "cell_type": "code",
   "execution_count": null,
   "id": "7edda70c",
   "metadata": {},
   "outputs": [],
   "source": []
  },
  {
   "cell_type": "code",
   "execution_count": null,
   "id": "f9da478f",
   "metadata": {},
   "outputs": [],
   "source": []
  },
  {
   "cell_type": "code",
   "execution_count": null,
   "id": "d882507e",
   "metadata": {},
   "outputs": [],
   "source": []
  },
  {
   "cell_type": "code",
   "execution_count": null,
   "id": "92417edb",
   "metadata": {},
   "outputs": [],
   "source": []
  },
  {
   "cell_type": "code",
   "execution_count": null,
   "id": "4e4a5a28",
   "metadata": {},
   "outputs": [],
   "source": []
  }
 ],
 "metadata": {
  "kernelspec": {
   "display_name": "Python 3 (ipykernel)",
   "language": "python",
   "name": "python3"
  },
  "language_info": {
   "codemirror_mode": {
    "name": "ipython",
    "version": 3
   },
   "file_extension": ".py",
   "mimetype": "text/x-python",
   "name": "python",
   "nbconvert_exporter": "python",
   "pygments_lexer": "ipython3",
   "version": "3.11.11"
  }
 },
 "nbformat": 4,
 "nbformat_minor": 5
}
