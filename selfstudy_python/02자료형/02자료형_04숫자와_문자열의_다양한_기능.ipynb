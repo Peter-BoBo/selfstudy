{
 "cells": [
  {
   "cell_type": "markdown",
   "id": "283ad153",
   "metadata": {},
   "source": [
    "# 함수\n",
    "## 1. 사람 또는 사물의 기능\n",
    "## 2. 숫자나 문자열과 같은 자료도 컴퓨터에서는 하나의 사물처럼 취급된다."
   ]
  },
  {
   "cell_type": "markdown",
   "id": "756f7ba0",
   "metadata": {},
   "source": [
    "### *문자열의 format() 함수"
   ]
  },
  {
   "cell_type": "code",
   "execution_count": 3,
   "id": "6d50d53f",
   "metadata": {},
   "outputs": [
    {
     "data": {
      "text/plain": [
       "str"
      ]
     },
     "execution_count": 3,
     "metadata": {},
     "output_type": "execute_result"
    }
   ],
   "source": [
    "#  format() 함수로 숫자를 문자열로 변경하기\n",
    "\n",
    "string_a = \"{}\".format(10)\n",
    "\n",
    "string_a\n",
    "type(string_a)"
   ]
  },
  {
   "cell_type": "code",
   "execution_count": 5,
   "id": "07377107",
   "metadata": {},
   "outputs": [
    {
     "name": "stdout",
     "output_type": "stream",
     "text": [
      "5000만 원\n",
      "파이썬 열공하여 첫 연봉  5000만 원 만들기\n",
      "3000 4000 5000\n",
      "1 문자열 True\n"
     ]
    }
   ],
   "source": [
    "#  format() 함수의 다양한 형태\n",
    "\n",
    "format_a=\"{}만 원\".format(5000)\n",
    "format_b=\"파이썬 열공하여 첫 연봉  {}만 원 만들기\".format(5000)\n",
    "format_c=\"{} {} {}\".format(3000, 4000, 5000)\n",
    "format_d=\"{} {} {}\".format(1, \"문자열\", True)\n",
    "\n",
    "print(format_a)\n",
    "print(format_b)\n",
    "print(format_c)\n",
    "print(format_d)"
   ]
  },
  {
   "cell_type": "code",
   "execution_count": 9,
   "id": "2f84be21",
   "metadata": {},
   "outputs": [
    {
     "name": "stdout",
     "output_type": "stream",
     "text": [
      "52\n",
      "   52\n",
      "        52\n",
      "00052\n",
      "-0052\n"
     ]
    }
   ],
   "source": [
    "#  정수를 특정 칸에 출력하기\n",
    "\n",
    "output_a=\"{:d}\".format(52)\n",
    "\n",
    "output_b=\"{:5d}\".format(52)\n",
    "output_c=\"{:10d}\".format(52)\n",
    "\n",
    "output_d=\"{:05d}\".format(52)\n",
    "output_e=\"{:05d}\".format(-52)\n",
    "\n",
    "\n",
    "print(output_a)\n",
    "print(output_b)\n",
    "print(output_c)\n",
    "print(output_d)\n",
    "print(output_e)"
   ]
  },
  {
   "cell_type": "code",
   "execution_count": 10,
   "id": "97e20f00",
   "metadata": {},
   "outputs": [
    {
     "name": "stdout",
     "output_type": "stream",
     "text": [
      "+52\n",
      "-52\n",
      " 52\n",
      "-52\n"
     ]
    }
   ],
   "source": [
    "# 기호 붙여 출력하기\n",
    "output_f = \"{:+d}\".format(52)\n",
    "output_g = \"{:+d}\".format(-52)\n",
    "output_h = \"{: d}\".format(52)\n",
    "output_i = \"{: d}\".format(-52)\n",
    "\n",
    "print(output_f)\n",
    "print(output_g)\n",
    "print(output_h)\n",
    "print(output_i)"
   ]
  },
  {
   "cell_type": "code",
   "execution_count": 11,
   "id": "04283b99",
   "metadata": {},
   "outputs": [
    {
     "name": "stdout",
     "output_type": "stream",
     "text": [
      "  +52\n",
      "  -52\n",
      "+52\n",
      "-52\n",
      "+0052\n",
      "-0052\n"
     ]
    }
   ],
   "source": [
    "# 조합해 보기\n",
    "\n",
    "output_h = \"{:+5d}\".format(52)\n",
    "output_i = \"{:+5d}\".format(-52)\n",
    "output_j = \"{:=+d}\".format(52)\n",
    "output_k = \"{:=+d}\".format(-52)\n",
    "output_l = \"{:+05d}\".format(52)\n",
    "output_m = \"{:+05d}\".format(-52)\n",
    "\n",
    "print(output_h)\n",
    "print(output_i)\n",
    "print(output_j)\n",
    "print(output_k)\n",
    "print(output_l)\n",
    "print(output_m)"
   ]
  },
  {
   "cell_type": "code",
   "execution_count": 13,
   "id": "6871cc00",
   "metadata": {},
   "outputs": [
    {
     "name": "stdout",
     "output_type": "stream",
     "text": [
      "52.273000\n",
      "      52.273000\n",
      "     +52.273000\n",
      "+0000052.273000\n"
     ]
    }
   ],
   "source": [
    "# 다양한 형태의 부동 소수점 출력하기\n",
    "\n",
    "output_a = \"{:f}\".format(52.273)\n",
    "output_b= \"{:15f}\".format(52.273)\n",
    "output_c = \"{:+15f}\".format(52.273)\n",
    "output_d = \"{:+015f}\".format(52.273)\n",
    "\n",
    "print(output_a)\n",
    "print(output_b)\n",
    "print(output_c)\n",
    "print(output_d)"
   ]
  },
  {
   "cell_type": "code",
   "execution_count": 14,
   "id": "73f3f16f",
   "metadata": {},
   "outputs": [
    {
     "name": "stdout",
     "output_type": "stream",
     "text": [
      "         52.273\n",
      "          52.27\n",
      "           52.3\n"
     ]
    }
   ],
   "source": [
    "# 소수점 아래 자릿수 지정하기\n",
    "\n",
    "output_a = \"{:15.3f}\".format(52.273)\n",
    "output_b= \"{:15.2f}\".format(52.273)\n",
    "output_c = \"{:15.1f}\".format(52.273)\n",
    "\n",
    "print(output_a)\n",
    "print(output_b)\n",
    "print(output_c)"
   ]
  },
  {
   "cell_type": "code",
   "execution_count": 15,
   "id": "90f3dcbe",
   "metadata": {},
   "outputs": [
    {
     "name": "stdout",
     "output_type": "stream",
     "text": [
      "52.0\n",
      "52\n"
     ]
    }
   ],
   "source": [
    "# 의미 없는 소수점 제거하기\n",
    "\n",
    "output_a = 52.0\n",
    "output_b= \"{:g}\".format(output_a)\n",
    "print(output_a)\n",
    "print(output_b)"
   ]
  },
  {
   "cell_type": "markdown",
   "id": "21171c28",
   "metadata": {},
   "source": [
    "### 대소문자 바꾸기: upper()와 lower()"
   ]
  },
  {
   "cell_type": "code",
   "execution_count": 16,
   "id": "d7858ded",
   "metadata": {},
   "outputs": [
    {
     "data": {
      "text/plain": [
       "'HELLO PYTHON PROGRAMMING...!'"
      ]
     },
     "execution_count": 16,
     "metadata": {},
     "output_type": "execute_result"
    }
   ],
   "source": [
    "a = \"Hello Python Programming...!\"\n",
    "a.upper()"
   ]
  },
  {
   "cell_type": "code",
   "execution_count": 17,
   "id": "c87d012f",
   "metadata": {
    "scrolled": true
   },
   "outputs": [
    {
     "data": {
      "text/plain": [
       "'hello python programming...!'"
      ]
     },
     "execution_count": 17,
     "metadata": {},
     "output_type": "execute_result"
    }
   ],
   "source": [
    "a.lower()"
   ]
  },
  {
   "cell_type": "markdown",
   "id": "f40dcfb3",
   "metadata": {},
   "source": [
    "### *문자열 양옆의 공백 제거하기: strip()"
   ]
  },
  {
   "cell_type": "code",
   "execution_count": 21,
   "id": "1ac86df3",
   "metadata": {
    "scrolled": true
   },
   "outputs": [
    {
     "name": "stdout",
     "output_type": "stream",
     "text": [
      "\n",
      "    안녕하세요\n",
      "문자열의 함수를 알아봅니다\n",
      "\n"
     ]
    }
   ],
   "source": [
    "input_a = \"\"\"\n",
    "    안녕하세요\n",
    "문자열의 함수를 알아봅니다\n",
    "\"\"\"\n",
    "print(input_a)"
   ]
  },
  {
   "cell_type": "code",
   "execution_count": 24,
   "id": "c11d3d67",
   "metadata": {},
   "outputs": [
    {
     "name": "stdout",
     "output_type": "stream",
     "text": [
      "안녕하세요\n",
      "문자열의 함수를 알아봅니다\n"
     ]
    }
   ],
   "source": [
    "print(input_a.strip())"
   ]
  },
  {
   "cell_type": "markdown",
   "id": "64169aaa",
   "metadata": {},
   "source": [
    "### 문자열의 구성 파악하기: isOO()"
   ]
  },
  {
   "cell_type": "code",
   "execution_count": 29,
   "id": "f025063d",
   "metadata": {},
   "outputs": [
    {
     "name": "stdout",
     "output_type": "stream",
     "text": [
      "True\n"
     ]
    }
   ],
   "source": [
    "print(\"TrainA10\".isalnum())"
   ]
  },
  {
   "cell_type": "code",
   "execution_count": 28,
   "id": "a0b920a7",
   "metadata": {},
   "outputs": [
    {
     "name": "stdout",
     "output_type": "stream",
     "text": [
      "True\n"
     ]
    }
   ],
   "source": [
    "print(\"10\".isdigit())"
   ]
  },
  {
   "cell_type": "markdown",
   "id": "31d2ae7d",
   "metadata": {},
   "source": [
    "### 문자열 찾기: find()와 rfind()"
   ]
  },
  {
   "cell_type": "code",
   "execution_count": 30,
   "id": "ed9d652c",
   "metadata": {},
   "outputs": [
    {
     "name": "stdout",
     "output_type": "stream",
     "text": [
      "0\n"
     ]
    }
   ],
   "source": [
    "output_a=\"안녕안녕하세요\".find(\"안녕\")\n",
    "print(output_a)"
   ]
  },
  {
   "cell_type": "code",
   "execution_count": 31,
   "id": "5629bd9e",
   "metadata": {},
   "outputs": [
    {
     "name": "stdout",
     "output_type": "stream",
     "text": [
      "2\n"
     ]
    }
   ],
   "source": [
    "output_b=\"안녕안녕하세요\".rfind(\"안녕\")\n",
    "print(output_b)"
   ]
  },
  {
   "cell_type": "markdown",
   "id": "7f920099",
   "metadata": {},
   "source": [
    "### 문자열과 in 연산자"
   ]
  },
  {
   "cell_type": "code",
   "execution_count": 32,
   "id": "e05ef8e3",
   "metadata": {},
   "outputs": [
    {
     "name": "stdout",
     "output_type": "stream",
     "text": [
      "True\n"
     ]
    }
   ],
   "source": [
    "print(\"안녕\" in \"안녕하세요\")"
   ]
  },
  {
   "cell_type": "code",
   "execution_count": 33,
   "id": "c2844c35",
   "metadata": {
    "scrolled": true
   },
   "outputs": [
    {
     "name": "stdout",
     "output_type": "stream",
     "text": [
      "False\n"
     ]
    }
   ],
   "source": [
    "print(\"잘자\" in \"안녕하세요\")"
   ]
  },
  {
   "cell_type": "markdown",
   "id": "a86c4c23",
   "metadata": {},
   "source": [
    "### *문자열 자르기: split()"
   ]
  },
  {
   "cell_type": "code",
   "execution_count": 34,
   "id": "366f732e",
   "metadata": {},
   "outputs": [
    {
     "name": "stdout",
     "output_type": "stream",
     "text": [
      "['10', '20', '30', '40', '50']\n"
     ]
    }
   ],
   "source": [
    "a = \"10 20 30 40 50\".split(\" \")\n",
    "print(a)"
   ]
  },
  {
   "cell_type": "markdown",
   "id": "1e17c431",
   "metadata": {},
   "source": [
    "### *f-문자열\n",
    "* 파이썬 3.6버전부터 등장한 format() 함수를 더 간단하게 사용할 수 있는 함수\n",
    "* f\"문자열{표현식}문자열\""
   ]
  },
  {
   "cell_type": "code",
   "execution_count": 38,
   "id": "9ebf2ec0",
   "metadata": {},
   "outputs": [
    {
     "data": {
      "text/plain": [
       "'10'"
      ]
     },
     "execution_count": 38,
     "metadata": {},
     "output_type": "execute_result"
    }
   ],
   "source": [
    "# format()함수와 비교\n",
    "\n",
    "\"{}\".format(10)"
   ]
  },
  {
   "cell_type": "code",
   "execution_count": 39,
   "id": "c98b71c8",
   "metadata": {},
   "outputs": [
    {
     "data": {
      "text/plain": [
       "'10'"
      ]
     },
     "execution_count": 39,
     "metadata": {},
     "output_type": "execute_result"
    }
   ],
   "source": [
    "f'{10}'"
   ]
  },
  {
   "cell_type": "code",
   "execution_count": 43,
   "id": "d2ce372d",
   "metadata": {},
   "outputs": [
    {
     "data": {
      "text/plain": [
       "'3 + 4 = 7'"
      ]
     },
     "execution_count": 43,
     "metadata": {},
     "output_type": "execute_result"
    }
   ],
   "source": [
    "\"3 + 4 = {}\".format(3 + 4)"
   ]
  },
  {
   "cell_type": "code",
   "execution_count": 41,
   "id": "64a230d9",
   "metadata": {},
   "outputs": [
    {
     "data": {
      "text/plain": [
       "'3 + 4 = 7'"
      ]
     },
     "execution_count": 41,
     "metadata": {},
     "output_type": "execute_result"
    }
   ],
   "source": [
    "f\"3 + 4 = {3 + 4}\""
   ]
  },
  {
   "cell_type": "code",
   "execution_count": 44,
   "id": "4c00355a",
   "metadata": {
    "scrolled": true
   },
   "outputs": [
    {
     "data": {
      "text/plain": [
       "'1 + 2 =3\\n2 + 3 = 5\\n3 + 4 = 7'"
      ]
     },
     "execution_count": 44,
     "metadata": {},
     "output_type": "execute_result"
    }
   ],
   "source": [
    "f\"\"\"1 + 2 ={1 + 2}\n",
    "2 + 3 = {2 + 3}\n",
    "3 + 4 = {3 + 4}\"\"\""
   ]
  },
  {
   "cell_type": "markdown",
   "id": "a49662ad",
   "metadata": {},
   "source": [
    "#### f-문자열보다 format() 함수를 사용하는 것이 더 좋은 경우\n",
    "1. 문자열 내용이 너무 많을 때\n",
    "2. 데이터를 리스트에 담아서 사용할 때"
   ]
  },
  {
   "cell_type": "code",
   "execution_count": 45,
   "id": "6effb004",
   "metadata": {},
   "outputs": [
    {
     "name": "stdout",
     "output_type": "stream",
     "text": [
      "이름: 홍길동, 나이: 25\n"
     ]
    }
   ],
   "source": [
    "name = \"홍길동\"\n",
    "age = 25\n",
    "print(f\"이름: {name}, 나이: {age}\")"
   ]
  },
  {
   "cell_type": "code",
   "execution_count": 46,
   "id": "3bc0d607",
   "metadata": {},
   "outputs": [
    {
     "name": "stdout",
     "output_type": "stream",
     "text": [
      "이름: 홍길동, 나이: 25, 주소: 서울시 강남구, 연락처: 010-1234-5678\n"
     ]
    }
   ],
   "source": [
    "# 여러 변수와 복잡한 문자열 포맷팅\n",
    "name = \"홍길동\"\n",
    "age = 25\n",
    "address = \"서울시 강남구\"\n",
    "phone = \"010-1234-5678\"\n",
    "\n",
    "message = \"이름: {}, 나이: {}, 주소: {}, 연락처: {}\".format(\n",
    "    name, age, address, phone\n",
    ")\n",
    "print(message)"
   ]
  },
  {
   "cell_type": "code",
   "execution_count": 48,
   "id": "8bb50f04",
   "metadata": {},
   "outputs": [
    {
     "data": {
      "text/plain": [
       "'이름: 2\\n나이: M\\n성별: 서울특별시 강서구\\n중성화 여부: Y'"
      ]
     },
     "execution_count": 48,
     "metadata": {},
     "output_type": "execute_result"
    }
   ],
   "source": [
    "data = ['별', 2, 'M', '서울특별시 강서구', 'Y']\n",
    "f\"\"\"이름: {data[1]}\n",
    "나이: {data[2]}\n",
    "성별: {data[3]}\n",
    "중성화 여부: {data[4]}\"\"\""
   ]
  },
  {
   "cell_type": "code",
   "execution_count": null,
   "id": "07480f84",
   "metadata": {},
   "outputs": [],
   "source": [
    "# 리스트 요소를 한꺼번에 출력가능"
   ]
  },
  {
   "cell_type": "code",
   "execution_count": 50,
   "id": "3a395ca9",
   "metadata": {},
   "outputs": [
    {
     "data": {
      "text/plain": [
       "'이름: 별\\n나이: 2\\n성별: M\\n지역: 서울특별시 강서구\\n중성화 여부: Y'"
      ]
     },
     "execution_count": 50,
     "metadata": {},
     "output_type": "execute_result"
    }
   ],
   "source": [
    "data = ['별', 2, 'M', '서울특별시 강서구', 'Y']\n",
    "\"\"\"이름: {}\n",
    "나이: {}\n",
    "성별: {}\n",
    "지역: {}\n",
    "중성화 여부: {}\"\"\".format(*data)"
   ]
  },
  {
   "cell_type": "code",
   "execution_count": 112,
   "id": "7f6aec65",
   "metadata": {
    "scrolled": true
   },
   "outputs": [
    {
     "name": "stdout",
     "output_type": "stream",
     "text": [
      "구의 반지름을 입력해주세요: 8156\n",
      "= 구의 부피는2272585180219입니다\n",
      "= 구의 겉넓이는835919022입니다\n"
     ]
    }
   ],
   "source": [
    "# 구의 부피와 겉넓이\n",
    "\n",
    "pi=3.141592\n",
    "r=int(input(\"구의 반지름을 입력해주세요: \"))\n",
    "print(f\"= 구의 부피는{round(((4/3)*pi)*(r**3))}입니다\")\n",
    "print(f\"= 구의 겉넓이는{round((4*pi)*(r**2))}입니다\")"
   ]
  },
  {
   "cell_type": "code",
   "execution_count": 113,
   "id": "edc7f0d1",
   "metadata": {
    "scrolled": true
   },
   "outputs": [
    {
     "name": "stdout",
     "output_type": "stream",
     "text": [
      "밑변의 길이를 입력해주세요:216859189\n",
      "높이의 길이를 입력해주세요:2189\n",
      "= 빗변의 길이는216859189입니다.\n"
     ]
    }
   ],
   "source": [
    "# 피타고라스의 정리\n",
    "\n",
    "\n",
    "bottom_side=int(input(\"밑변의 길이를 입력해주세요:\"))\n",
    "height=int(input(\"높이의 길이를 입력해주세요:\"))\n",
    "print(f\"= 빗변의 길이는{round(((bottom_side**2)+(height**2))**(1/2))}입니다.\")"
   ]
  }
 ],
 "metadata": {
  "kernelspec": {
   "display_name": "Python 3 (ipykernel)",
   "language": "python",
   "name": "python3"
  },
  "language_info": {
   "codemirror_mode": {
    "name": "ipython",
    "version": 3
   },
   "file_extension": ".py",
   "mimetype": "text/x-python",
   "name": "python",
   "nbconvert_exporter": "python",
   "pygments_lexer": "ipython3",
   "version": "3.11.11"
  }
 },
 "nbformat": 4,
 "nbformat_minor": 5
}
