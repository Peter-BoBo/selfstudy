{
 "cells": [
  {
   "cell_type": "markdown",
   "id": "507dc2ab",
   "metadata": {},
   "source": [
    "# 함수 만들기\n",
    "\n",
    "* 함수를 호출한다: 함수를 사용한다\n",
    "* 매개변수: 함수를 호출할 때 괄호 내부에 넣는 자료\n",
    "* 리턴값: 함수를 호출해서 최종적으로 나오는 결과"
   ]
  },
  {
   "cell_type": "markdown",
   "id": "c5ee1c1e",
   "metadata": {},
   "source": [
    "## 함수의 기본\n",
    "* 함수는 한마디로, '코드의 집합'이다.\n",
    "* def 함수 이름():<br>\n",
    "&emsp; &nbsp;문장"
   ]
  },
  {
   "cell_type": "code",
   "execution_count": 1,
   "id": "3652d9cf",
   "metadata": {},
   "outputs": [
    {
     "name": "stdout",
     "output_type": "stream",
     "text": [
      "안녕하세요\n",
      "안녕하세요\n",
      "안녕하세요\n"
     ]
    }
   ],
   "source": [
    "# 기본적인 함수\n",
    "\n",
    "def print_3_times():\n",
    "    print(\"안녕하세요\")\n",
    "    print(\"안녕하세요\")\n",
    "    print(\"안녕하세요\")\n",
    "\n",
    "print_3_times()    "
   ]
  },
  {
   "cell_type": "markdown",
   "id": "615c747a",
   "metadata": {},
   "source": [
    "## 함수에 매개변수 만들기\n",
    "* 매개변수는 함수를 생성할 때 괄호 내부에 식별자를 입력해서 만든다.\n",
    "* def 함수 이름(매개변수, 매개변수, ...):<br>\n",
    "&emsp; &nbsp;문장   "
   ]
  },
  {
   "cell_type": "code",
   "execution_count": 3,
   "id": "dc34fc43",
   "metadata": {},
   "outputs": [
    {
     "name": "stdout",
     "output_type": "stream",
     "text": [
      "안녕하세요\n",
      "안녕하세요\n",
      "안녕하세요\n",
      "안녕하세요\n",
      "안녕하세요\n"
     ]
    }
   ],
   "source": [
    "# 매개변수의 기본\n",
    "\n",
    "def print_n_times(value, n):\n",
    "    for i in range(n):\n",
    "        print(value)\n",
    "        \n",
    "print_n_times(\"안녕하세요\", 5)"
   ]
  },
  {
   "cell_type": "code",
   "execution_count": 5,
   "id": "fdfd28cc",
   "metadata": {},
   "outputs": [
    {
     "ename": "TypeError",
     "evalue": "print_n_times() missing 1 required positional argument: 'n'",
     "output_type": "error",
     "traceback": [
      "\u001b[31m---------------------------------------------------------------------------\u001b[39m",
      "\u001b[31mTypeError\u001b[39m                                 Traceback (most recent call last)",
      "\u001b[36mCell\u001b[39m\u001b[36m \u001b[39m\u001b[32mIn[5]\u001b[39m\u001b[32m, line 7\u001b[39m\n\u001b[32m      4\u001b[39m     \u001b[38;5;28;01mfor\u001b[39;00m i \u001b[38;5;129;01min\u001b[39;00m \u001b[38;5;28mrange\u001b[39m(n):\n\u001b[32m      5\u001b[39m         \u001b[38;5;28mprint\u001b[39m(value)\n\u001b[32m----> \u001b[39m\u001b[32m7\u001b[39m \u001b[43mprint_n_times\u001b[49m\u001b[43m(\u001b[49m\u001b[33;43m\"\u001b[39;49m\u001b[33;43m안녕하세요\u001b[39;49m\u001b[33;43m\"\u001b[39;49m\u001b[43m)\u001b[49m\n",
      "\u001b[31mTypeError\u001b[39m: print_n_times() missing 1 required positional argument: 'n'"
     ]
    }
   ],
   "source": [
    "# 매개변수와 관련된 TypeError\n",
    "\n",
    "def print_n_times(value, n):\n",
    "    for i in range(n):\n",
    "        print(value)\n",
    "        \n",
    "print_n_times(\"안녕하세요\")\n",
    "\n",
    "# print_n_times()라는 함수의 '매개변수 n이 없다'라는 오류"
   ]
  },
  {
   "cell_type": "code",
   "execution_count": 8,
   "id": "778f784b",
   "metadata": {},
   "outputs": [
    {
     "ename": "TypeError",
     "evalue": "print_n_times() takes 2 positional arguments but 3 were given",
     "output_type": "error",
     "traceback": [
      "\u001b[31m---------------------------------------------------------------------------\u001b[39m",
      "\u001b[31mTypeError\u001b[39m                                 Traceback (most recent call last)",
      "\u001b[36mCell\u001b[39m\u001b[36m \u001b[39m\u001b[32mIn[8]\u001b[39m\u001b[32m, line 7\u001b[39m\n\u001b[32m      4\u001b[39m     \u001b[38;5;28;01mfor\u001b[39;00m i \u001b[38;5;129;01min\u001b[39;00m \u001b[38;5;28mrange\u001b[39m(n):\n\u001b[32m      5\u001b[39m         \u001b[38;5;28mprint\u001b[39m(value)\n\u001b[32m----> \u001b[39m\u001b[32m7\u001b[39m \u001b[43mprint_n_times\u001b[49m\u001b[43m(\u001b[49m\u001b[33;43m\"\u001b[39;49m\u001b[33;43m안녕하세요\u001b[39;49m\u001b[33;43m\"\u001b[39;49m\u001b[43m,\u001b[49m\u001b[43m \u001b[49m\u001b[32;43m10\u001b[39;49m\u001b[43m,\u001b[49m\u001b[43m \u001b[49m\u001b[32;43m20\u001b[39;49m\u001b[43m)\u001b[49m\n\u001b[32m      9\u001b[39m \u001b[38;5;66;03m# print_n_times()라는 함수는 '2개의 매개변수가 필요한데 3개가 들어왔다'라는 오류\u001b[39;00m\n",
      "\u001b[31mTypeError\u001b[39m: print_n_times() takes 2 positional arguments but 3 were given"
     ]
    }
   ],
   "source": [
    "# 매개변수와 관련된 TypeError\n",
    "\n",
    "def print_n_times(value, n):\n",
    "    for i in range(n):\n",
    "        print(value)\n",
    "        \n",
    "print_n_times(\"안녕하세요\", 10, 20)\n",
    "\n",
    "# print_n_times()라는 함수는 '2개의 매개변수가 필요한데 3개가 들어왔다'라는 오류"
   ]
  },
  {
   "cell_type": "markdown",
   "id": "adcf72cb",
   "metadata": {},
   "source": [
    "## 가변 매개변수\n",
    "\n",
    "* 매개변수를 원하는 만큼 받을 수 있는 함수\n",
    "* def 함수 이름(매개변수, 매개변수, ..., *가변 매개변수):<br>\n",
    "&emsp; &nbsp;문장\n",
    "* '가변'은, 매개변수 개수가 변할 수 있다는 의미이다.\n",
    "* 대표적으로, print()가 있다.\n",
    "* 제약 조건\n",
    "  * 가변 매개변수 뒤에는 일반 매개변수가 올 수 없다\n",
    "  * 가변 매개변수는 하나만 사용할 수 있다"
   ]
  },
  {
   "cell_type": "code",
   "execution_count": 23,
   "id": "3cc12087",
   "metadata": {},
   "outputs": [
    {
     "name": "stdout",
     "output_type": "stream",
     "text": [
      "안녕하세요\n",
      "5\n",
      "즐거운\n",
      "3\n",
      "파이썬 프로그래밍\n",
      "9\n",
      "\n",
      "안녕하세요\n",
      "5\n",
      "즐거운\n",
      "3\n",
      "파이썬 프로그래밍\n",
      "9\n",
      "\n",
      "안녕하세요\n",
      "5\n",
      "즐거운\n",
      "3\n",
      "파이썬 프로그래밍\n",
      "9\n",
      "\n"
     ]
    }
   ],
   "source": [
    "# 가변 매개변수 함수\n",
    "\n",
    "def print_n_times(n, *values):\n",
    "    for i in range(n):\n",
    "        for value in values:\n",
    "            print(value)\n",
    "        print()\n",
    "        \n",
    "print_n_times(3, \"안녕하세요\", \"즐거운\", \"파이썬 프로그래밍\")"
   ]
  },
  {
   "cell_type": "markdown",
   "id": "87ec6123",
   "metadata": {},
   "source": [
    "**가변 매개변수 * values는 리스트처럼 사용하면 된다.**\n",
    "* 반복, 인덱싱, 슬라이싱, 요소 변경 등이 가능한 리스트의 속성을 기억하자."
   ]
  },
  {
   "cell_type": "markdown",
   "id": "23acc274",
   "metadata": {},
   "source": [
    "## 기본 매개변수\n",
    "\n",
    "* print(value, ..., sep=' ', end='\\n', file=sys.stdout, flush=False)\n",
    "* '매개변수 = 값'형태로 되어 있음.\n",
    "* 매개변수를 입력하지 않았을 경우 매개변수에 들어가는 기본값.\n",
    "  * **기본 매개변수 뒤에는 일반 매개변수가 올 수 없다.**\n",
    "* value는 가변 매개변수"
   ]
  },
  {
   "cell_type": "code",
   "execution_count": 25,
   "id": "e98d46b6",
   "metadata": {},
   "outputs": [
    {
     "name": "stdout",
     "output_type": "stream",
     "text": [
      "안녕하세요\n",
      "안녕하세요\n"
     ]
    }
   ],
   "source": [
    "# 기본 매개변수\n",
    "\n",
    "def print_n_times(value, n=2):\n",
    "    for i in range(n):\n",
    "        print(value)\n",
    "\n",
    "# n을 입력하지 않을 경우 기본값이 2로 들어간다.\n",
    "print_n_times(\"안녕하세요\")"
   ]
  },
  {
   "cell_type": "markdown",
   "id": "3b4467aa",
   "metadata": {},
   "source": [
    "## 키워드 매개변수"
   ]
  },
  {
   "cell_type": "markdown",
   "id": "b118e621",
   "metadata": {},
   "source": [
    "#### 기본 매개변수가 가변 매개변수보다 앞에 올 때"
   ]
  },
  {
   "cell_type": "code",
   "execution_count": 27,
   "id": "5c7d51cf",
   "metadata": {},
   "outputs": [
    {
     "ename": "TypeError",
     "evalue": "'str' object cannot be interpreted as an integer",
     "output_type": "error",
     "traceback": [
      "\u001b[31m---------------------------------------------------------------------------\u001b[39m",
      "\u001b[31mTypeError\u001b[39m                                 Traceback (most recent call last)",
      "\u001b[36mCell\u001b[39m\u001b[36m \u001b[39m\u001b[32mIn[27]\u001b[39m\u001b[32m, line 6\u001b[39m\n\u001b[32m      4\u001b[39m             \u001b[38;5;28mprint\u001b[39m(value)\n\u001b[32m      5\u001b[39m         \u001b[38;5;28mprint\u001b[39m()\n\u001b[32m----> \u001b[39m\u001b[32m6\u001b[39m \u001b[43mprint_n_times\u001b[49m\u001b[43m(\u001b[49m\u001b[33;43m\"\u001b[39;49m\u001b[33;43m안녕하세요\u001b[39;49m\u001b[33;43m\"\u001b[39;49m\u001b[43m,\u001b[49m\u001b[43m \u001b[49m\u001b[33;43m\"\u001b[39;49m\u001b[33;43m즐거운\u001b[39;49m\u001b[33;43m\"\u001b[39;49m\u001b[43m,\u001b[49m\u001b[43m \u001b[49m\u001b[33;43m\"\u001b[39;49m\u001b[33;43m파이썬 프로그래밍\u001b[39;49m\u001b[33;43m\"\u001b[39;49m\u001b[43m)\u001b[49m\n",
      "\u001b[36mCell\u001b[39m\u001b[36m \u001b[39m\u001b[32mIn[27]\u001b[39m\u001b[32m, line 2\u001b[39m, in \u001b[36mprint_n_times\u001b[39m\u001b[34m(n, *values)\u001b[39m\n\u001b[32m      1\u001b[39m \u001b[38;5;28;01mdef\u001b[39;00m\u001b[38;5;250m \u001b[39m\u001b[34mprint_n_times\u001b[39m(n=\u001b[32m2\u001b[39m, *values):\n\u001b[32m----> \u001b[39m\u001b[32m2\u001b[39m     \u001b[38;5;28;01mfor\u001b[39;00m i \u001b[38;5;129;01min\u001b[39;00m \u001b[38;5;28;43mrange\u001b[39;49m\u001b[43m(\u001b[49m\u001b[43mn\u001b[49m\u001b[43m)\u001b[49m:\n\u001b[32m      3\u001b[39m         \u001b[38;5;28;01mfor\u001b[39;00m value \u001b[38;5;129;01min\u001b[39;00m values:\n\u001b[32m      4\u001b[39m             \u001b[38;5;28mprint\u001b[39m(value)\n",
      "\u001b[31mTypeError\u001b[39m: 'str' object cannot be interpreted as an integer"
     ]
    }
   ],
   "source": [
    "def print_n_times(n=2, *values):\n",
    "    for i in range(n):\n",
    "        for value in values:\n",
    "            print(value)\n",
    "        print()\n",
    "        \n",
    "# range에 문자열이 들어가 오류 발생\n",
    "print_n_times(\"안녕하세요\", \"즐거운\", \"파이썬 프로그래밍\")"
   ]
  },
  {
   "cell_type": "markdown",
   "id": "9bf0c53e",
   "metadata": {},
   "source": [
    "#### 가변 매개변수가 기본 매개변수보다 앞에 올 때"
   ]
  },
  {
   "cell_type": "code",
   "execution_count": 3,
   "id": "4981afdc",
   "metadata": {},
   "outputs": [
    {
     "name": "stdout",
     "output_type": "stream",
     "text": [
      "안녕하세요\n",
      "즐거운\n",
      "파이썬 프로그래밍\n",
      "3\n",
      "\n",
      "안녕하세요\n",
      "즐거운\n",
      "파이썬 프로그래밍\n",
      "3\n",
      "\n"
     ]
    }
   ],
   "source": [
    "def print_n_times(*values, n=2):\n",
    "    for i in range(n):\n",
    "        for value in values:\n",
    "            print(value)\n",
    "        print()\n",
    "        \n",
    "# 가변 매개변수가 우선되어 출력\n",
    "# 숫자 3을 *values 인수로 받는다\n",
    "print_n_times(\"안녕하세요\", \"즐거운\", \"파이썬 프로그래밍\", 3)"
   ]
  },
  {
   "cell_type": "markdown",
   "id": "76b25c9c",
   "metadata": {},
   "source": [
    "#### 키워드 매개변수\n",
    "\n",
    "* print(value, ..., sep=' ', end='\\n', file=sys.stdout, flush=False)\n",
    "  * value를 여러 개 입력할 수 있으므로 가변 매개변수를 앞에 두고, 뒤에 기본 매개변수들이 들어가 있는형태"
   ]
  },
  {
   "cell_type": "code",
   "execution_count": 33,
   "id": "7134c81e",
   "metadata": {},
   "outputs": [],
   "source": [
    "while = True:\n",
    "    print(\".\", end=\"\")\n",
    "    \n",
    "# end=\"\"는 키워드 매개변수이다."
   ]
  },
  {
   "cell_type": "code",
   "execution_count": 35,
   "id": "152bad96",
   "metadata": {},
   "outputs": [
    {
     "name": "stdout",
     "output_type": "stream",
     "text": [
      "안녕하세요\n",
      "즐거운\n",
      "파이썬 프로그래밍\n",
      "\n",
      "안녕하세요\n",
      "즐거운\n",
      "파이썬 프로그래밍\n",
      "\n",
      "안녕하세요\n",
      "즐거운\n",
      "파이썬 프로그래밍\n",
      "\n"
     ]
    }
   ],
   "source": [
    "# 키워드 매개변수\n",
    "\n",
    "def print_n_times(*values, n=2):\n",
    "    for i in range(n):\n",
    "        for value in values:\n",
    "            print(value)\n",
    "        print()\n",
    "        \n",
    "# 가변 매개변수가 우선되어 출력\n",
    "# 키워드 매개변수를 할당해, 문자가 '3번' 출력되도록 한다 (range(3))\n",
    "print_n_times(\"안녕하세요\", \"즐거운\", \"파이썬 프로그래밍\", n=3)"
   ]
  },
  {
   "cell_type": "markdown",
   "id": "64cdd8a4",
   "metadata": {},
   "source": [
    "#### 기본 매개변수 중에서 필요한 값만 입력하기\n",
    "* '일반 매개변수'는 필수로 입력한다. (순서에 맞게)\n",
    "* '기본 매개변수'는 필요한 것만 키워드를 지정해서 입력한다. (순서 상관은 없다)"
   ]
  },
  {
   "cell_type": "code",
   "execution_count": 37,
   "id": "cd5251ab",
   "metadata": {},
   "outputs": [
    {
     "name": "stdout",
     "output_type": "stream",
     "text": [
      "60\n",
      "310\n",
      "210\n",
      "220\n"
     ]
    }
   ],
   "source": [
    "# 여러 함수 호출 형태\n",
    "\n",
    "def test(a, b=10, c=100):\n",
    "    print(a + b + c)\n",
    "    \n",
    "# 1) 기본 형태\n",
    "test(10, 20, 30)\n",
    "# 2) 키워드 매개변수로 모든 매개변수를 지정한 형태\n",
    "test(a=10, b=100, c=200)\n",
    "# 3) 키워드 매개변수로 모든 매개변수를 마구잡이로 지정한 형태\n",
    "test(c=10, a=100, b=100)\n",
    "# 4) 키워드 매개변수로 일부 매개변수만 지정한 형태\n",
    "test(10, c=200)"
   ]
  },
  {
   "cell_type": "markdown",
   "id": "443136ae",
   "metadata": {},
   "source": [
    "## 리턴\n",
    "\n",
    "* 함수의 결과를 '리턴값'이라고 함.\n",
    "* 대표적으로 input()"
   ]
  },
  {
   "cell_type": "code",
   "execution_count": 38,
   "id": "872c8a53",
   "metadata": {},
   "outputs": [
    {
     "name": "stdout",
     "output_type": "stream",
     "text": [
      "> 리턴\n",
      "리턴\n"
     ]
    }
   ],
   "source": [
    "value = input(\"> \")\n",
    "print(value)"
   ]
  },
  {
   "cell_type": "markdown",
   "id": "b775edf5",
   "metadata": {},
   "source": [
    "#### 자료 없이 리턴하기\n",
    "* 함수 내부에서는 return 키워드를 사용할 수 있다.\n",
    "* return: 함수를 실행했던 위치로 돌아가라는 뜻. 함수가 끝나는 위치를 의미한다."
   ]
  },
  {
   "cell_type": "code",
   "execution_count": 39,
   "id": "97b19e43",
   "metadata": {},
   "outputs": [
    {
     "name": "stdout",
     "output_type": "stream",
     "text": [
      "A 위치입니다.\n"
     ]
    }
   ],
   "source": [
    "# 자료 없이 리턴하기\n",
    "\n",
    "def return_test():\n",
    "    print(\"A 위치입니다.\")\n",
    "    return\n",
    "    print(\"B 위치입니다.\")\n",
    "    \n",
    "return_test()"
   ]
  },
  {
   "cell_type": "markdown",
   "id": "4f1dc8ec",
   "metadata": {},
   "source": [
    "#### 자료와 함께 리턴하기\n",
    "* 리턴 뒤에 자료를 입력하면, 자료를 갖고 리턴한다."
   ]
  },
  {
   "cell_type": "code",
   "execution_count": 40,
   "id": "b8ad2e1b",
   "metadata": {},
   "outputs": [
    {
     "name": "stdout",
     "output_type": "stream",
     "text": [
      "100\n"
     ]
    }
   ],
   "source": [
    "# 자료와 함께 리턴하기\n",
    "\n",
    "def return_test():\n",
    "    return 100\n",
    "\n",
    "value = return_test()\n",
    "print(value)"
   ]
  },
  {
   "cell_type": "markdown",
   "id": "8879c6b8",
   "metadata": {},
   "source": [
    "#### 아무것도 리턴하지 않기"
   ]
  },
  {
   "cell_type": "code",
   "execution_count": 41,
   "id": "43cbcf79",
   "metadata": {},
   "outputs": [
    {
     "name": "stdout",
     "output_type": "stream",
     "text": [
      "None\n"
     ]
    }
   ],
   "source": [
    "# 아무것도 리턴하지 않았을 때의 리턴값\n",
    "\n",
    "def return_test():\n",
    "    return\n",
    "\n",
    "value = return_test()\n",
    "print(value)"
   ]
  },
  {
   "cell_type": "markdown",
   "id": "95df2fb2",
   "metadata": {},
   "source": [
    "## 기본적인 함수의 활용\n",
    "\n",
    "der 함수 (매개변수):<br>\n",
    "&emsp;&nbsp;&nbsp;변수 = 초깃값<br>\n",
    "&emsp;&nbsp;&nbsp;# 여러 가지 처리<br>\n",
    "&emsp;&nbsp;&nbsp;# 여러 가지 처리<br>\n",
    "&emsp;&nbsp;&nbsp;# 여러 가지 처리<br>\n",
    "&emsp;&nbsp;&nbsp;return 변수\n"
   ]
  },
  {
   "cell_type": "code",
   "execution_count": 4,
   "id": "095eda20",
   "metadata": {},
   "outputs": [
    {
     "name": "stdout",
     "output_type": "stream",
     "text": [
      "0 to 100: 5050\n",
      "0 to 1000: 500500\n",
      "50 to 100: 3825\n",
      "550 to 1000: 349525\n"
     ]
    }
   ],
   "source": [
    "# 범위 내부의 정수를 모두 더하는 함수\n",
    "\n",
    "def sum_all(start, end):\n",
    "# 일반적으로 초깃값을 설정할 때는 연산을 해도 값에 아무런 변화를 주지 않는 것을 사용한다.\n",
    "# 덧셈식은 0, 곱셈식은 1\n",
    "    output = 0\n",
    "    for i in range(start, end + 1):\n",
    "        output += i\n",
    "    return output\n",
    "\n",
    "print(\"0 to 100:\", sum_all(0, 100))\n",
    "print(\"0 to 1000:\", sum_all(0, 1000))\n",
    "print(\"50 to 100:\", sum_all(50, 100))\n",
    "print(\"550 to 1000:\", sum_all(550, 1000))"
   ]
  },
  {
   "cell_type": "code",
   "execution_count": 67,
   "id": "3aa39d09",
   "metadata": {
    "scrolled": true
   },
   "outputs": [
    {
     "name": "stdout",
     "output_type": "stream",
     "text": [
      "A 550\n",
      "B 5050\n",
      "C 2550\n",
      "D 408\n",
      "E 962\n"
     ]
    }
   ],
   "source": [
    "# 기본 매개변수와 키워드 매개변수를 활용해 범위의 정수를 더하는 함수\n",
    "\n",
    "def sum_all(start=0, end=100, step=1):\n",
    "    output = 0\n",
    "    for i in range(start, end + 1, step):\n",
    "        output += i\n",
    "    return output\n",
    "\n",
    "print(\"A\", sum_all(0, 100, 10))\n",
    "print(\"B\", sum_all(end=100))\n",
    "print(\"C\", sum_all(end=100, step=2))\n",
    "print(\"D\", sum_all(end=50, step=3))\n",
    "print(\"E\", sum_all(end=100, step=4, start = 50))"
   ]
  },
  {
   "cell_type": "code",
   "execution_count": 82,
   "id": "59cba8b5",
   "metadata": {},
   "outputs": [
    {
     "name": "stdout",
     "output_type": "stream",
     "text": [
      "3150\n"
     ]
    }
   ],
   "source": [
    "def mul(*values):\n",
    "    output = 1\n",
    "    for value in values:\n",
    "        output *= value\n",
    "    return output\n",
    "\n",
    "print(mul(5,7,9,10))        "
   ]
  },
  {
   "cell_type": "code",
   "execution_count": 83,
   "id": "490564b4",
   "metadata": {
    "scrolled": true
   },
   "outputs": [
    {
     "ename": "TypeError",
     "evalue": "function() missing 2 required keyword-only arguments: 'valueA' and 'valueB'",
     "output_type": "error",
     "traceback": [
      "\u001b[31m---------------------------------------------------------------------------\u001b[39m",
      "\u001b[31mTypeError\u001b[39m                                 Traceback (most recent call last)",
      "\u001b[36mCell\u001b[39m\u001b[36m \u001b[39m\u001b[32mIn[83]\u001b[39m\u001b[32m, line 3\u001b[39m\n\u001b[32m      1\u001b[39m \u001b[38;5;28;01mdef\u001b[39;00m\u001b[38;5;250m \u001b[39m\u001b[34mfunction\u001b[39m(*values, valueA, valueB):\n\u001b[32m      2\u001b[39m     \u001b[38;5;28;01mpass\u001b[39;00m\n\u001b[32m----> \u001b[39m\u001b[32m3\u001b[39m \u001b[43mfunction\u001b[49m\u001b[43m(\u001b[49m\u001b[32;43m1\u001b[39;49m\u001b[43m,\u001b[49m\u001b[43m \u001b[49m\u001b[32;43m2\u001b[39;49m\u001b[43m,\u001b[49m\u001b[43m \u001b[49m\u001b[32;43m3\u001b[39;49m\u001b[43m,\u001b[49m\u001b[43m \u001b[49m\u001b[32;43m4\u001b[39;49m\u001b[43m,\u001b[49m\u001b[43m \u001b[49m\u001b[32;43m5\u001b[39;49m\u001b[43m)\u001b[49m\n",
      "\u001b[31mTypeError\u001b[39m: function() missing 2 required keyword-only arguments: 'valueA' and 'valueB'"
     ]
    }
   ],
   "source": [
    "def function(*values, valueA, valueB):\n",
    "    pass\n",
    "function(1, 2, 3, 4, 5)\n",
    "\n",
    "# 가변 매개변수는 기본 매개변수 뒤에!"
   ]
  }
 ],
 "metadata": {
  "kernelspec": {
   "display_name": "Python 3 (ipykernel)",
   "language": "python",
   "name": "python3"
  },
  "language_info": {
   "codemirror_mode": {
    "name": "ipython",
    "version": 3
   },
   "file_extension": ".py",
   "mimetype": "text/x-python",
   "name": "python",
   "nbconvert_exporter": "python",
   "pygments_lexer": "ipython3",
   "version": "3.11.11"
  }
 },
 "nbformat": 4,
 "nbformat_minor": 5
}
