{
 "cells": [
  {
   "cell_type": "markdown",
   "id": "d9a6c22d",
   "metadata": {},
   "source": [
    "# 함수의 활용"
   ]
  },
  {
   "cell_type": "markdown",
   "id": "6efa20f1",
   "metadata": {},
   "source": [
    "## 재귀 함수\n",
    "* 팩토리얼: n! = n * (n-1) * (n-2) * ... * 1"
   ]
  },
  {
   "cell_type": "markdown",
   "id": "62ee64ad",
   "metadata": {},
   "source": [
    "#### 반복문으로 팩토리얼 구하기"
   ]
  },
  {
   "cell_type": "code",
   "execution_count": 2,
   "id": "946d5701",
   "metadata": {},
   "outputs": [
    {
     "name": "stdout",
     "output_type": "stream",
     "text": [
      "1!: 1\n",
      "2!: 2\n",
      "3!: 6\n",
      "4!: 24\n",
      "5!: 120\n"
     ]
    }
   ],
   "source": [
    "# 반복문으로 팩토리얼 구하기\n",
    "\n",
    "def factorial(n):\n",
    "    output = 1\n",
    "    for i in range(1, n + 1):\n",
    "        output *= i\n",
    "    return output\n",
    "\n",
    "print(\"1!:\", factorial(1))\n",
    "print(\"2!:\", factorial(2))\n",
    "print(\"3!:\", factorial(3))\n",
    "print(\"4!:\", factorial(4))\n",
    "print(\"5!:\", factorial(5))"
   ]
  },
  {
   "cell_type": "markdown",
   "id": "cbdc0416",
   "metadata": {},
   "source": [
    "#### 재귀 함수로 팩토리얼 구하기\n",
    "* 재귀: 자기 자신을 호출하는 것\n",
    "* 팩토리얼 연산은 아래와 같이 표현할 수도 있다.<br>\n",
    "factorial(n) = n * factorial(n-1) (n >= 1일 때)<br>\n",
    "factorial(0) = 1"
   ]
  },
  {
   "cell_type": "markdown",
   "id": "8742fc9f",
   "metadata": {},
   "source": [
    "f(4) = 4 * f(3)\n",
    "     = 4 * 3 * f(2)\n",
    "     = 4 * 3 * 2 f(1) * f(0)\n",
    "     = f * 3 * 2 * 1 * 1"
   ]
  },
  {
   "cell_type": "code",
   "execution_count": 7,
   "id": "cc6e212e",
   "metadata": {},
   "outputs": [
    {
     "name": "stdout",
     "output_type": "stream",
     "text": [
      "1!: 1\n",
      "2!: 2\n",
      "3!: 6\n",
      "4!: 24\n",
      "5!: 120\n"
     ]
    }
   ],
   "source": [
    "# 재귀 함수를 사용해 팩토리얼 구하기\n",
    "\n",
    "def factorial(n):\n",
    "    if n == 0:\n",
    "        return 1\n",
    "    else:\n",
    "        return n * factorial(n - 1)\n",
    "    \n",
    "print(\"1!:\", factorial(1))\n",
    "print(\"2!:\", factorial(2))\n",
    "print(\"3!:\", factorial(3))\n",
    "print(\"4!:\", factorial(4))\n",
    "print(\"5!:\", factorial(5))"
   ]
  },
  {
   "cell_type": "markdown",
   "id": "5b5c903c",
   "metadata": {},
   "source": [
    "## 재귀 함수의 문제\n",
    "* 상황에 따라서 같은 것을 기하급수적으로 많이 반복한다는 문제가 존재한다."
   ]
  },
  {
   "cell_type": "markdown",
   "id": "c933eb5a",
   "metadata": {},
   "source": [
    "#### 피보나치 수열\n",
    "* \"토끼는 어떠한 속도로 번식하는가\"\n",
    "* 1번째 수열 = 1\n",
    "* 2번째 수열 = 1\n",
    "* n번째 수열 = (n-1)번째 수열 + (n-2)번째 수열"
   ]
  },
  {
   "cell_type": "code",
   "execution_count": 10,
   "id": "d15efd36",
   "metadata": {},
   "outputs": [
    {
     "name": "stdout",
     "output_type": "stream",
     "text": [
      "fibonacci(1): 1\n",
      "fibonacci(2): 1\n",
      "fibonacci(3): 2\n",
      "fibonacci(4): 3\n",
      "fibonacci(5): 5\n"
     ]
    }
   ],
   "source": [
    "# 재귀 함수로 구현한 피보나치 수열\n",
    "def fibonacci(n):\n",
    "    if n == 1:\n",
    "        return 1\n",
    "    if n == 2:\n",
    "        return 1\n",
    "    else:\n",
    "        return fibonacci(n - 1) + fibonacci(n-2)\n",
    "    \n",
    "print(\"fibonacci(1):\", fibonacci(1))\n",
    "print(\"fibonacci(2):\", fibonacci(2))\n",
    "print(\"fibonacci(3):\", fibonacci(3))\n",
    "print(\"fibonacci(4):\", fibonacci(4))\n",
    "print(\"fibonacci(5):\", fibonacci(5))"
   ]
  },
  {
   "cell_type": "code",
   "execution_count": 16,
   "id": "1ccecbf5",
   "metadata": {},
   "outputs": [
    {
     "name": "stdout",
     "output_type": "stream",
     "text": [
      "fibonacci(10)를 구합니다.\n",
      "fibonacci(9)를 구합니다.\n",
      "fibonacci(8)를 구합니다.\n",
      "fibonacci(7)를 구합니다.\n",
      "fibonacci(6)를 구합니다.\n",
      "fibonacci(5)를 구합니다.\n",
      "fibonacci(4)를 구합니다.\n",
      "fibonacci(3)를 구합니다.\n",
      "fibonacci(2)를 구합니다.\n",
      "fibonacci(1)를 구합니다.\n",
      "fibonacci(2)를 구합니다.\n",
      "fibonacci(3)를 구합니다.\n",
      "fibonacci(2)를 구합니다.\n",
      "fibonacci(1)를 구합니다.\n",
      "fibonacci(4)를 구합니다.\n",
      "fibonacci(3)를 구합니다.\n",
      "fibonacci(2)를 구합니다.\n",
      "fibonacci(1)를 구합니다.\n",
      "fibonacci(2)를 구합니다.\n",
      "fibonacci(5)를 구합니다.\n",
      "fibonacci(4)를 구합니다.\n",
      "fibonacci(3)를 구합니다.\n",
      "fibonacci(2)를 구합니다.\n",
      "fibonacci(1)를 구합니다.\n",
      "fibonacci(2)를 구합니다.\n",
      "fibonacci(3)를 구합니다.\n",
      "fibonacci(2)를 구합니다.\n",
      "fibonacci(1)를 구합니다.\n",
      "fibonacci(6)를 구합니다.\n",
      "fibonacci(5)를 구합니다.\n",
      "fibonacci(4)를 구합니다.\n",
      "fibonacci(3)를 구합니다.\n",
      "fibonacci(2)를 구합니다.\n",
      "fibonacci(1)를 구합니다.\n",
      "fibonacci(2)를 구합니다.\n",
      "fibonacci(3)를 구합니다.\n",
      "fibonacci(2)를 구합니다.\n",
      "fibonacci(1)를 구합니다.\n",
      "fibonacci(4)를 구합니다.\n",
      "fibonacci(3)를 구합니다.\n",
      "fibonacci(2)를 구합니다.\n",
      "fibonacci(1)를 구합니다.\n",
      "fibonacci(2)를 구합니다.\n",
      "fibonacci(7)를 구합니다.\n",
      "fibonacci(6)를 구합니다.\n",
      "fibonacci(5)를 구합니다.\n",
      "fibonacci(4)를 구합니다.\n",
      "fibonacci(3)를 구합니다.\n",
      "fibonacci(2)를 구합니다.\n",
      "fibonacci(1)를 구합니다.\n",
      "fibonacci(2)를 구합니다.\n",
      "fibonacci(3)를 구합니다.\n",
      "fibonacci(2)를 구합니다.\n",
      "fibonacci(1)를 구합니다.\n",
      "fibonacci(4)를 구합니다.\n",
      "fibonacci(3)를 구합니다.\n",
      "fibonacci(2)를 구합니다.\n",
      "fibonacci(1)를 구합니다.\n",
      "fibonacci(2)를 구합니다.\n",
      "fibonacci(5)를 구합니다.\n",
      "fibonacci(4)를 구합니다.\n",
      "fibonacci(3)를 구합니다.\n",
      "fibonacci(2)를 구합니다.\n",
      "fibonacci(1)를 구합니다.\n",
      "fibonacci(2)를 구합니다.\n",
      "fibonacci(3)를 구합니다.\n",
      "fibonacci(2)를 구합니다.\n",
      "fibonacci(1)를 구합니다.\n",
      "fibonacci(8)를 구합니다.\n",
      "fibonacci(7)를 구합니다.\n",
      "fibonacci(6)를 구합니다.\n",
      "fibonacci(5)를 구합니다.\n",
      "fibonacci(4)를 구합니다.\n",
      "fibonacci(3)를 구합니다.\n",
      "fibonacci(2)를 구합니다.\n",
      "fibonacci(1)를 구합니다.\n",
      "fibonacci(2)를 구합니다.\n",
      "fibonacci(3)를 구합니다.\n",
      "fibonacci(2)를 구합니다.\n",
      "fibonacci(1)를 구합니다.\n",
      "fibonacci(4)를 구합니다.\n",
      "fibonacci(3)를 구합니다.\n",
      "fibonacci(2)를 구합니다.\n",
      "fibonacci(1)를 구합니다.\n",
      "fibonacci(2)를 구합니다.\n",
      "fibonacci(5)를 구합니다.\n",
      "fibonacci(4)를 구합니다.\n",
      "fibonacci(3)를 구합니다.\n",
      "fibonacci(2)를 구합니다.\n",
      "fibonacci(1)를 구합니다.\n",
      "fibonacci(2)를 구합니다.\n",
      "fibonacci(3)를 구합니다.\n",
      "fibonacci(2)를 구합니다.\n",
      "fibonacci(1)를 구합니다.\n",
      "fibonacci(6)를 구합니다.\n",
      "fibonacci(5)를 구합니다.\n",
      "fibonacci(4)를 구합니다.\n",
      "fibonacci(3)를 구합니다.\n",
      "fibonacci(2)를 구합니다.\n",
      "fibonacci(1)를 구합니다.\n",
      "fibonacci(2)를 구합니다.\n",
      "fibonacci(3)를 구합니다.\n",
      "fibonacci(2)를 구합니다.\n",
      "fibonacci(1)를 구합니다.\n",
      "fibonacci(4)를 구합니다.\n",
      "fibonacci(3)를 구합니다.\n",
      "fibonacci(2)를 구합니다.\n",
      "fibonacci(1)를 구합니다.\n",
      "fibonacci(2)를 구합니다.\n",
      "---\n",
      "fibonacci(10) 계산에 활용된 덧셈 횟수는 109번입니다.\n"
     ]
    }
   ],
   "source": [
    "# 재귀 함수로 구현한 피보나치 수열(2)\n",
    "\n",
    "counter = 0\n",
    "\n",
    "def fibonacci(n):\n",
    "    # 어떤 피보나치 수를 구하는지 출력\n",
    "    print(\"fibonacci({})를 구합니다.\".format(n))\n",
    "    global counter\n",
    "    counter += 1\n",
    "    # 피보나치 수를 구함\n",
    "    if n == 1:\n",
    "        return 1\n",
    "    if n == 2:\n",
    "        return 2\n",
    "    else:\n",
    "        return fibonacci(n - 1) + fibonacci(n - 2)\n",
    "# 함수 호출\n",
    "fibonacci(10)\n",
    "print(\"---\")\n",
    "print(\"fibonacci(10) 계산에 활용된 덧셈 횟수는 {}번입니다.\".format(counter))"
   ]
  },
  {
   "cell_type": "markdown",
   "id": "43319c0a",
   "metadata": {},
   "source": [
    "#### UnboundLocalError에 대한 처리"
   ]
  },
  {
   "cell_type": "code",
   "execution_count": 18,
   "id": "aa29ce04",
   "metadata": {},
   "outputs": [
    {
     "name": "stdout",
     "output_type": "stream",
     "text": [
      "fibonacci(10)를 구합니다.\n"
     ]
    },
    {
     "ename": "UnboundLocalError",
     "evalue": "cannot access local variable 'counter' where it is not associated with a value",
     "output_type": "error",
     "traceback": [
      "\u001b[31m---------------------------------------------------------------------------\u001b[39m",
      "\u001b[31mUnboundLocalError\u001b[39m                         Traceback (most recent call last)",
      "\u001b[36mCell\u001b[39m\u001b[36m \u001b[39m\u001b[32mIn[18]\u001b[39m\u001b[32m, line 17\u001b[39m\n\u001b[32m     15\u001b[39m         \u001b[38;5;28;01mreturn\u001b[39;00m fibonacci(n - \u001b[32m1\u001b[39m) + fibonacci(n - \u001b[32m2\u001b[39m)\n\u001b[32m     16\u001b[39m \u001b[38;5;66;03m# 함수 호출\u001b[39;00m\n\u001b[32m---> \u001b[39m\u001b[32m17\u001b[39m \u001b[43mfibonacci\u001b[49m\u001b[43m(\u001b[49m\u001b[32;43m10\u001b[39;49m\u001b[43m)\u001b[49m\n\u001b[32m     18\u001b[39m \u001b[38;5;28mprint\u001b[39m(\u001b[33m\"\u001b[39m\u001b[33m---\u001b[39m\u001b[33m\"\u001b[39m)\n\u001b[32m     19\u001b[39m \u001b[38;5;28mprint\u001b[39m(\u001b[33m\"\u001b[39m\u001b[33mfibonacci(10) 계산에 활용된 덧셈 횟수는 \u001b[39m\u001b[38;5;132;01m{}\u001b[39;00m\u001b[33m번입니다.\u001b[39m\u001b[33m\"\u001b[39m.format(counter))\n",
      "\u001b[36mCell\u001b[39m\u001b[36m \u001b[39m\u001b[32mIn[18]\u001b[39m\u001b[32m, line 8\u001b[39m, in \u001b[36mfibonacci\u001b[39m\u001b[34m(n)\u001b[39m\n\u001b[32m      5\u001b[39m \u001b[38;5;28;01mdef\u001b[39;00m\u001b[38;5;250m \u001b[39m\u001b[34mfibonacci\u001b[39m(n):\n\u001b[32m      6\u001b[39m     \u001b[38;5;66;03m# 어떤 피보나치 수를 구하는지 출력\u001b[39;00m\n\u001b[32m      7\u001b[39m     \u001b[38;5;28mprint\u001b[39m(\u001b[33m\"\u001b[39m\u001b[33mfibonacci(\u001b[39m\u001b[38;5;132;01m{}\u001b[39;00m\u001b[33m)를 구합니다.\u001b[39m\u001b[33m\"\u001b[39m.format(n))\n\u001b[32m----> \u001b[39m\u001b[32m8\u001b[39m     \u001b[43mcounter\u001b[49m += \u001b[32m1\u001b[39m\n\u001b[32m      9\u001b[39m     \u001b[38;5;66;03m# 피보나치 수를 구함\u001b[39;00m\n\u001b[32m     10\u001b[39m     \u001b[38;5;28;01mif\u001b[39;00m n == \u001b[32m1\u001b[39m:\n",
      "\u001b[31mUnboundLocalError\u001b[39m: cannot access local variable 'counter' where it is not associated with a value"
     ]
    }
   ],
   "source": [
    "# 재귀 함수로 구현한 피보나치 수열(3)\n",
    "\n",
    "counter = 0\n",
    "\n",
    "def fibonacci(n):\n",
    "    # 어떤 피보나치 수를 구하는지 출력\n",
    "    print(\"fibonacci({})를 구합니다.\".format(n))\n",
    "    counter += 1\n",
    "    # 피보나치 수를 구함\n",
    "    if n == 1:\n",
    "        return 1\n",
    "    if n == 2:\n",
    "        return 2\n",
    "    else:\n",
    "        return fibonacci(n - 1) + fibonacci(n - 2)\n",
    "# 함수 호출\n",
    "fibonacci(10)\n",
    "print(\"---\")\n",
    "print(\"fibonacci(10) 계산에 활용된 덧셈 횟수는 {}번입니다.\".format(counter))"
   ]
  },
  {
   "cell_type": "markdown",
   "id": "75b7f6c6",
   "metadata": {},
   "source": [
    "#### global키워드\n",
    "* 함수 내부에서 함수 외부에 있는 변수라는 것을 설명하기 위해 사용한다<br>\n",
    "(지역변수와 전역변수 개념을 떠올려보자)<br>\n",
    "global **변수 이름**"
   ]
  },
  {
   "cell_type": "markdown",
   "id": "eadba8d0",
   "metadata": {},
   "source": [
    "#### 메모화\n",
    "\n",
    "* 메모: 딕셔너리를 사용해서 한 번 계산한 값을 저장\n",
    "* 딕셔너리에 값이 메모되어 있으면 처리를 수행하지 않고 곧바로 메모된 값을 돌려주면서 코드의 속도를 빠르게 만듦\n",
    "* 재귀 함수와 함께 많이 사용되는 기술"
   ]
  },
  {
   "cell_type": "code",
   "execution_count": 24,
   "id": "8cc7fc5b",
   "metadata": {},
   "outputs": [
    {
     "name": "stdout",
     "output_type": "stream",
     "text": [
      "fibonacci(10): 55\n",
      "fibonacci(20): 6765\n",
      "fibonacci(30): 832040\n",
      "fibonacci(40): 102334155\n",
      "fibonacci(50): 12586269025\n"
     ]
    }
   ],
   "source": [
    "# 메모 변수를 만듭니다.\n",
    "\n",
    "dictionary = {\n",
    "    1: 1,\n",
    "    2: 1\n",
    "}\n",
    "\n",
    "def fibonacci(n):\n",
    "    if n in dictionary:\n",
    "        # 메모가 되어 있으면 메모된 값을 리턴\n",
    "        return dictionary[n]\n",
    "    else:\n",
    "        # 메모가 되어 있지 않으면 값을 구함\n",
    "        output = fibonacci(n - 1) + fibonacci(n - 2)\n",
    "        dictionary[n] = output\n",
    "        return output\n",
    "        \n",
    "        \n",
    "# 함수 호출\n",
    "print(\"fibonacci(10):\", fibonacci(10))\n",
    "print(\"fibonacci(20):\", fibonacci(20))\n",
    "print(\"fibonacci(30):\", fibonacci(30))\n",
    "print(\"fibonacci(40):\", fibonacci(40))\n",
    "print(\"fibonacci(50):\", fibonacci(50))"
   ]
  },
  {
   "cell_type": "markdown",
   "id": "240ebb8f",
   "metadata": {},
   "source": [
    "## 조기 리턴\n",
    "\n",
    "* 함수 선언 흐름 중간에 return 키워드를 사용하는 것"
   ]
  },
  {
   "cell_type": "code",
   "execution_count": null,
   "id": "52aab681",
   "metadata": {},
   "outputs": [],
   "source": [
    "def fibonacci(n):\n",
    "    if n in dictionary:\n",
    "        # 메모가 되어 있으면 메모된 값을 리턴\n",
    "        return dictionary[n]\n",
    "    # 메모가 되어 있지 않으면 값을 구함\n",
    "    output = fibonacci(n - 1) + fibonacci(n - 2)\n",
    "    dictionary[n] = output\n",
    "    return output"
   ]
  },
  {
   "cell_type": "markdown",
   "id": "cb731737",
   "metadata": {},
   "source": [
    "## 리스트 평탄화하는 재귀 함수 만들기\n",
    "\n",
    "* 리스트 평탄화: 중첩된 리스트가 있을 때 중첩을 모두 제거하고 풀어서 1차원 리스트로 만드는 \n",
    "* [[1, 2, 3,], [4,[5, 6]], 7, [8, 9]] => [1, 2, 3, 4, 5, 6, 7, 8, 9]\n",
    "* 세 번 중첩된 리스트 => 1차원 리스트"
   ]
  },
  {
   "cell_type": "code",
   "execution_count": 26,
   "id": "c9df229c",
   "metadata": {},
   "outputs": [
    {
     "name": "stdout",
     "output_type": "stream",
     "text": [
      "원본:  [[1, 2, 3], [4, [5, 6]], 7, [8, 9]]\n",
      "변환:  [1, 2, 3, 4, [5, 6], 7, 8, 9]\n"
     ]
    }
   ],
   "source": [
    "# 리스트 평탄화하기(1)\n",
    "\n",
    "def flatten(data):\n",
    "    output = []\n",
    "    for item in data:\n",
    "        if type(item) == list:\n",
    "            output += item\n",
    "        else:\n",
    "            output.append(item)\n",
    "    return output\n",
    "\n",
    "example = [[1, 2, 3,], [4,[5, 6]], 7, [8, 9]]\n",
    "print(\"원본: \", example)\n",
    "print(\"변환: \", flatten(example))"
   ]
  },
  {
   "cell_type": "markdown",
   "id": "0cba7bec",
   "metadata": {},
   "source": [
    "여전히 [5, 6] 리스트가 포함되어 있음."
   ]
  },
  {
   "cell_type": "code",
   "execution_count": 27,
   "id": "6a168940",
   "metadata": {},
   "outputs": [
    {
     "name": "stdout",
     "output_type": "stream",
     "text": [
      "원본:  [[1, 2, 3], [4, [5, 6]], 7, [8, 9]]\n",
      "변환:  [1, 2, 3, 4, 5, 6, 7, 8, 9]\n"
     ]
    }
   ],
   "source": [
    "# 리스트 평탄화하기(2)\n",
    "\n",
    "def flatten(data):\n",
    "    output = []\n",
    "    for item in data:\n",
    "        if type(item) == list:\n",
    "            # flatten()함수를 재귀적으로 호출한다.\n",
    "            output += flatten(item)\n",
    "        else:\n",
    "            output.append(item)\n",
    "    return output\n",
    "\n",
    "example = [[1, 2, 3,], [4,[5, 6]], 7, [8, 9]]\n",
    "print(\"원본: \", example)\n",
    "print(\"변환: \", flatten(example))"
   ]
  }
 ],
 "metadata": {
  "kernelspec": {
   "display_name": "Python 3 (ipykernel)",
   "language": "python",
   "name": "python3"
  },
  "language_info": {
   "codemirror_mode": {
    "name": "ipython",
    "version": 3
   },
   "file_extension": ".py",
   "mimetype": "text/x-python",
   "name": "python",
   "nbconvert_exporter": "python",
   "pygments_lexer": "ipython3",
   "version": "3.11.11"
  }
 },
 "nbformat": 4,
 "nbformat_minor": 5
}
