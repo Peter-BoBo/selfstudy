{
 "cells": [
  {
   "cell_type": "markdown",
   "id": "08632e86",
   "metadata": {},
   "source": [
    "# 함수 고급\n",
    "* 튜플: 함수와 함께 많이 사용되는 리스트와 비슷한 자료형으로, 리스트와 다른 점은 **한번 결정된 요소는 바꿀 수 없다**\n",
    "* 람다: 함수를 1회용으로 간단하고 쉽게 선언하는 방법 "
   ]
  },
  {
   "cell_type": "markdown",
   "id": "9e11be6a",
   "metadata": {},
   "source": [
    "## 튜플\n",
    "(데이터, 데이터, 데이터, ...)\n",
    "* 불변, 메모리 효율, 안전한 데이터 저장 등\n",
    "* 함수의 다중 반환에 유용"
   ]
  },
  {
   "cell_type": "code",
   "execution_count": 2,
   "id": "8be42732",
   "metadata": {},
   "outputs": [
    {
     "data": {
      "text/plain": [
       "20"
      ]
     },
     "execution_count": 2,
     "metadata": {},
     "output_type": "execute_result"
    }
   ],
   "source": [
    "tuple_test = (10, 20, 30)\n",
    "tuple_test[0]"
   ]
  },
  {
   "cell_type": "code",
   "execution_count": 4,
   "id": "f666a163",
   "metadata": {},
   "outputs": [
    {
     "data": {
      "text/plain": [
       "20"
      ]
     },
     "execution_count": 4,
     "metadata": {},
     "output_type": "execute_result"
    }
   ],
   "source": [
    "tuple_test[1]"
   ]
  },
  {
   "cell_type": "code",
   "execution_count": 3,
   "id": "5cdaa9a6",
   "metadata": {},
   "outputs": [
    {
     "data": {
      "text/plain": [
       "30"
      ]
     },
     "execution_count": 3,
     "metadata": {},
     "output_type": "execute_result"
    }
   ],
   "source": [
    "tuple_test[2]"
   ]
  },
  {
   "cell_type": "code",
   "execution_count": 5,
   "id": "1e88c041",
   "metadata": {},
   "outputs": [
    {
     "ename": "TypeError",
     "evalue": "'tuple' object does not support item assignment",
     "output_type": "error",
     "traceback": [
      "\u001b[31m---------------------------------------------------------------------------\u001b[39m",
      "\u001b[31mTypeError\u001b[39m                                 Traceback (most recent call last)",
      "\u001b[36mCell\u001b[39m\u001b[36m \u001b[39m\u001b[32mIn[5]\u001b[39m\u001b[32m, line 1\u001b[39m\n\u001b[32m----> \u001b[39m\u001b[32m1\u001b[39m \u001b[43mtuple_test\u001b[49m\u001b[43m[\u001b[49m\u001b[32;43m0\u001b[39;49m\u001b[43m]\u001b[49m = \u001b[32m1\u001b[39m\n",
      "\u001b[31mTypeError\u001b[39m: 'tuple' object does not support item assignment"
     ]
    }
   ],
   "source": [
    "tuple_test[0] = 1"
   ]
  },
  {
   "cell_type": "markdown",
   "id": "c027023c",
   "metadata": {},
   "source": [
    "**튜플은 내부 요소 변경이 불가능하다.**"
   ]
  },
  {
   "cell_type": "markdown",
   "id": "3ce9363d",
   "metadata": {},
   "source": [
    "요소를 하나만 가지는 튜플을 선언하려면 쉼표를 넣어야한다. <br>\n",
    "(273, )"
   ]
  },
  {
   "cell_type": "markdown",
   "id": "251d3222",
   "metadata": {},
   "source": [
    "#### 괄호 없는 튜플\n",
    "\n",
    "* 튜플은 리스트와 달리, 괄호를 생략해도 튜플로 인식할 수 있는 경우 괄호 생략이 가능하다."
   ]
  },
  {
   "cell_type": "code",
   "execution_count": 7,
   "id": "67cdb79d",
   "metadata": {},
   "outputs": [
    {
     "name": "stdout",
     "output_type": "stream",
     "text": [
      "a:  10\n",
      "b:  20\n",
      "c:  10\n",
      "d:  20\n"
     ]
    }
   ],
   "source": [
    "# 리스트와 튜플의 특이한 사용\n",
    "[a, b] = [10, 20]\n",
    "(c, d) = (10, 20)\n",
    "\n",
    "print(\"a: \", a)\n",
    "print(\"b: \", b)\n",
    "print(\"c: \", c)\n",
    "print(\"d: \", d)"
   ]
  },
  {
   "cell_type": "code",
   "execution_count": 8,
   "id": "ed978262",
   "metadata": {},
   "outputs": [
    {
     "name": "stdout",
     "output_type": "stream",
     "text": [
      "# 괄호가 없는 튜플의 값과 자료형 출력\n",
      "# tuple_test: (10, 20, 30, 40)\n",
      "type(tuple_test): <class 'tuple'>\n",
      "\n",
      "# 괄호가 없는 튜플을 활용한 할당\n",
      "a: 10\n",
      "b: 20\n",
      "c: 30\n"
     ]
    }
   ],
   "source": [
    "# 괄호가 없는 튜플\n",
    "\n",
    "tuple_test = 10, 20, 30, 40\n",
    "print(\"# 괄호가 없는 튜플의 값과 자료형 출력\")\n",
    "print(\"# tuple_test:\", tuple_test)\n",
    "print(\"type(tuple_test):\", type(tuple_test))\n",
    "print()\n",
    "\n",
    "# 괄호가 없는 튜플 활용\n",
    "a, b, c = 10, 20, 30\n",
    "print(\"# 괄호가 없는 튜플을 활용한 할당\")\n",
    "print(\"a:\", a)\n",
    "print(\"b:\", b)\n",
    "print(\"c:\", c)"
   ]
  },
  {
   "cell_type": "markdown",
   "id": "940bcee2",
   "metadata": {},
   "source": [
    "괄호 없이 여러 값을 할당할 수 있어 자주 사용되는 형태이다"
   ]
  },
  {
   "cell_type": "code",
   "execution_count": 9,
   "id": "c18b9c9a",
   "metadata": {},
   "outputs": [
    {
     "name": "stdout",
     "output_type": "stream",
     "text": [
      "# 교환 전 값\n",
      "a:  10\n",
      "b:  20\n",
      "\n",
      "# 교환 후 값\n",
      "a:  20\n",
      "b:  10\n",
      "\n"
     ]
    }
   ],
   "source": [
    "# 변수의 값을 교환하는 튜플\n",
    "\n",
    "a, b = 10, 20\n",
    "\n",
    "print(\"# 교환 전 값\")\n",
    "print(\"a: \", a)\n",
    "print(\"b: \", b)\n",
    "print()\n",
    "\n",
    "# 값 교환\n",
    "\n",
    "a, b = b, a\n",
    "\n",
    "print(\"# 교환 후 값\")\n",
    "print(\"a: \", a)\n",
    "print(\"b: \", b)\n",
    "print()"
   ]
  },
  {
   "cell_type": "markdown",
   "id": "5a3e9d63",
   "metadata": {},
   "source": [
    "#### 튜플과 함수\n",
    "* 튜플은 함수의 리턴에 많이 사용한다.\n",
    "* 여러 개의 값을 리턴하고 할당할 수 있기 때문."
   ]
  },
  {
   "cell_type": "code",
   "execution_count": 10,
   "id": "bc1e4e1e",
   "metadata": {},
   "outputs": [
    {
     "name": "stdout",
     "output_type": "stream",
     "text": [
      "a:  10\n",
      "b:  20\n"
     ]
    }
   ],
   "source": [
    "# 여러 개의 값 리턴하기\n",
    "\n",
    "def test():\n",
    "    return (10, 20)\n",
    "\n",
    "a, b = test()\n",
    "\n",
    "print(\"a: \", a)\n",
    "print(\"b: \", b)"
   ]
  },
  {
   "cell_type": "markdown",
   "id": "dbb45e22",
   "metadata": {},
   "source": [
    "## 람다"
   ]
  },
  {
   "cell_type": "markdown",
   "id": "ebc97341",
   "metadata": {},
   "source": [
    "#### 함수의 매개변수로 함수 전달하기\n",
    "* 콜백 함수: 함수의 매개변수에 사용하는 함수"
   ]
  },
  {
   "cell_type": "code",
   "execution_count": 24,
   "id": "bb193358",
   "metadata": {},
   "outputs": [
    {
     "name": "stdout",
     "output_type": "stream",
     "text": [
      "안녕하세요\n",
      "안녕하세요\n",
      "안녕하세요\n",
      "안녕하세요\n",
      "안녕하세요\n",
      "안녕하세요\n",
      "안녕하세요\n",
      "안녕하세요\n",
      "안녕하세요\n",
      "안녕하세요\n"
     ]
    }
   ],
   "source": [
    "# 함수의 매개변수로 함수 전달하기\n",
    "\n",
    "\n",
    "# 매개변수로 받은 함수를 10번 호출하는 함수\n",
    "def call_10_times(func):\n",
    "    for i in range(10):\n",
    "        func()\n",
    "        \n",
    "# 간단한 출력하는 함수\n",
    "# 콜백함수\n",
    "def print_hello():\n",
    "    print(\"안녕하세요\")\n",
    "    \n",
    "# \n",
    "call_10_times(print_hello)조합하기"
   ]
  },
  {
   "cell_type": "markdown",
   "id": "30f6a0d3",
   "metadata": {},
   "source": [
    "#### filter() 함수와 map() 함수\n",
    "* 함수를 매개변수로 사용하는 대표적인 **표준 함수**\n",
    "* 표준 함수: 파이썬이 표준으로 제공하는 함수 (내장 함수라고도 부름)\n",
    "* map(): 리스트의 요소를 함수에 넣고 리턴된 값으로 새로운 리스트를 구성<br>\n",
    "**map(함수, 리스트)**\n",
    "* filter(): 리스트의 요소를 함수에 넣고 리턴된 값이 True인 것으로, 새로운 리스트를 구성<br>\n",
    "**filter(함수, 리스트)**"
   ]
  },
  {
   "cell_type": "code",
   "execution_count": 28,
   "id": "5fed0cbe",
   "metadata": {},
   "outputs": [
    {
     "name": "stdout",
     "output_type": "stream",
     "text": [
      "# map() 함수의 실행 결과\n",
      "# map(power, list_input_a): <map object at 0x000001DD932318D0>\n",
      "# map(power, list_input_a): [1, 4, 9, 16, 25]\n",
      "\n",
      "# filter() 함수의 실행 결과\n",
      "filter(under_3, list_input_a): <filter object at 0x000001DD93231780>\n",
      "filter(under_3, list_input_a): [1, 2]\n"
     ]
    }
   ],
   "source": [
    "# map() 함수와 filter() 함수\n",
    "\n",
    "def power(item):\n",
    "    return item * item\n",
    "def under_3(item):\n",
    "    return item < 3\n",
    "# 3 미만의 값 1, 2 = True\n",
    "\n",
    "list_input_a = [1, 2, 3, 4, 5]\n",
    "\n",
    "# map() 함수를 사용.\n",
    "output_a = map(power, list_input_a)\n",
    "print(\"# map() 함수의 실행 결과\")\n",
    "print(\"# map(power, list_input_a):\", output_a)\n",
    "print(\"# map(power, list_input_a):\", list(output_a))\n",
    "print()\n",
    "\n",
    "# filter() 함수를 사용.\n",
    "output_b = filter(under_3, list_input_a)\n",
    "\n",
    "print(\"# filter() 함수의 실행 결과\")\n",
    "print(\"filter(under_3, list_input_a):\", output_b)\n",
    "print(\"filter(under_3, list_input_a):\", list(output_b))"
   ]
  },
  {
   "cell_type": "markdown",
   "id": "41dd07fb",
   "metadata": {},
   "source": [
    "#### 람다의 개념\n",
    "\n",
    "* **'간단한 함수를 쉽게 선언하는 방법'**\n",
    "* 함수라는 '기능'을 매개변수로 전달할 때 유용<br>\n",
    "\n",
    "lambda **매개변수: 리턴값**"
   ]
  },
  {
   "cell_type": "code",
   "execution_count": 29,
   "id": "9b051894",
   "metadata": {},
   "outputs": [
    {
     "name": "stdout",
     "output_type": "stream",
     "text": [
      "# map() 함수의 실행 결과\n",
      "# map(power, list_input_a): <map object at 0x000001DD93232050>\n",
      "# map(power, list_input_a): [1, 4, 9, 16, 25]\n",
      "\n",
      "# filter() 함수의 실행 결과\n",
      "filter(under_3, list_input_a): <filter object at 0x000001DD932307C0>\n",
      "filter(under_3, list_input_a): [1, 2]\n"
     ]
    }
   ],
   "source": [
    "# 람다\n",
    "\n",
    "power = lambda x: x * x\n",
    "under_3 = lambda x: x < 3\n",
    "\n",
    "list_input_a = [1, 2, 3, 4, 5]\n",
    "\n",
    "# map() 함수를 사용.\n",
    "output_a = map(power, list_input_a)\n",
    "print(\"# map() 함수의 실행 결과\")\n",
    "print(\"# map(power, list_input_a):\", output_a)\n",
    "print(\"# map(power, list_input_a):\", list(output_a))\n",
    "print()\n",
    "\n",
    "# filter() 함수를 사용.\n",
    "output_b = filter(under_3, list_input_a)\n",
    "\n",
    "print(\"# filter() 함수의 실행 결과\")\n",
    "print(\"filter(under_3, list_input_a):\", output_b)\n",
    "print(\"filter(under_3, list_input_a):\", list(output_b))"
   ]
  },
  {
   "cell_type": "code",
   "execution_count": 1,
   "id": "4658f4b8",
   "metadata": {},
   "outputs": [
    {
     "name": "stdout",
     "output_type": "stream",
     "text": [
      "# map() 함수의 실행 결과\n",
      "# map(power, list_input_a): <map object at 0x00000219E5132CB0>\n",
      "# map(power, list_input_a): [1, 4, 9, 16, 25]\n",
      "\n",
      "# filter() 함수의 실행 결과\n",
      "filter(under_3, list_input_a): <filter object at 0x00000219E5131D50>\n",
      "filter(under_3, list_input_a): [1, 2]\n"
     ]
    }
   ],
   "source": [
    "# 인라인 람다\n",
    "\n",
    "list_input_a = [1, 2, 3, 4, 5]\n",
    "\n",
    "# map() 함수를 사용.\n",
    "# power() 함수를 선언하지도 않고, 매개변수로 바로 넣었다.\n",
    "output_a = map(lambda x: x * x, list_input_a)\n",
    "print(\"# map() 함수의 실행 결과\")\n",
    "print(\"# map(power, list_input_a):\", output_a)\n",
    "print(\"# map(power, list_input_a):\", list(output_a))\n",
    "print()\n",
    "\n",
    "# filter() 함수를 사용.\n",
    "# under_3() 함수를 선언하지도 않고, 매개변수로 바로 넣었다.\n",
    "output_b = filter(lambda x: x < 3, list_input_a)\n",
    "\n",
    "print(\"# filter() 함수의 실행 결과\")\n",
    "print(\"filter(under_3, list_input_a):\", output_b)\n",
    "print(\"filter(under_3, list_input_a):\", list(output_b))"
   ]
  },
  {
   "cell_type": "markdown",
   "id": "59287807",
   "metadata": {},
   "source": [
    "## 파일 처리\n",
    "\n",
    "* 파일\n",
    "  * 텍스트 파일 (텍스트 파일만 다뤄보자)\n",
    "  * 바이너리 파일"
   ]
  },
  {
   "cell_type": "markdown",
   "id": "58faf2f3",
   "metadata": {},
   "source": [
    "#### 파일 열고 닫기\n",
    "\n",
    "* 파일 열기<br>\n",
    "파일 객체 = open(문자열: 파일 경로, 문자열: 읽기 모드)\n",
    "\n",
    "* 첫 번째 매개변수에는 파일 경로를 입력\n",
    "* 두 번째 매개변수에는 모드를 지정\n",
    "* 모드\n",
    "  * w: write 모드(새로 쓰기 모드)\n",
    "  * a: append 모드(뒤에 이어서 쓰기 모드)\n",
    "  * r: read 모드(읽기 모드)\n",
    "* 파일 닫기<br>\n",
    "파일 객체.close()"
   ]
  },
  {
   "cell_type": "code",
   "execution_count": 30,
   "id": "fdc69add",
   "metadata": {},
   "outputs": [],
   "source": [
    "# 파일 열고 닫기\n",
    "file = open(\"basic.txt\", \"w\")\n",
    "\n",
    "# 파일에 텍스트 쓰기\n",
    "file.write(\"Hello Python Programming...!\")\n",
    "\n",
    "file.close()"
   ]
  },
  {
   "cell_type": "markdown",
   "id": "7d929fd7",
   "metadata": {},
   "source": [
    "#### with 키워드\n",
    "\n",
    "* with 구문이 종료될 때 자동으로 파일이 닫힌다.<br>\n",
    "with open(문자열: 파일 경로, 문자열: 모드) as 파일 객체:<br>\n",
    "&emsp; &nbsp;문장"
   ]
  },
  {
   "cell_type": "code",
   "execution_count": null,
   "id": "44995c04",
   "metadata": {},
   "outputs": [],
   "source": [
    "with open(\"basic.txt\", \"w\") as file:\n",
    "# 파일에 텍스트 쓰기\n",
    "    file.write(\"Hello Python Programming...!\")"
   ]
  },
  {
   "cell_type": "markdown",
   "id": "f0c10cea",
   "metadata": {},
   "source": [
    "#### 텍스트 읽기\n",
    "\n",
    "파일 객체.read()"
   ]
  },
  {
   "cell_type": "code",
   "execution_count": 31,
   "id": "2a41b45d",
   "metadata": {},
   "outputs": [
    {
     "name": "stdout",
     "output_type": "stream",
     "text": [
      "Hello Python Programming...!\n"
     ]
    }
   ],
   "source": [
    "# read() 함수로 텍스트 읽기\n",
    "\n",
    "with open(\"basic.txt\", \"r\") as file:\n",
    "    contents = file.read()\n",
    "print(contents)"
   ]
  },
  {
   "cell_type": "markdown",
   "id": "a4009f6a",
   "metadata": {},
   "source": [
    "#### 텍스트 한 줄씩 읽기\n",
    "* 데이터를 모두 읽어 들이기보다는 '한 번에 하나씩' 처리\n",
    "<br>\n",
    "\n",
    "for **한 줄을 나타내는 문자열** in **파일 객체**:<br>\n",
    "&emsp; &nbsp;**처리**"
   ]
  },
  {
   "cell_type": "code",
   "execution_count": 2,
   "id": "546f49e2",
   "metadata": {},
   "outputs": [],
   "source": [
    "# 랜덤하게 1000명의 키와 몸무게 만들기\n",
    "\n",
    "import random\n",
    "\n",
    "hanguls = list(\"가나다라마바사아자차카타파하\")\n",
    "\n",
    "with open(\"info.txt\", \"w\") as file:\n",
    "    for i in range(10):\n",
    "        name = random.choice(hanguls) + random.choice(hanguls)\n",
    "        weight = random.randrange(40, 100)\n",
    "        height = random.randrange(140, 200)\n",
    "        \n",
    "        file.write(\"{}, {}, {}\\n\".format(name, weight, height))"
   ]
  },
  {
   "cell_type": "code",
   "execution_count": 3,
   "id": "5bdd714c",
   "metadata": {},
   "outputs": [
    {
     "name": "stdout",
     "output_type": "stream",
     "text": [
      "자자, 87, 186\n",
      "파사, 42, 147\n",
      "나나, 90, 147\n",
      "가나, 40, 191\n",
      "사카, 62, 160\n",
      "다아, 77, 148\n",
      "다바, 91, 166\n",
      "하사, 52, 169\n",
      "사아, 88, 165\n",
      "타라, 48, 144\n",
      "\n"
     ]
    }
   ],
   "source": [
    "with open(\"info.txt\", \"r\") as file:\n",
    "        contents = file.read()\n",
    "print(contents)"
   ]
  },
  {
   "cell_type": "code",
   "execution_count": 5,
   "id": "c7ed5118",
   "metadata": {},
   "outputs": [
    {
     "name": "stdout",
     "output_type": "stream",
     "text": [
      "이름: 자자\n",
      "몸무게: 87\n",
      "키: 186\n",
      "BMI: 25.14741588622962\n",
      "결과: 과체중\n",
      "\n",
      "이름: 파사\n",
      "몸무게: 42\n",
      "키: 147\n",
      "BMI: 19.436345966958214\n",
      "결과: 정상 체중\n",
      "\n",
      "이름: 나나\n",
      "몸무게: 90\n",
      "키: 147\n",
      "BMI: 41.64931278633903\n",
      "결과: 과체중\n",
      "\n",
      "이름: 가나\n",
      "몸무게: 40\n",
      "키: 191\n",
      "BMI: 10.964611715687619\n",
      "결과: 저체중\n",
      "\n",
      "이름: 사카\n",
      "몸무게: 62\n",
      "키: 160\n",
      "BMI: 24.218749999999996\n",
      "결과: 정상 체중\n",
      "\n",
      "이름: 다아\n",
      "몸무게: 77\n",
      "키: 148\n",
      "BMI: 35.15339663988313\n",
      "결과: 과체중\n",
      "\n",
      "이름: 다바\n",
      "몸무게: 91\n",
      "키: 166\n",
      "BMI: 33.02366090869502\n",
      "결과: 과체중\n",
      "\n",
      "이름: 하사\n",
      "몸무게: 52\n",
      "키: 169\n",
      "BMI: 18.20664542558034\n",
      "결과: 저체중\n",
      "\n",
      "이름: 사아\n",
      "몸무게: 88\n",
      "키: 165\n",
      "BMI: 32.323232323232325\n",
      "결과: 과체중\n",
      "\n",
      "이름: 타라\n",
      "몸무게: 48\n",
      "키: 144\n",
      "BMI: 23.14814814814815\n",
      "결과: 정상 체중\n",
      "\n"
     ]
    }
   ],
   "source": [
    "# 반복문으로 파일 한 줄씩 읽기\n",
    "\n",
    "with open(\"info.txt\", \"r\") as file:\n",
    "    count = 0\n",
    "    for line in file:\n",
    "        # 변수 선언\n",
    "        if count >= 10:\n",
    "            break\n",
    "        (name, weight, height) = line.strip().split(\", \")\n",
    "        count += 1\n",
    "        # 데이터가 문제없는지 확인: 문제가 있으면 지나감\n",
    "        if (not name) or (not weight) or (not height):\n",
    "            continue\n",
    "        # 결과 계산\n",
    "        bmi = int(weight) / ((int(height) / 100) ** 2)\n",
    "        result = \"\"\n",
    "        if 25 <= bmi:\n",
    "            result = \"과체중\"\n",
    "        elif 18.5 <= bmi:\n",
    "            result = \"정상 체중\"\n",
    "        else:\n",
    "            result = \"저체중\"\n",
    "            \n",
    "        # 출력\n",
    "        print('\\n'.join([\n",
    "            \"이름: {}\",\n",
    "            \"몸무게: {}\",\n",
    "            \"키: {}\",\n",
    "            \"BMI: {}\",\n",
    "            \"결과: {}\"\n",
    "        ]).format(name, weight, height, bmi, result))\n",
    "        print()"
   ]
  },
  {
   "cell_type": "code",
   "execution_count": null,
   "id": "73986a6b",
   "metadata": {},
   "outputs": [],
   "source": [
    "with open(\"info.txt\", \"r\") as file:\n",
    "    count = 0  # 카운터 변수 추가\n",
    "    for line in file:\n",
    "        # 10명 처리 후 종료\n",
    "        if count >= 10:\n",
    "            break\n",
    "            \n",
    "        # 변수 선언\n",
    "        (name, weight, height) = line.strip().split(\", \")\n",
    "        \n",
    "        # 데이터가 문제없는지 확인: 문제가 있으면 지나감\n",
    "        if (not name) or (not weight) or (not height):\n",
    "            continue\n",
    "            \n",
    "        # 결과 계산\n",
    "        bmi = int(weight) / ((int(height) / 100) ** 2)\n",
    "        result = \"\"\n",
    "        if 25 <= bmi:\n",
    "            result = \"과체중\"\n",
    "        elif 18.5 <= bmi:\n",
    "            result = \"정상 체중\"\n",
    "        else:\n",
    "            result = \"저체중\"\n",
    "            \n",
    "        # 출력\n",
    "        print('\\n'.join([\n",
    "            \"이름: {}\",\n",
    "            \"몸무게: {}\",\n",
    "            \"키: {}\",\n",
    "            \"BMI: {}\",\n",
    "            \"결과: {}\"\n",
    "        ]).format(name, weight, height, bmi, result))\n",
    "        print()\n",
    "        \n",
    "        count += 1  # 카운터 증가"
   ]
  }
 ],
 "metadata": {
  "kernelspec": {
   "display_name": "Python 3 (ipykernel)",
   "language": "python",
   "name": "python3"
  },
  "language_info": {
   "codemirror_mode": {
    "name": "ipython",
    "version": 3
   },
   "file_extension": ".py",
   "mimetype": "text/x-python",
   "name": "python",
   "nbconvert_exporter": "python",
   "pygments_lexer": "ipython3",
   "version": "3.11.11"
  }
 },
 "nbformat": 4,
 "nbformat_minor": 5
}
